{
 "cells": [
  {
   "cell_type": "code",
   "execution_count": null,
   "metadata": {},
   "outputs": [],
   "source": [
    "#######################################\n",
    "Input:\n",
    "1. [11TBS|12TBS|13TBS|7TBS|1TBS|8TBS]R1.trimmed (read 1 female trimmed reads)\n",
    "2. [11TBS|12TBS|13TBS|7TBS|1TBS|8TBS]R2.trimmed (read 2 female trimmed reads)\n",
    "\n",
    "Function:\n",
    "Take all illumina trimmed female reads and merge them. This is done as a prerequisite for pilon polishing, \n",
    "which uses illumina data to polish the PacBio assembly.\n",
    "\n",
    "Output:\n",
    "1. r1fetrev_trimmed.fastq.gz (FASTQ.GZ file for read 1 trimmed female reads)\n",
    "2. r2fetrev_trimmed.fastq.gz (FASTQ.GZ file for read 2 trimmed female reads)\n",
    "#######################################"
   ]
  },
  {
   "cell_type": "code",
   "execution_count": 6,
   "metadata": {},
   "outputs": [
    {
     "name": "stdout",
     "output_type": "stream",
     "text": [
      "Job <334505> is submitted to default queue <normal>.\n",
      "Job <334506> is submitted to default queue <normal>.\n"
     ]
    }
   ],
   "source": [
    "#get all illumina female reads for fw and rv and merge \n",
    "fqdir=/powerplant/workspace/hramzr/DNAseq_mapping/reads_alignment/\n",
    "logdir=/powerplant/workspace/hramzr/github/Trevally/PacBio/log/\n",
    "\n",
    "ls  $fqdir | egrep \"11TBS|12TBS|13TBS|7TBS|1TBS|8TBS\" | egrep \"R1.trimmed\">r1fe\n",
    "ls  $fqdir | egrep \"11TBS|12TBS|13TBS|7TBS|1TBS|8TBS\" | egrep \"R2.trimmed\">r2fe\n",
    "\n",
    "\n",
    "cat r1fe | awk -v \"d=$fqdir\" '{print d$1}' | tr \"\\n\" \" \">r1fecat\n",
    "\n",
    "cat r2fe | awk -v \"d=$fqdir\" '{print d$1}' | tr \"\\n\" \" \">r2fecat\n",
    "\n",
    "r1cat=\"$(cat r1fecat)\"\n",
    "r2cat=\"$(cat r2fecat)\"\n",
    "\n",
    "bsub -o ${logdir}fqmerger1.out -e ${logdir}fqmerger1.err \\\n",
    "\"cat $r1cat >r1fetrev_trimmed.fastq.gz\" \n",
    "\n",
    "bsub -o ${logdir}fqmerger2.out -e ${logdir}fqmerger2.err \\\n",
    "\"cat $r2cat >r2fetrev_trimmed.fastq.gz\"\n",
    "\n",
    "mv r1fetrev_trimmed.fastq.gz /workspace/hramzr/github/Trevally/PacBio/fastq/\n",
    "mv r2fetrev_trimmed.fastq.gz /workspace/hramzr/github/Trevally/PacBio/fastq/"
   ]
  },
  {
   "cell_type": "code",
   "execution_count": null,
   "metadata": {},
   "outputs": [],
   "source": [
    "#######################################\n",
    "Input:\n",
    "1. fetreval.fasta.contigs.fasta (FASTA reference file)\n",
    "\n",
    "Function:\n",
    "Index the reference sequence as a prerequisite for polishing with illumina reads in Pilon.\n",
    "\n",
    "Output:\n",
    "1. fetreval.fasta.contigs.fasta.fai (Indexed FASTA reference file)\n",
    "#######################################"
   ]
  },
  {
   "cell_type": "code",
   "execution_count": 1,
   "metadata": {},
   "outputs": [
    {
     "name": "stdout",
     "output_type": "stream",
     "text": [
      "Job <705668> is submitted to default queue <lowpriority>.\n"
     ]
    }
   ],
   "source": [
    "#pre-polish process align against ref CANU DEFAULT\n",
    "ref=/workspace/hramzr/github/Trevally/PacBio/polishing/arrow_out/consensus_canu_filtered_7.fasta\n",
    "r1=/workspace/hramzr/github/Trevally/PacBio/masurca/r1fetrev.fastq.gz\n",
    "r2=/workspace/hramzr/github/Trevally/PacBio/masurca/r2fetrev.fastq.gz\n",
    "pdir=/workspace/hramzr/github/Trevally/PacBio/polishing/\n",
    "module load bwa/0.7.17\n",
    "bsub -o log/bwaind.out -e log/bwaind.err \\\n",
    "\"bwa index $ref\""
   ]
  },
  {
   "cell_type": "code",
   "execution_count": null,
   "metadata": {},
   "outputs": [],
   "source": [
    "#######################################\n",
    "Input:\n",
    "1. fetreval.fasta.contigs.fasta (FASTA reference file)\n",
    "2. r1fetrev_trimmed.fastq.gz (FASTQ.GZ file for read 1 trimmed female reads)\n",
    "3. r2fetrev_trimmed.fastq.gz (FASTQ.GZ file for read 2 trimmed female reads)\n",
    "\n",
    "Function:\n",
    "Map the read 1 and read 2 mapped reads against the reference sequence to create a mapped bam file.\n",
    "\n",
    "Output:\n",
    "1. mapped_canu_default.bam (bam file with mapped reads)\n",
    "#######################################"
   ]
  },
  {
   "cell_type": "code",
   "execution_count": 2,
   "metadata": {},
   "outputs": [
    {
     "name": "stdout",
     "output_type": "stream",
     "text": [
      "bwa/0.7.15(22):ERROR:150: Module 'bwa/0.7.15' conflicts with the currently loaded module(s) 'bwa/0.7.17'\n",
      "bwa/0.7.15(22):ERROR:102: Tcl command execution failed: conflict ${appname}\n",
      "\n",
      "Job <705749> is submitted to default queue <lowpriority>.\n"
     ]
    }
   ],
   "source": [
    "#mappin it\n",
    "module load samtools/1.9\n",
    "module load bwa/0.7.15\n",
    "\n",
    "ref=/workspace/hramzr/github/Trevally/PacBio/polishing/arrow_out/consensus_canu_filtered_7.fasta\n",
    "r1=/workspace/hramzr/github/Trevally/PacBio/fastq/r1fetrev_trimmed.fastq.gz\n",
    "r2=/workspace/hramzr/github/Trevally/PacBio/fastq/r2fetrev_trimmed.fastq.gz\n",
    "pdir=/workspace/hramzr/github/Trevally/PacBio/polishing/bwa_mem_out/\n",
    "bsub -o log/bwamap.out -e log/bwamap.err -J \"bwamem\" -n 8 \\\n",
    "\"bwa mem -t 8 \\\n",
    "$ref $r1 $r2 \\\n",
    "| samtools view -Su - | samtools sort - -o ${pdir}mapped_arrow_filtered7.bam\""
   ]
  },
  {
   "cell_type": "code",
   "execution_count": null,
   "metadata": {},
   "outputs": [],
   "source": [
    "#######################################\n",
    "Input:\n",
    "1. mapped_canu_default.bam (bam file with mapped reads)\n",
    "\n",
    "Function:\n",
    "Index the mapped bam file, which is a prerequisite to running Pilon.\n",
    "\n",
    "Output:\n",
    "1. mapped_canu_default.bam.bai (Indexed bam file with mapped reads)\n",
    "#######################################"
   ]
  },
  {
   "cell_type": "code",
   "execution_count": 1,
   "metadata": {},
   "outputs": [
    {
     "name": "stdout",
     "output_type": "stream",
     "text": [
      "Job <706219> is submitted to default queue <lowpriority>.\n"
     ]
    }
   ],
   "source": [
    "# bsub -o log/bamind.out -e log/bamind.err \\\n",
    "#index samtool files\n",
    "pdir=/workspace/hramzr/github/Trevally/PacBio/polishing/bwa_mem_out/\n",
    "module load samtools/1.9\n",
    "bsub -o log/bamind.out -e log/bamind.err \\\n",
    "\"samtools index ${pdir}mapped_arrow_filtered7.bam\""
   ]
  },
  {
   "cell_type": "code",
   "execution_count": null,
   "metadata": {},
   "outputs": [],
   "source": [
    "#######################################\n",
    "Input:\n",
    "1. mapped_canu_default.bam (bam file with mapped reads)\n",
    "\n",
    "Function:\n",
    "Polish the assembly reference file with the mapped read file, which contains female illumina reads.\n",
    "\n",
    "Output:\n",
    "\n",
    "1. pilon.fasta (Consensus file after polishing)\n",
    "#######################################"
   ]
  },
  {
   "cell_type": "code",
   "execution_count": 1,
   "metadata": {},
   "outputs": [
    {
     "name": "stdout",
     "output_type": "stream",
     "text": [
      "Job <717312> is submitted to default queue <lowpriority>.\n"
     ]
    }
   ],
   "source": [
    "module purge\n",
    "module load pilon/1.20\n",
    "pdir=/workspace/hramzr/github/Trevally/PacBio/polishing/bwa_mem_out/mapped_arrow_filtered7.bam\n",
    "ref=/workspace/hramzr/github/Trevally/PacBio/polishing/arrow_out/consensus_canu_filtered_7.fasta\n",
    "pil=/software/bioinformatics/pilon-1.20/pilon-1.20.jar\n",
    "outdir=/workspace/hramzr/github/Trevally/PacBio/polishing/pilon_out/filtered_7_AP_filtered/\n",
    "logdir=/workspace/hramzr/github/Trevally/PacBio/log/\n",
    "bsub -o ${logdir}pilon.out -e ${logdir}pilon.err -J \"Pilon\" \\\n",
    "\"java -jar -Xmx96G $pil --genome $ref --frags $pdir\""
   ]
  },
  {
   "cell_type": "code",
   "execution_count": 10,
   "metadata": {},
   "outputs": [
    {
     "name": "stdout",
     "output_type": "stream",
     "text": [
      "/powerplant/workspace/hramzr/github/Trevally/PacBio/polishing\n"
     ]
    }
   ],
   "source": [
    "pwd"
   ]
  }
 ],
 "metadata": {
  "kernelspec": {
   "display_name": "Bash",
   "language": "bash",
   "name": "bash"
  },
  "language_info": {
   "codemirror_mode": "shell",
   "file_extension": ".sh",
   "mimetype": "text/x-sh",
   "name": "bash"
  }
 },
 "nbformat": 4,
 "nbformat_minor": 4
}
