{
 "cells": [
  {
   "cell_type": "markdown",
   "metadata": {},
   "source": [
    "# Output\n",
    "REF: http://catchenlab.life.illinois.edu/stacks/comp/process_radtags.php"
   ]
  },
  {
   "cell_type": "code",
   "execution_count": null,
   "metadata": {},
   "outputs": [],
   "source": [
    "mkdir GBS/indv_trev\n",
    "mkdir GBS/stacks_log\n",
    "mkdir GBS/barcodes"
   ]
  },
  {
   "cell_type": "code",
   "execution_count": null,
   "metadata": {},
   "outputs": [],
   "source": [
    "barcode=/powerplant/workspace/cfnnvt/GBS/STACKS/Brood/barcodes.txt\n",
    "cat $barcode"
   ]
  },
  {
   "cell_type": "markdown",
   "metadata": {},
   "source": [
    "# Check available modules"
   ]
  },
  {
   "cell_type": "code",
   "execution_count": null,
   "metadata": {},
   "outputs": [],
   "source": [
    "module avail"
   ]
  },
  {
   "cell_type": "markdown",
   "metadata": {},
   "source": [
    "# Important directories"
   ]
  },
  {
   "cell_type": "code",
   "execution_count": null,
   "metadata": {},
   "outputs": [],
   "source": [
    "module load stacks/2.2\n",
    "sn_gbs=/input/genomic/fish/Chrysophrys/auratus/GBS/2015/\n",
    "bc_trev=/powerplant/workspace/cfnnvt/OLD/Genomics/OLD/STACKS/Offspring/barcodes/\n",
    "GBS_TR_INPUT1=/input/genomic/fish/Caranx/ignobilis/GBS/AGRF_CAGRF17315_CCC44ANXX\n",
    "GBS_TR_INPUT2=/input/genomic/fish/Caranx/ignobilis/GBS/AGRF_CAGRF17315_CCC51ANXX\n",
    "GBS_TR_INPUT3=/input/genomic/fish/Pseudocaranx/georgianus/GBS/AGRF_CAGRF16654_CC8M4ANXX/\n",
    "GBS_SN_INPUT=/input/genomic/fish/Chrysophrys/auratus/GBS/2015/\n",
    "adaptors=/workspace/ComparativeDataSources/Illumina/Adapters/TruSeqAdapters.fasta\n",
    "ENZYME='pstI'"
   ]
  },
  {
   "cell_type": "markdown",
   "metadata": {},
   "source": [
    "# Make barcodes file with all different barcode paths for trevally"
   ]
  },
  {
   "cell_type": "code",
   "execution_count": null,
   "metadata": {},
   "outputs": [],
   "source": [
    "barcodes_separate_trev=/powerplant/workspace/cfnnvt/OLD/Genomics/OLD/STACKS/Offspring/barcodes/\n",
    "find $barcodes_separate_trev -type f -name \"*.txt\">GBS/barcodes/barcodes_trevally.txt\n",
    "\n",
    "ls $barcodes_separate_trev"
   ]
  },
  {
   "cell_type": "code",
   "execution_count": null,
   "metadata": {},
   "outputs": [],
   "source": [
    "barcodes_separate_sn=/powerplant/workspace/cfnnvt/OLD/Genomics/OLD/Snapper/barcodes/DA/\n",
    "find $barcodes_separate_sn -type f -name \"*.txt\">GBS/barcodes/barcodes_snapper.txt\n",
    "ls /input/genomic/fish/Chrysophrys/auratus/GBS/2015"
   ]
  },
  {
   "cell_type": "markdown",
   "metadata": {},
   "source": [
    "# Make raw dirs per lane"
   ]
  },
  {
   "cell_type": "code",
   "execution_count": null,
   "metadata": {},
   "outputs": [],
   "source": [
    "for LANE in {1..8}\n",
    "do\n",
    "mkdir /workspace/hramzr/2_Phd_PROJECT/GBS/raw_snap/lane${LANE}\n",
    "done\n",
    "\n",
    "for LANE in {1..12}\n",
    "do\n",
    "mkdir /workspace/hramzr/2_Phd_PROJECT/GBS/raw_trev/lane${LANE}\n",
    "done"
   ]
  },
  {
   "cell_type": "markdown",
   "metadata": {},
   "source": [
    "# fill with raw divided by lane pooled fq"
   ]
  },
  {
   "cell_type": "code",
   "execution_count": null,
   "metadata": {},
   "outputs": [],
   "source": [
    "sn_gbs=/input/genomic/fish/Chrysophrys/auratus/GBS/2015\n",
    "for LANE in {1..8} \n",
    "do \n",
    "bsub \\\n",
    "-e rs.e -J \"RS\" \\\n",
    "\"cp ${sn_gbs}/*L00${LANE}* /workspace/hramzr/2_Phd_PROJECT/GBS/raw_snap/lane${LANE}\"\n",
    "done\n"
   ]
  },
  {
   "cell_type": "code",
   "execution_count": null,
   "metadata": {},
   "outputs": [],
   "source": [
    "GBS_TR_INPUT1=/input/genomic/fish/Caranx/ignobilis/GBS/AGRF_CAGRF17315_CCC44ANXX\n",
    "GBS_TR_INPUT2=/input/genomic/fish/Caranx/ignobilis/GBS/AGRF_CAGRF17315_CCC51ANXX\n",
    "\n",
    "for LANE in {1..12} \n",
    "do \n",
    "bsub \\\n",
    "-e rt.e \\\n",
    "\"if ((${LANE} < 9)); then \n",
    "cp ${GBS_TR_INPUT1}/*L00${LANE}* /workspace/hramzr/2_Phd_PROJECT/GBS/raw_trev/lane${LANE} \n",
    "fi \n",
    "if ((${LANE} > 9)); then \n",
    "cp ${GBS_TR_INPUT2}/*${LANE}* /workspace/hramzr/2_Phd_PROJECT/GBS/raw_trev/lane${LANE} \n",
    "fi\" \n",
    "done\n"
   ]
  },
  {
   "cell_type": "markdown",
   "metadata": {},
   "source": [
    "# Make barcode files assembled per lane"
   ]
  },
  {
   "cell_type": "code",
   "execution_count": null,
   "metadata": {},
   "outputs": [],
   "source": [
    "barcodes_separate_sn=/powerplant/workspace/cfnnvt/OLD/Genomics/OLD/Snapper/barcodes/DA/\n",
    "ls ${barcodes_separate_sn}P1"
   ]
  },
  {
   "cell_type": "code",
   "execution_count": null,
   "metadata": {},
   "outputs": [],
   "source": [
    "barcodes_separate_sn=/powerplant/workspace/cfnnvt/OLD/Genomics/OLD/Snapper/barcodes/DA/\n",
    "for LANE in {1..8}\n",
    "do\n",
    "find ${barcodes_separate_sn}P${LANE} -name '*.txt' -exec cat {} \\;>GBS/barcodes/sn_barcode_${LANE}  \n",
    "done\n",
    "\n",
    "\n",
    "barcodes_separate_trev=/powerplant/workspace/cfnnvt/OLD/Genomics/OLD/STACKS/Offspring/barcodes/\n",
    "for LANE in {1..12}\n",
    "do\n",
    "find ${barcodes_separate_trev}plate${LANE} -name '*.txt' -exec cat {} \\;>GBS/barcodes/tr_barcode_${LANE}  \n",
    "done\n",
    "\n",
    "#fix barcode file errors in snapper\n",
    "mv /workspace/hramzr/2_Phd_PROJECT/GBS/barcodes/sn_barcode_6 //workspace/hramzr/2_Phd_PROJECT/GBS/tmp\n",
    "sed -e 's/[[:space:]]*$//' /workspace/hramzr/2_Phd_PROJECT/GBS/tmp/sn_barcode_6 | \n",
    "sed '/^$/d' | sed 's/04G/04\\nG/g'>/workspace/hramzr/2_Phd_PROJECT/GBS/barcodes/sn_barcode_6\n",
    "rm /workspace/hramzr/2_Phd_PROJECT/GBS/tmp/sn_barcode_6\n",
    "#-------------------------------------"
   ]
  },
  {
   "cell_type": "code",
   "execution_count": null,
   "metadata": {},
   "outputs": [],
   "source": [
    "cat GBS/barcodes/barcodes_trevally.txt"
   ]
  },
  {
   "cell_type": "code",
   "execution_count": null,
   "metadata": {},
   "outputs": [],
   "source": [
    "barcodes_separate_trev=/powerplant/workspace/cfnnvt/OLD/Genomics/OLD/STACKS/Offspring/barcodes/\n",
    "find $barcodes_separate_trev -name '*.txt' -exec cat {} \\;>GBS/barcodes/barcodes_trevally_c.txt\n",
    "sed -e 's/[[:space:]]*$//' GBS/barcodes/barcodes_trevally_c.txt | sed '/^$/d'>GBS/barcodes/barcodes_trevally.txt\n",
    "rm GBS/barcodes/barcodes_trevally_c.txt"
   ]
  },
  {
   "cell_type": "code",
   "execution_count": null,
   "metadata": {},
   "outputs": [],
   "source": [
    "cat GBS/barcodes/barcodes_trevally.txt"
   ]
  },
  {
   "cell_type": "markdown",
   "metadata": {},
   "source": [
    "# Make barcodes file with all dirrent barcode paths for trevally gbs by Igor"
   ]
  },
  {
   "cell_type": "code",
   "execution_count": null,
   "metadata": {},
   "outputs": [],
   "source": [
    "barcodes_separate_ig=/powerplant/workspace/cfnnvt/OLD/Genomics/OLD/Snapper/barcodes/\n",
    "find ${barcodes_separate_ig}*.txt>GBS/barcodes/barcodes_trevally_ig.txt"
   ]
  },
  {
   "cell_type": "code",
   "execution_count": null,
   "metadata": {},
   "outputs": [],
   "source": [
    "barcodes_separate_ig=/powerplant/workspace/cfnnvt/OLD/Genomics/OLD/Snapper/barcodes/\n",
    "find $barcodes_separate_ig -name '*.txt' -exec cat {} \\;>GBS/barcodes/barcodes_trevally_ig_c.txt\n",
    "cat GBS/barcodes/barcodes_trevally_ig_c.txt | sed 's/04G/04\\nG/g' | sed '/^$/d'>barcodes_trevally_ig.txt\n",
    "\n",
    "# sed 's/ *$//' GBS/barcodes/barcodes_trevally_ig_c.txt>GBS/barcodes/barcodes_trevally_ig.txt\n",
    "# rm GBS/barcodes/barcodes_trevally_ig_c.txt"
   ]
  },
  {
   "cell_type": "code",
   "execution_count": null,
   "metadata": {},
   "outputs": [],
   "source": [
    "cat GBS/barcodes/barcodes_trevally_ig_c.txt"
   ]
  },
  {
   "cell_type": "markdown",
   "metadata": {},
   "source": [
    "# Make barcodes file with all different barcode paths for Snapper\n"
   ]
  },
  {
   "cell_type": "code",
   "execution_count": 15,
   "metadata": {},
   "outputs": [
    {
     "name": "stdout",
     "output_type": "stream",
     "text": [
      "GAATACCA\t14273828\n",
      "GAGCG\t14093056\n",
      "TTGTCCTCA\t14093056\n",
      "GGAACAAGT\t12318007\n",
      "ATGAACA\t15092892\n",
      "GAATACCA\t12512263\n",
      "GAACGACCT\t14598073\n",
      "CACCATGAA\t14512803\n",
      "AACGAACAT\t14513579\n",
      "TAGACCA\t14320070\n",
      "GTTCA\t13274516\n",
      "GTAACA\t12558052\n",
      "TCCGACA\t11553304\n",
      "ATTG\t12317803\n",
      "CCACCTCGT\t12318007\n",
      "ACATGCA\t11553304\n",
      "GGAACAAT\t14278584\n",
      "TTGTCCTCA\t14318043\n",
      "AACAGAATA\t14575383\n",
      "AACGAACAT\t14513579\n",
      "TTGCTTACA\t14318043\n",
      "GGAACAAT\t12555796\n",
      "ACATA\t14278584\n",
      "CTCAG\t12317803\n",
      "CGGCA\t12555032\n",
      "GAGCG\t13515823\n",
      "ACATA\t12555796\n",
      "TGGCCGCA\t12091780\n",
      "GGAACAAT\t12558052\n",
      "GGATCAA\t14840367\n",
      "TGATCA\t15273620\n",
      "GGACTA\t12512263\n",
      "ACATA\t15092892\n",
      "GGCGG\t15273620\n",
      "ACATGCA\t14840367\n",
      "ACTGGTGGT\t14575383\n",
      "TGCG\t14512803\n",
      "ACTGGTGGT\t12555032\n",
      "GGTTGGTCA\t14273828\n",
      "GGAACAAT\t14320070\n",
      "ACATA\t13274516\n",
      "TTGA\t13515823\n",
      "GAATACA\t12091780\n"
     ]
    }
   ],
   "source": [
    "barcodes_separate_sn=/powerplant/workspace/cfnnvt/OLD/Genomics/OLD/Snapper/barcodes/DA/\n",
    "cat ${DA}barcodes_snapper.txt"
   ]
  },
  {
   "cell_type": "code",
   "execution_count": null,
   "metadata": {},
   "outputs": [],
   "source": [
    "barcodes_separate_sn=/powerplant/workspace/cfnnvt/OLD/Genomics/OLD/Snapper/barcodes/DA/\n",
    "find $barcodes_separate_sn -type f -name \"*.txt\">GBS/barcodes/barcodes_snapper.txt"
   ]
  },
  {
   "cell_type": "code",
   "execution_count": 17,
   "metadata": {},
   "outputs": [],
   "source": [
    "barcodes_separate_sn=/powerplant/workspace/cfnnvt/OLD/Genomics/OLD/Snapper/barcodes/DA/\n",
    "find $barcodes_separate_sn -name '*.txt' -exec cat {} \\;>GBS/barcodes/barcodes_snapper_c.txt\n",
    "cat GBS/barcodes/barcodes_snapper_c.txt | sed 's/04G/04\\nG/g' | sed '/^$/d'>GBS/barcodes/barcodes_snapper.txt\n",
    "\n",
    "# sed -e 's/[[:space:]]*$//' GBS/barcodes/barcodes_snapper_c.txt>GBS/barcodes/barcodes_snapper_c2.txt\n",
    "# cat GBS/barcodes/barcodes_snapper_c2.txt | sed '/^$/d'>GBS/barcodes/barcodes_snapper.txt\n",
    "# rm GBS/barcodes/barcodes_snapper_c.txt\n",
    "# rm GBS/barcodes/barcodes_snapper_c2.txt"
   ]
  },
  {
   "cell_type": "code",
   "execution_count": null,
   "metadata": {},
   "outputs": [],
   "source": [
    "barcodes_separate_sn=/powerplant/workspace/cfnnvt/OLD/Genomics/OLD/Snapper/barcodes/DA/\n",
    "cat ${barcodes_separate_sn}/P1/*.txt"
   ]
  },
  {
   "cell_type": "code",
   "execution_count": null,
   "metadata": {},
   "outputs": [],
   "source": [
    "cat GBS/barcodes/barcodes_snapper.txt"
   ]
  },
  {
   "cell_type": "markdown",
   "metadata": {},
   "source": [
    "# Create loops to run barcodes in  the trevally directories 1 and 2"
   ]
  },
  {
   "cell_type": "code",
   "execution_count": null,
   "metadata": {},
   "outputs": [],
   "source": [
    "#Create loop for Trev_input file 1\n",
    "module load stacks/2.2\n",
    "\n",
    "while read -r barcode\n",
    "do\n",
    "bsub \\\n",
    "-o GBS/stacks_log/stacks1.out -e GBS/stacks_log/stacks1.err -J \"demultiplex AGRF_CAGRF17315_CCC44ANXX\" \\\n",
    "\"process_radtags \\\n",
    "-p ${GBS_TR_INPUT1} \\\n",
    "-b ${barcode} \\\n",
    "-o GBS/indv_trev/1/ \\\n",
    "--renz_1 'pstI' \\\n",
    "--renz_2 'mspI' \\\n",
    "-r \\\n",
    "-c\"\n",
    "done < GBS/barcodes/barcodes_trevally.txt\n",
    "#Create loop for Trev_input file 2\n",
    "while read -r barcode\n",
    "do\n",
    "bsub \\\n",
    "-o GBS/stacks_log/stacks2.out -e GBS/stacks_log/stacks2.err -J \"demultiplex AGRF_CAGRF17315_CCC51ANXX\" \\\n",
    "\"process_radtags \\\n",
    "-p ${GBS_TR_INPUT2} \\\n",
    "-b ${barcode} \\\n",
    "-o GBS/indv_trev/2/ \\\n",
    "--renz_1 'pstI' \\\n",
    "--renz_2 'mspI' \\\n",
    "-r \\\n",
    "-c\"\n",
    "done < GBS/barcodes/barcodes_trevally.txt\n"
   ]
  },
  {
   "cell_type": "code",
   "execution_count": null,
   "metadata": {},
   "outputs": [],
   "source": [
    "#Create loop for Trev_input file 1\n",
    "ENZYME='pstI'\n",
    "while read -r barcode\n",
    "do\n",
    "bsub \\\n",
    "-o GBS/stacks_log/stacks1.out -e GBS/stacks_log/stacks1.err -J \"demultiplex AGRF_CAGRF17315_CCC44ANXX\" \\\n",
    "\"process_radtags \\\n",
    "-p ${GBS_TR_INPUT1} \\\n",
    "-b ${barcode} \\\n",
    "-o GBS/indv_trev/1/ \\\n",
    "-e ${ENZYME} \\\n",
    "-q \\\n",
    "--adapter_1 ${adaptors} \\\n",
    "-c\"\n",
    "done < GBS/barcodes/barcodes_trevally.txt\n",
    "\n",
    "\n",
    "#Create loop for Trev_input file 2\n",
    "ENZYME='pstI'\n",
    "while read -r barcode\n",
    "do\n",
    "bsub \\\n",
    "-o GBS/stacks_log/stacks2.out -e GBS/stacks_log/stacks2.err -J \"demultiplex AGRF_CAGRF17315_CCC51ANXX\" \\\n",
    "\"process_radtags \\\n",
    "-p ${GBS_TR_INPUT2} \\\n",
    "-b ${barcode} \\\n",
    "-o GBS/indv_trev/2/ \\\n",
    "-e ${ENZYME} \\\n",
    "-q \\\n",
    "--adapter_1 ${adaptors} \\\n",
    "-c\"\n",
    "done < GBS/barcodes/barcodes_trevally.txt"
   ]
  },
  {
   "cell_type": "markdown",
   "metadata": {},
   "source": [
    "## IGOR TREV directory 3"
   ]
  },
  {
   "cell_type": "code",
   "execution_count": null,
   "metadata": {},
   "outputs": [],
   "source": [
    "# Create loop for Trev_input file 3\n",
    "ENZYME='pstI'\n",
    "barcode=GBS/barcodes/barcodes_trevally_ig.txt\n",
    "bsub \\\n",
    "-o GBS/stacks_log/stacks3.out -e GBS/stacks_log/stacks3.err -J \"demultiplex AGRF_CAGRF16654_CC8M4ANXX\" \\\n",
    "\"process_radtags \\\n",
    "-p ${GBS_TR_INPUT3} \\\n",
    "-b ${barcode} \\\n",
    "-o GBS/indv_trev/3/ \\\n",
    "-e ${ENZYME} \\\n",
    "-q \\\n",
    "-c\"\n"
   ]
  },
  {
   "cell_type": "code",
   "execution_count": null,
   "metadata": {},
   "outputs": [],
   "source": [
    "# # Create loop for Trev_input file 3\n",
    "# ENZYME='pstI'\n",
    "# while read -r barcode\n",
    "# do\n",
    "# bsub \\\n",
    "# -o GBS/stacks_log/stacks3.out -e GBS/stacks_log/stacks3.err -J \"demultiplex AGRF_CAGRF16654_CC8M4ANXX\" \\\n",
    "# \"process_radtags \\\n",
    "# -p ${GBS_TR_INPUT3} \\\n",
    "# -b ${barcode} \\\n",
    "# -o GBS/indv_trev/3/ \\\n",
    "# -e ${ENZYME} \\\n",
    "# -q \\\n",
    "# -c\"\n",
    "# done < GBS/barcodes/barcodes_trevally_ig.txt"
   ]
  },
  {
   "cell_type": "markdown",
   "metadata": {},
   "source": [
    "## Create loop for snapper GBS dir"
   ]
  },
  {
   "cell_type": "code",
   "execution_count": 18,
   "metadata": {},
   "outputs": [
    {
     "name": "stdout",
     "output_type": "stream",
     "text": [
      "GAATACCA\t14273828\n",
      "GAGCG\t14093056\n",
      "TTGTCCTCA\t14093056\n",
      "GGAACAAGT\t12318007\n",
      "ATGAACA\t15092892\n",
      "GAATACCA\t12512263\n",
      "GAACGACCT\t14598073\n",
      "CACCATGAA\t14512803\n",
      "AACGAACAT\t14513579\n",
      "TAGACCA\t14320070\n",
      "GTTCA\t13274516\n",
      "GTAACA\t12558052\n",
      "TCCGACA\t11553304\n",
      "ATTG\t12317803\n",
      "CCACCTCGT\t12318007\n",
      "ACATGCA\t11553304\n",
      "GGAACAAT\t14278584\n",
      "TTGTCCTCA\t14318043\n",
      "AACAGAATA\t14575383\n",
      "AACGAACAT\t14513579\n",
      "TTGCTTACA\t14318043\n",
      "GGAACAAT\t12555796\n",
      "ACATA\t14278584\n",
      "CTCAG\t12317803\n",
      "CGGCA\t12555032\n",
      "GAGCG\t13515823\n",
      "ACATA\t12555796\n",
      "TGGCCGCA\t12091780\n",
      "GGAACAAT\t12558052\n",
      "GGATCAA\t14840367\n",
      "TGATCA\t15273620\n",
      "GGACTA\t12512263\n",
      "ACATA\t15092892\n",
      "GGCGG\t15273620\n",
      "ACATGCA\t14840367\n",
      "ACTGGTGGT\t14575383\n",
      "TGCG\t14512803\n",
      "ACTGGTGGT\t12555032\n",
      "GGTTGGTCA\t14273828\n",
      "GGAACAAT\t14320070\n",
      "ACATA\t13274516\n",
      "TTGA\t13515823\n",
      "GAATACA\t12091780\n"
     ]
    }
   ],
   "source": [
    "cat GBS/barcodes/barcodes_snapper.txt"
   ]
  },
  {
   "cell_type": "code",
   "execution_count": 20,
   "metadata": {},
   "outputs": [
    {
     "name": "stdout",
     "output_type": "stream",
     "text": [
      "Job <269495> is submitted to default queue <lowpriority>.\n",
      "Job <269496> is submitted to default queue <lowpriority>.\n",
      "Job <269497> is submitted to default queue <lowpriority>.\n",
      "Job <269498> is submitted to default queue <lowpriority>.\n",
      "Job <269499> is submitted to default queue <lowpriority>.\n",
      "Job <269500> is submitted to default queue <lowpriority>.\n",
      "Job <269501> is submitted to default queue <lowpriority>.\n",
      "Job <269502> is submitted to default queue <lowpriority>.\n"
     ]
    }
   ],
   "source": [
    "module load stacks/2.2\n",
    "\n",
    "for LANE in {1..8}\n",
    "do\n",
    "bsub \\\n",
    "-o GBS/stacks_log/snapper/sn_radtags_${LANE}.out -e GBS/stacks_log/snapper/sn_radtags_${LANE}.err -J \"Snapper radtags lane ${LANE}\" \\\n",
    "\"process_radtags \\\n",
    "-p /powerplant/workspace/hramzr/2_Phd_PROJECT/GBS/raw_snap/lane${LANE} \\\n",
    "-b GBS/barcodes/barcodes_snapper.txt \\\n",
    "-o GBS/indv_snapper/ \\\n",
    "--renz_1 'pstI' \\\n",
    "--renz_2 'mspI' \\\n",
    "-c\"\n",
    "done"
   ]
  },
  {
   "cell_type": "code",
   "execution_count": null,
   "metadata": {},
   "outputs": [],
   "source": [
    "# # Create loop for Trev_input file 3\n",
    "# ENZYME='pstI'\n",
    "# while read -r barcode\n",
    "# do\n",
    "# bsub \\\n",
    "# -o GBS/stacks_log/stacks_sn.out -e GBS/stacks_log/stacks_sn.err -J \"demultiplex snapper gbs\" \\\n",
    "# \"process_radtags \\\n",
    "# -p ${GBS_SN_INPUT} \\\n",
    "# -b ${barcode} \\\n",
    "# -o GBS/indv_snapper/ \\\n",
    "# -e ${ENZYME} \\\n",
    "# -q \\\n",
    "# -c\"\n",
    "# done < GBS/barcodes/barcodes_snapper.txt"
   ]
  }
 ],
 "metadata": {
  "kernelspec": {
   "display_name": "Bash",
   "language": "bash",
   "name": "bash"
  },
  "language_info": {
   "codemirror_mode": "shell",
   "file_extension": ".sh",
   "mimetype": "text/x-sh",
   "name": "bash"
  }
 },
 "nbformat": 4,
 "nbformat_minor": 4
}
