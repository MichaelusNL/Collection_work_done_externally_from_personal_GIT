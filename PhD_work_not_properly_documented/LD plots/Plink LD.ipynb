{
 "cells": [
  {
   "cell_type": "markdown",
   "metadata": {},
   "source": [
    "# Check modules"
   ]
  },
  {
   "cell_type": "code",
   "execution_count": null,
   "metadata": {},
   "outputs": [],
   "source": [
    "module avail"
   ]
  },
  {
   "cell_type": "markdown",
   "metadata": {},
   "source": [
    "# Load VCF file"
   ]
  },
  {
   "cell_type": "code",
   "execution_count": null,
   "metadata": {},
   "outputs": [],
   "source": [
    "vcf=/workspace/hramzr/2_Phd_PROJECT/VarCallingWGS/freebayes/80_Samples_FB.vcf"
   ]
  },
  {
   "cell_type": "markdown",
   "metadata": {},
   "source": [
    "# Make chromosome map"
   ]
  },
  {
   "cell_type": "code",
   "execution_count": 4,
   "metadata": {},
   "outputs": [],
   "source": [
    "module load bcftools/1.9\n",
    "vcf=/workspace/hramzr/2_Phd_PROJECT/VarCallingWGS/freebayes/80_Samples_FB.vcf\n",
    "for i in {1..25}\n",
    "do\n",
    "echo \"LG${i}    LG${i}\">>chrom_map.txt\n",
    "done"
   ]
  },
  {
   "cell_type": "code",
   "execution_count": null,
   "metadata": {},
   "outputs": [],
   "source": []
  },
  {
   "cell_type": "markdown",
   "metadata": {},
   "source": [
    "# Convert genotype data into PLINK format"
   ]
  },
  {
   "cell_type": "code",
   "execution_count": 6,
   "metadata": {},
   "outputs": [
    {
     "name": "stdout",
     "output_type": "stream",
     "text": [
      "\n",
      "VCFtools - 0.1.14\n",
      "(C) Adam Auton and Anthony Marcketta 2009\n",
      "\n",
      "Parameters as interpreted:\n",
      "\t--vcf /workspace/hramzr/2_Phd_PROJECT/VarCallingWGS/freebayes/80_Samples_FB.vcf\n",
      "\t--chrom-map chrom_map.txt\n",
      "\t--out plink_format\n",
      "\t--plink\n",
      "\n",
      "After filtering, kept 80 out of 80 Individuals\n",
      "Writing PLINK PED and MAP files ... \n",
      "\tRead 26 chromosome mapping file entries.\n",
      "\tPLINK: Only outputting biallelic loci.\n",
      "Done.\n",
      "After filtering, kept 21573217 out of a possible 21573217 Sites\n",
      "Run Time = 857.00 seconds\n"
     ]
    }
   ],
   "source": [
    "module load vcftools/0.1.14\n",
    "vcftools --vcf $vcf  --chrom-map chrom_map.txt --plink --out plink_format"
   ]
  },
  {
   "cell_type": "code",
   "execution_count": 7,
   "metadata": {},
   "outputs": [
    {
     "name": "stdout",
     "output_type": "stream",
     "text": [
      "total 10646296\n",
      "-rw-rw-r--. 1 hramzr powerplant        426 Oct 29 16:22 2nps.log\n",
      "-rw-rw-r--. 1 hramzr powerplant          0 Oct 30 10:20 80_samples.chrom-map.txt\n",
      "-rw-rw-r--. 1 hramzr powerplant        307 Oct 30 10:46 chrom_map.txt\n",
      "drwxrwsr-x. 3 hramzr powerplant       1211 Oct 22 12:20 chromosome_separated_vcfs\n",
      "drwxrwsr-x. 2 hramzr powerplant       2520 Oct 22 14:00 decayfiles\n",
      "drwxrwsr-x. 2 hramzr powerplant       8934 Oct 22 14:02 figs\n",
      "-rw-rw-r--. 1 hramzr powerplant     522921 Oct 22 14:09 Generate_LD_plots.ipynb\n",
      "-rw-rw-r--. 1 hramzr powerplant 1009307330 Oct 29 16:30 LD_80_samples_FB.ld\n",
      "-rw-rw-r--. 1 hramzr powerplant       1045 Oct 29 16:30 LD_80_samples_FB.log\n",
      "-rw-rw-r--. 1 hramzr powerplant       1120 Oct 29 16:30 LD_80_samples_FB.nosex\n",
      "-rw-rw-r--. 1 hramzr powerplant        415 Oct 22 13:54 LG1_50kb_thinned.log\n",
      "-rw-rw-r--. 1 hramzr powerplant    2928243 Oct 22 13:54 LG1_50kb_thinned.recode.vcf\n",
      "drwxrwsr-x. 2 hramzr powerplant        280 Oct 22 13:16 logs\n",
      "-rw-rw-r--. 1 hramzr powerplant        489 Oct 30 11:01 plink_format.log\n",
      "-rw-rw-r--. 1 hramzr powerplant  572301036 Oct 30 11:00 plink_format.map\n",
      "-rw-rw-r--. 1 hramzr powerplant 7482286528 Oct 30 11:01 plink_format.ped\n",
      "-rw-rw-r--. 1 hramzr powerplant       4123 Oct 30 11:02 Plink LD.ipynb\n",
      "drwxrwsr-x. 7 hramzr powerplant        727 Oct 22 10:20 PopLDdecay\n",
      "drwxrwsr-x. 2 hramzr powerplant        885 Oct 22 13:24 subsamples\n",
      "-rw-rw-r--. 1 hramzr powerplant        204 Oct 22 14:01 thinned_list\n"
     ]
    }
   ],
   "source": [
    "ll"
   ]
  },
  {
   "cell_type": "markdown",
   "metadata": {},
   "source": [
    "# Extract markers for pruning based on LD\n",
    "#### Window set to 50\n",
    "#### Remove pair if LD greater than 0.5\n",
    "#### Shift window 5 forward to repeat"
   ]
  },
  {
   "cell_type": "code",
   "execution_count": 9,
   "metadata": {
    "scrolled": true
   },
   "outputs": [
    {
     "name": "stdout",
     "output_type": "stream",
     "text": [
      "PLINK v1.90b6.5 64-bit (13 Sep 2018)           www.cog-genomics.org/plink/1.9/\n",
      "(C) 2005-2018 Shaun Purcell, Christopher Chang   GNU General Public License v3\n",
      "Logging to data_out.log.\n",
      "Options in effect:\n",
      "  --allow-extra-chr\n",
      "  --file plink_format\n",
      "  --indep-pairwise 50 5 0.5\n",
      "  --noweb\n",
      "  --out data_out\n",
      "\n",
      "Note: --noweb has no effect since no web check is implemented yet.\n",
      "96519 MB RAM detected; reserving 48259 MB for main workspace.\n",
      "Possibly irregular .ped line.  Restarting scan, assuming multichar alleles.\n",
      ".ped scan complete (for binary autoconversion).3252627283031323335363738404142434546474850515253555657586061626365666768707172737576777880818283858687889091929395969798100%\n",
      "Performing single-pass .bed write (20139449 variants, 80 people).\n",
      "--file: data_out-temporary.bed + data_out-temporary.bim +83940414243444546474849505152535455565758596061626364656667686970717273747576777879808182838485868788899091929394%\n",
      "data_out-temporary.fam written.\n",
      "20139449 variants loaded from .bim file.\n",
      "80 people (0 males, 0 females, 80 ambiguous) loaded from .fam.\n",
      "Ambiguous sex IDs written to data_out.nosex .\n",
      "Using 1 thread (no multithreaded calculations invoked).\n",
      "Before main variant filters, 80 founders and 0 nonfounders present.\n",
      "Calculating allele frequencies... 10111213141516171819202122232425262728293031323334353637383940414243444546474849505152535455565758596061626364656667686970717273747576777879808182838485868788899091929394959697989 done.\n",
      "Total genotyping rate is 0.996033.\n",
      "20139449 variants and 80 people pass filters and QC.\n",
      "Note: No phenotypes present.\n",
      "Pruned 651248 variants from chromosome 27, leaving 297468.\n",
      "Pruned 671441 variants from chromosome 28, leaving 301772.\n",
      "Pruned 685561 variants from chromosome 29, leaving 306652.\n",
      "Pruned 619412 variants from chromosome 30, leaving 270268.\n",
      "Pruned 665760 variants from chromosome 31, leaving 301256.\n",
      "Pruned 578464 variants from chromosome 32, leaving 247922.\n",
      "Pruned 643682 variants from chromosome 33, leaving 282918.\n",
      "Pruned 656020 variants from chromosome 34, leaving 292506.\n",
      "Pruned 527174 variants from chromosome 35, leaving 233076.\n",
      "Pruned 622439 variants from chromosome 36, leaving 269064.\n",
      "Pruned 683684 variants from chromosome 37, leaving 303549.\n",
      "Pruned 522418 variants from chromosome 38, leaving 216127.\n",
      "Pruned 624962 variants from chromosome 39, leaving 275860.\n",
      "Pruned 577441 variants from chromosome 40, leaving 257152.\n",
      "Pruned 546039 variants from chromosome 41, leaving 235779.\n",
      "Pruned 568735 variants from chromosome 42, leaving 236585.\n",
      "Pruned 499205 variants from chromosome 43, leaving 214582.\n",
      "Pruned 616270 variants from chromosome 44, leaving 260113.\n",
      "Pruned 522587 variants from chromosome 45, leaving 224268.\n",
      "Pruned 527625 variants from chromosome 46, leaving 236412.\n",
      "Pruned 563739 variants from chromosome 47, leaving 244189.\n",
      "Pruned 543079 variants from chromosome 48, leaving 230072.\n",
      "Pruned 445454 variants from chromosome 49, leaving 200042.\n",
      "Pruned 361148 variants from chromosome 50, leaving 155288.\n",
      "Pruned 75176 variants from chromosome 51, leaving 47766.\n",
      "Pruning complete.  13998763 of 20139449 variants removed.\n",
      "Marker lists written to data_out.prune.in and data_out.prune.out .\n"
     ]
    }
   ],
   "source": [
    "module load plink/1.90b6.5\n",
    "plink --noweb --file plink_format --allow-extra-chr --indep-pairwise 50 5 0.5 --out data_out"
   ]
  },
  {
   "cell_type": "code",
   "execution_count": 11,
   "metadata": {},
   "outputs": [
    {
     "name": "stdout",
     "output_type": "stream",
     "text": [
      "PLINK v1.90b6.5 64-bit (13 Sep 2018)           www.cog-genomics.org/plink/1.9/\n",
      "(C) 2005-2018 Shaun Purcell, Christopher Chang   GNU General Public License v3\n",
      "Logging to pruneddata.log.\n",
      "Options in effect:\n",
      "  --allow-extra-chr\n",
      "  --extract data_out.prune.in\n",
      "  --file plink_format\n",
      "  --make-bed\n",
      "  --out pruneddata\n",
      "\n",
      "96519 MB RAM detected; reserving 48259 MB for main workspace.\n",
      "Possibly irregular .ped line.  Restarting scan, assuming multichar alleles.\n",
      ".ped scan complete (for binary autoconversion).3252627283031323335363738404142434546474850515253555657586061626365666768707172737576777880818283858687889091929395969798100%\n",
      "Performing single-pass .bed write (20139449 variants, 80 people).\n",
      "--file: pruneddata-temporary.bed + pruneddata-temporary.bim +0414243444546474849505152535455565758596061626364656667686970717273747576777879808182838485868788899091929394%\n",
      "pruneddata-temporary.fam written.\n",
      "20139449 variants loaded from .bim file.\n",
      "80 people (0 males, 0 females, 80 ambiguous) loaded from .fam.\n",
      "Ambiguous sex IDs written to pruneddata.nosex .\n",
      "--extract: 6140686 variants remaining.\n",
      "Using 1 thread (no multithreaded calculations invoked).\n",
      "Before main variant filters, 80 founders and 0 nonfounders present.\n",
      "Calculating allele frequencies... 10111213141516171819202122232425262728293031323334353637383940414243444546474849505152535455565758596061626364656667686970717273747576777879808182838485868788899091929394959697989 done.\n",
      "Total genotyping rate is 0.99385.\n",
      "6140686 variants and 80 people pass filters and QC.\n",
      "Note: No phenotypes present.\n",
      "--make-bed to pruneddata.bed + pruneddata.bim + pruneddata.fam ... 101112131415161718192021222324252627282930313233343536373839404142434445464748495051525354555657585960616263646566676869707172737475767778798081828384858687888990919293949596979899done.\n"
     ]
    }
   ],
   "source": [
    "plink --file plink_format --extract data_out.prune.in --allow-extra-chr --make-bed --out pruneddata\n"
   ]
  },
  {
   "cell_type": "code",
   "execution_count": 13,
   "metadata": {},
   "outputs": [
    {
     "name": "stdout",
     "output_type": "stream",
     "text": [
      "PLINK v1.90b6.5 64-bit (13 Sep 2018)           www.cog-genomics.org/plink/1.9/\n",
      "(C) 2005-2018 Shaun Purcell, Christopher Chang   GNU General Public License v3\n",
      "Logging to vcf_pruned.log.\n",
      "Options in effect:\n",
      "  --allow-extra-chr\n",
      "  --bfile pruneddata\n",
      "  --out vcf_pruned\n",
      "  --recode vcf\n",
      "\n",
      "96519 MB RAM detected; reserving 48259 MB for main workspace.\n",
      "6140686 variants loaded from .bim file.\n",
      "80 people (0 males, 0 females, 80 ambiguous) loaded from .fam.\n",
      "Ambiguous sex IDs written to vcf_pruned.nosex .\n",
      "Using 1 thread (no multithreaded calculations invoked).\n",
      "Before main variant filters, 80 founders and 0 nonfounders present.\n",
      "Calculating allele frequencies... 10111213141516171819202122232425262728293031323334353637383940414243444546474849505152535455565758596061626364656667686970717273747576777879808182838485868788899091929394959697989 done.\n",
      "Total genotyping rate is 0.99385.\n",
      "6140686 variants and 80 people pass filters and QC.\n",
      "Note: No phenotypes present.\n",
      "Warning: Underscore(s) present in sample IDs.\n",
      "--recode vcf to vcf_pruned.vcf ... 101112131415161718192021222324252627282930313233343536373839404142434445464748495051525354555657585960616263646566676869707172737475767778798081828384858687888990919293949596979899done.\n"
     ]
    }
   ],
   "source": [
    "plink --bfile pruneddata --recode vcf --out vcf_pruned --allow-extra-chr"
   ]
  },
  {
   "cell_type": "code",
   "execution_count": null,
   "metadata": {},
   "outputs": [],
   "source": []
  },
  {
   "cell_type": "code",
   "execution_count": null,
   "metadata": {},
   "outputs": [],
   "source": [
    "cat LD_80_samples_FB.ld | wc -l"
   ]
  },
  {
   "cell_type": "code",
   "execution_count": null,
   "metadata": {},
   "outputs": [],
   "source": [
    "library(data.table)\n",
    "LDfile <- fread(\"LD_80_samples_FB.ld\", sep = \" \", header= TRUE)\n",
    "LDfile\n",
    "# d <- density(\"LD_80_samples_FB.ld\"$R2) # returns the density data\n",
    "plot(density(LDfile$R2), xlab=\"R2(LD) value\",\n",
    "        ylab=\"Frequency\") "
   ]
  },
  {
   "cell_type": "code",
   "execution_count": null,
   "metadata": {},
   "outputs": [],
   "source": [
    "LDfile_sorted<-LDfile[order(-R2),]\n"
   ]
  },
  {
   "cell_type": "code",
   "execution_count": null,
   "metadata": {},
   "outputs": [],
   "source": [
    "plot(density(LDfile$R2),main=\"LD frequency distribution\", xlab=\"R2(LD) value\",\n",
    "        ylab=\"Frequency\") "
   ]
  },
  {
   "cell_type": "code",
   "execution_count": null,
   "metadata": {},
   "outputs": [],
   "source": [
    "plot(density(LDfile_sorted$R2)) "
   ]
  }
 ],
 "metadata": {
  "kernelspec": {
   "display_name": "Bash",
   "language": "bash",
   "name": "bash"
  },
  "language_info": {
   "codemirror_mode": "shell",
   "file_extension": ".sh",
   "mimetype": "text/x-sh",
   "name": "bash"
  }
 },
 "nbformat": 4,
 "nbformat_minor": 4
}
