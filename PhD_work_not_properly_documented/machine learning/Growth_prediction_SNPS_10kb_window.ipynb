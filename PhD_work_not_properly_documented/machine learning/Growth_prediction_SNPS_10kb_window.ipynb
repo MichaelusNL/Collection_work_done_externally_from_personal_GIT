{
 "cells": [
  {
   "cell_type": "markdown",
   "metadata": {},
   "source": [
    "# Install missing python modules"
   ]
  },
  {
   "cell_type": "code",
   "execution_count": 1,
   "metadata": {},
   "outputs": [
    {
     "name": "stdout",
     "output_type": "stream",
     "text": [
      "Requirement already satisfied: skrebate in c:\\users\\hramzr\\anaconda3\\lib\\site-packages (0.61)\n",
      "Requirement already satisfied: scipy in c:\\users\\hramzr\\anaconda3\\lib\\site-packages (from skrebate) (1.5.0)\n",
      "Requirement already satisfied: scikit-learn in c:\\users\\hramzr\\anaconda3\\lib\\site-packages (from skrebate) (0.23.1)\n",
      "Requirement already satisfied: numpy in c:\\users\\hramzr\\anaconda3\\lib\\site-packages (from skrebate) (1.18.5)\n",
      "Requirement already satisfied: joblib>=0.11 in c:\\users\\hramzr\\anaconda3\\lib\\site-packages (from scikit-learn->skrebate) (0.16.0)\n",
      "Requirement already satisfied: threadpoolctl>=2.0.0 in c:\\users\\hramzr\\anaconda3\\lib\\site-packages (from scikit-learn->skrebate) (2.1.0)\n"
     ]
    }
   ],
   "source": [
    "import sys\n",
    "!{sys.executable} -m pip install skrebate"
   ]
  },
  {
   "cell_type": "markdown",
   "metadata": {},
   "source": [
    "# Global imports"
   ]
  },
  {
   "cell_type": "code",
   "execution_count": 1,
   "metadata": {},
   "outputs": [],
   "source": [
    "import pandas as pd\n",
    "import numpy as np\n",
    "import seaborn as sns\n",
    "from sklearn import datasets\n",
    "from ReliefF import ReliefF\n",
    "from sklearn.feature_selection import SelectKBest\n",
    "from sklearn.feature_selection import chi2\n",
    "from sklearn.feature_selection import mutual_info_classif\n",
    "from sklearn.preprocessing import StandardScaler\n",
    "from sklearn.model_selection import train_test_split\n",
    "from sklearn.neighbors import KNeighborsClassifier\n",
    "from sklearn.metrics import accuracy_score \n",
    "from sklearn import svm\n",
    "from sklearn.linear_model import LogisticRegression\n",
    "from sklearn.naive_bayes import GaussianNB\n",
    "from sklearn.ensemble import RandomForestClassifier"
   ]
  },
  {
   "cell_type": "markdown",
   "metadata": {},
   "source": [
    "# Pair plot of phenotype data (=discovering pairwise correlation)"
   ]
  },
  {
   "cell_type": "code",
   "execution_count": 3,
   "metadata": {},
   "outputs": [],
   "source": [
    "# growth_df=pd.read_csv('growth_SV', delimiter=\" \")\n",
    "# #factorize sex and population to use in PP\n",
    "# growth_df['sex'] = pd.factorize(growth_df.sex)[0]\n",
    "# growth_df['population'] = pd.factorize(growth_df.population)[0]\n",
    "# # Slicing out the phenotype data\n",
    "# data=growth_df.iloc[:, 0:9]\n",
    "# # Exclude indv from pairing, by putting it as index\n",
    "# data=data.set_index('indv')\n",
    "# # Sex 0 = male, sex 1 = unknown and sex 2 = female\n",
    "# # pop 0 = 2013B12, pop 1 = 2013B11, pop 2 = 2013B9 and pop 3 = 2013B10\n",
    "# sns.pairplot(data, hue=\"age\", palette=\"tab10\")"
   ]
  },
  {
   "cell_type": "markdown",
   "metadata": {},
   "source": [
    "# Categorising fork_length\n"
   ]
  },
  {
   "cell_type": "markdown",
   "metadata": {},
   "source": [
    "#### Load growth data for SV's"
   ]
  },
  {
   "cell_type": "code",
   "execution_count": 2,
   "metadata": {},
   "outputs": [],
   "source": [
    "growth_df=pd.read_csv('SNP_growth_10kb', delimiter=\" \")  "
   ]
  },
  {
   "cell_type": "code",
   "execution_count": 5,
   "metadata": {},
   "outputs": [
    {
     "data": {
      "text/html": [
       "<div>\n",
       "<style scoped>\n",
       "    .dataframe tbody tr th:only-of-type {\n",
       "        vertical-align: middle;\n",
       "    }\n",
       "\n",
       "    .dataframe tbody tr th {\n",
       "        vertical-align: top;\n",
       "    }\n",
       "\n",
       "    .dataframe thead th {\n",
       "        text-align: right;\n",
       "    }\n",
       "</style>\n",
       "<table border=\"1\" class=\"dataframe\">\n",
       "  <thead>\n",
       "    <tr style=\"text-align: right;\">\n",
       "      <th></th>\n",
       "      <th>indv</th>\n",
       "      <th>sex</th>\n",
       "      <th>population</th>\n",
       "      <th>fork_length</th>\n",
       "      <th>age</th>\n",
       "      <th>spot_count</th>\n",
       "      <th>disease</th>\n",
       "      <th>deformity</th>\n",
       "      <th>nostril_count</th>\n",
       "      <th>LG1_10000_.</th>\n",
       "      <th>...</th>\n",
       "      <th>LG25_3800000_0/2</th>\n",
       "      <th>LG25_3800000_1/2</th>\n",
       "      <th>LG25_3800000_2/2</th>\n",
       "      <th>LG25_3810000_.</th>\n",
       "      <th>LG25_3810000_0/0</th>\n",
       "      <th>LG25_3810000_0/1</th>\n",
       "      <th>LG25_3810000_1/1</th>\n",
       "      <th>LG25_3810000_0/2</th>\n",
       "      <th>LG25_3810000_1/2</th>\n",
       "      <th>LG25_3810000_2/2</th>\n",
       "    </tr>\n",
       "  </thead>\n",
       "  <tbody>\n",
       "    <tr>\n",
       "      <th>0</th>\n",
       "      <td>27033489</td>\n",
       "      <td>male</td>\n",
       "      <td>2013B12</td>\n",
       "      <td>268.211388</td>\n",
       "      <td>3</td>\n",
       "      <td>53.0</td>\n",
       "      <td>2.0</td>\n",
       "      <td>0.0</td>\n",
       "      <td>1.0</td>\n",
       "      <td>0</td>\n",
       "      <td>...</td>\n",
       "      <td>2.0</td>\n",
       "      <td>0.0</td>\n",
       "      <td>1.0</td>\n",
       "      <td>0.0</td>\n",
       "      <td>319.0</td>\n",
       "      <td>296.0</td>\n",
       "      <td>5.0</td>\n",
       "      <td>8.0</td>\n",
       "      <td>2.0</td>\n",
       "      <td>2.0</td>\n",
       "    </tr>\n",
       "    <tr>\n",
       "      <th>1</th>\n",
       "      <td>27033489</td>\n",
       "      <td>male</td>\n",
       "      <td>2013B12</td>\n",
       "      <td>162.068598</td>\n",
       "      <td>1</td>\n",
       "      <td>54.0</td>\n",
       "      <td>0.0</td>\n",
       "      <td>0.0</td>\n",
       "      <td>1.0</td>\n",
       "      <td>0</td>\n",
       "      <td>...</td>\n",
       "      <td>2.0</td>\n",
       "      <td>0.0</td>\n",
       "      <td>1.0</td>\n",
       "      <td>0.0</td>\n",
       "      <td>319.0</td>\n",
       "      <td>296.0</td>\n",
       "      <td>5.0</td>\n",
       "      <td>8.0</td>\n",
       "      <td>2.0</td>\n",
       "      <td>2.0</td>\n",
       "    </tr>\n",
       "    <tr>\n",
       "      <th>2</th>\n",
       "      <td>83800743</td>\n",
       "      <td>unknown</td>\n",
       "      <td>2013B11</td>\n",
       "      <td>162.617027</td>\n",
       "      <td>1</td>\n",
       "      <td>39.0</td>\n",
       "      <td>0.0</td>\n",
       "      <td>0.0</td>\n",
       "      <td>2.0</td>\n",
       "      <td>0</td>\n",
       "      <td>...</td>\n",
       "      <td>1.0</td>\n",
       "      <td>0.0</td>\n",
       "      <td>0.0</td>\n",
       "      <td>0.0</td>\n",
       "      <td>328.0</td>\n",
       "      <td>293.0</td>\n",
       "      <td>0.0</td>\n",
       "      <td>7.0</td>\n",
       "      <td>4.0</td>\n",
       "      <td>0.0</td>\n",
       "    </tr>\n",
       "    <tr>\n",
       "      <th>3</th>\n",
       "      <td>83800743</td>\n",
       "      <td>unknown</td>\n",
       "      <td>2013B11</td>\n",
       "      <td>264.152366</td>\n",
       "      <td>3</td>\n",
       "      <td>30.0</td>\n",
       "      <td>2.0</td>\n",
       "      <td>0.0</td>\n",
       "      <td>2.0</td>\n",
       "      <td>0</td>\n",
       "      <td>...</td>\n",
       "      <td>1.0</td>\n",
       "      <td>0.0</td>\n",
       "      <td>0.0</td>\n",
       "      <td>0.0</td>\n",
       "      <td>328.0</td>\n",
       "      <td>293.0</td>\n",
       "      <td>0.0</td>\n",
       "      <td>7.0</td>\n",
       "      <td>4.0</td>\n",
       "      <td>0.0</td>\n",
       "    </tr>\n",
       "    <tr>\n",
       "      <th>4</th>\n",
       "      <td>140942470</td>\n",
       "      <td>unknown</td>\n",
       "      <td>2013B9</td>\n",
       "      <td>156.474088</td>\n",
       "      <td>1</td>\n",
       "      <td>44.0</td>\n",
       "      <td>0.0</td>\n",
       "      <td>0.0</td>\n",
       "      <td>1.0</td>\n",
       "      <td>0</td>\n",
       "      <td>...</td>\n",
       "      <td>2.0</td>\n",
       "      <td>1.0</td>\n",
       "      <td>0.0</td>\n",
       "      <td>0.0</td>\n",
       "      <td>314.0</td>\n",
       "      <td>305.0</td>\n",
       "      <td>3.0</td>\n",
       "      <td>7.0</td>\n",
       "      <td>2.0</td>\n",
       "      <td>1.0</td>\n",
       "    </tr>\n",
       "    <tr>\n",
       "      <th>...</th>\n",
       "      <td>...</td>\n",
       "      <td>...</td>\n",
       "      <td>...</td>\n",
       "      <td>...</td>\n",
       "      <td>...</td>\n",
       "      <td>...</td>\n",
       "      <td>...</td>\n",
       "      <td>...</td>\n",
       "      <td>...</td>\n",
       "      <td>...</td>\n",
       "      <td>...</td>\n",
       "      <td>...</td>\n",
       "      <td>...</td>\n",
       "      <td>...</td>\n",
       "      <td>...</td>\n",
       "      <td>...</td>\n",
       "      <td>...</td>\n",
       "      <td>...</td>\n",
       "      <td>...</td>\n",
       "      <td>...</td>\n",
       "      <td>...</td>\n",
       "    </tr>\n",
       "    <tr>\n",
       "      <th>58</th>\n",
       "      <td>985661182</td>\n",
       "      <td>unknown</td>\n",
       "      <td>2013B9</td>\n",
       "      <td>149.724143</td>\n",
       "      <td>1</td>\n",
       "      <td>35.0</td>\n",
       "      <td>0.0</td>\n",
       "      <td>0.0</td>\n",
       "      <td>2.0</td>\n",
       "      <td>0</td>\n",
       "      <td>...</td>\n",
       "      <td>2.0</td>\n",
       "      <td>0.0</td>\n",
       "      <td>0.0</td>\n",
       "      <td>0.0</td>\n",
       "      <td>333.0</td>\n",
       "      <td>285.0</td>\n",
       "      <td>0.0</td>\n",
       "      <td>10.0</td>\n",
       "      <td>4.0</td>\n",
       "      <td>0.0</td>\n",
       "    </tr>\n",
       "    <tr>\n",
       "      <th>59</th>\n",
       "      <td>986994303</td>\n",
       "      <td>male</td>\n",
       "      <td>2013B12</td>\n",
       "      <td>250.116536</td>\n",
       "      <td>3</td>\n",
       "      <td>40.0</td>\n",
       "      <td>2.0</td>\n",
       "      <td>0.0</td>\n",
       "      <td>1.0</td>\n",
       "      <td>0</td>\n",
       "      <td>...</td>\n",
       "      <td>3.0</td>\n",
       "      <td>0.0</td>\n",
       "      <td>0.0</td>\n",
       "      <td>0.0</td>\n",
       "      <td>329.0</td>\n",
       "      <td>293.0</td>\n",
       "      <td>1.0</td>\n",
       "      <td>6.0</td>\n",
       "      <td>2.0</td>\n",
       "      <td>1.0</td>\n",
       "    </tr>\n",
       "    <tr>\n",
       "      <th>60</th>\n",
       "      <td>986994303</td>\n",
       "      <td>male</td>\n",
       "      <td>2013B12</td>\n",
       "      <td>148.071168</td>\n",
       "      <td>1</td>\n",
       "      <td>40.0</td>\n",
       "      <td>0.0</td>\n",
       "      <td>0.0</td>\n",
       "      <td>1.0</td>\n",
       "      <td>0</td>\n",
       "      <td>...</td>\n",
       "      <td>3.0</td>\n",
       "      <td>0.0</td>\n",
       "      <td>0.0</td>\n",
       "      <td>0.0</td>\n",
       "      <td>329.0</td>\n",
       "      <td>293.0</td>\n",
       "      <td>1.0</td>\n",
       "      <td>6.0</td>\n",
       "      <td>2.0</td>\n",
       "      <td>1.0</td>\n",
       "    </tr>\n",
       "    <tr>\n",
       "      <th>61</th>\n",
       "      <td>998916898</td>\n",
       "      <td>unknown</td>\n",
       "      <td>2013B9</td>\n",
       "      <td>168.723524</td>\n",
       "      <td>1</td>\n",
       "      <td>49.0</td>\n",
       "      <td>0.0</td>\n",
       "      <td>0.0</td>\n",
       "      <td>1.0</td>\n",
       "      <td>0</td>\n",
       "      <td>...</td>\n",
       "      <td>2.0</td>\n",
       "      <td>3.0</td>\n",
       "      <td>0.0</td>\n",
       "      <td>0.0</td>\n",
       "      <td>324.0</td>\n",
       "      <td>296.0</td>\n",
       "      <td>1.0</td>\n",
       "      <td>8.0</td>\n",
       "      <td>2.0</td>\n",
       "      <td>1.0</td>\n",
       "    </tr>\n",
       "    <tr>\n",
       "      <th>62</th>\n",
       "      <td>998916898</td>\n",
       "      <td>unknown</td>\n",
       "      <td>2013B9</td>\n",
       "      <td>277.517262</td>\n",
       "      <td>3</td>\n",
       "      <td>45.0</td>\n",
       "      <td>2.0</td>\n",
       "      <td>0.0</td>\n",
       "      <td>1.0</td>\n",
       "      <td>0</td>\n",
       "      <td>...</td>\n",
       "      <td>2.0</td>\n",
       "      <td>3.0</td>\n",
       "      <td>0.0</td>\n",
       "      <td>0.0</td>\n",
       "      <td>324.0</td>\n",
       "      <td>296.0</td>\n",
       "      <td>1.0</td>\n",
       "      <td>8.0</td>\n",
       "      <td>2.0</td>\n",
       "      <td>1.0</td>\n",
       "    </tr>\n",
       "  </tbody>\n",
       "</table>\n",
       "<p>63 rows × 513599 columns</p>\n",
       "</div>"
      ],
      "text/plain": [
       "         indv      sex population  fork_length  age  spot_count  disease  \\\n",
       "0    27033489     male    2013B12   268.211388    3        53.0      2.0   \n",
       "1    27033489     male    2013B12   162.068598    1        54.0      0.0   \n",
       "2    83800743  unknown    2013B11   162.617027    1        39.0      0.0   \n",
       "3    83800743  unknown    2013B11   264.152366    3        30.0      2.0   \n",
       "4   140942470  unknown     2013B9   156.474088    1        44.0      0.0   \n",
       "..        ...      ...        ...          ...  ...         ...      ...   \n",
       "58  985661182  unknown     2013B9   149.724143    1        35.0      0.0   \n",
       "59  986994303     male    2013B12   250.116536    3        40.0      2.0   \n",
       "60  986994303     male    2013B12   148.071168    1        40.0      0.0   \n",
       "61  998916898  unknown     2013B9   168.723524    1        49.0      0.0   \n",
       "62  998916898  unknown     2013B9   277.517262    3        45.0      2.0   \n",
       "\n",
       "    deformity  nostril_count  LG1_10000_.  ...  LG25_3800000_0/2  \\\n",
       "0         0.0            1.0            0  ...               2.0   \n",
       "1         0.0            1.0            0  ...               2.0   \n",
       "2         0.0            2.0            0  ...               1.0   \n",
       "3         0.0            2.0            0  ...               1.0   \n",
       "4         0.0            1.0            0  ...               2.0   \n",
       "..        ...            ...          ...  ...               ...   \n",
       "58        0.0            2.0            0  ...               2.0   \n",
       "59        0.0            1.0            0  ...               3.0   \n",
       "60        0.0            1.0            0  ...               3.0   \n",
       "61        0.0            1.0            0  ...               2.0   \n",
       "62        0.0            1.0            0  ...               2.0   \n",
       "\n",
       "    LG25_3800000_1/2  LG25_3800000_2/2  LG25_3810000_.  LG25_3810000_0/0  \\\n",
       "0                0.0               1.0             0.0             319.0   \n",
       "1                0.0               1.0             0.0             319.0   \n",
       "2                0.0               0.0             0.0             328.0   \n",
       "3                0.0               0.0             0.0             328.0   \n",
       "4                1.0               0.0             0.0             314.0   \n",
       "..               ...               ...             ...               ...   \n",
       "58               0.0               0.0             0.0             333.0   \n",
       "59               0.0               0.0             0.0             329.0   \n",
       "60               0.0               0.0             0.0             329.0   \n",
       "61               3.0               0.0             0.0             324.0   \n",
       "62               3.0               0.0             0.0             324.0   \n",
       "\n",
       "    LG25_3810000_0/1  LG25_3810000_1/1  LG25_3810000_0/2  LG25_3810000_1/2  \\\n",
       "0              296.0               5.0               8.0               2.0   \n",
       "1              296.0               5.0               8.0               2.0   \n",
       "2              293.0               0.0               7.0               4.0   \n",
       "3              293.0               0.0               7.0               4.0   \n",
       "4              305.0               3.0               7.0               2.0   \n",
       "..               ...               ...               ...               ...   \n",
       "58             285.0               0.0              10.0               4.0   \n",
       "59             293.0               1.0               6.0               2.0   \n",
       "60             293.0               1.0               6.0               2.0   \n",
       "61             296.0               1.0               8.0               2.0   \n",
       "62             296.0               1.0               8.0               2.0   \n",
       "\n",
       "    LG25_3810000_2/2  \n",
       "0                2.0  \n",
       "1                2.0  \n",
       "2                0.0  \n",
       "3                0.0  \n",
       "4                1.0  \n",
       "..               ...  \n",
       "58               0.0  \n",
       "59               1.0  \n",
       "60               1.0  \n",
       "61               1.0  \n",
       "62               1.0  \n",
       "\n",
       "[63 rows x 513599 columns]"
      ]
     },
     "execution_count": 5,
     "metadata": {},
     "output_type": "execute_result"
    }
   ],
   "source": [
    "growth_df"
   ]
  },
  {
   "cell_type": "markdown",
   "metadata": {},
   "source": [
    "#### Split data in year 1 and year 3 data"
   ]
  },
  {
   "cell_type": "code",
   "execution_count": 3,
   "metadata": {},
   "outputs": [],
   "source": [
    "growth_y1 = growth_df.loc[(growth_df['age'] == 1)]\n",
    "growth_y3 = growth_df.loc[(growth_df['age'] == 3)]"
   ]
  },
  {
   "cell_type": "markdown",
   "metadata": {},
   "source": [
    "#### Bin into small --> medium --> big"
   ]
  },
  {
   "cell_type": "markdown",
   "metadata": {},
   "source": [
    "##### Year 1"
   ]
  },
  {
   "cell_type": "code",
   "execution_count": 4,
   "metadata": {},
   "outputs": [
    {
     "name": "stderr",
     "output_type": "stream",
     "text": [
      "<ipython-input-4-500e8c2916d0>:2: SettingWithCopyWarning: \n",
      "A value is trying to be set on a copy of a slice from a DataFrame.\n",
      "Try using .loc[row_indexer,col_indexer] = value instead\n",
      "\n",
      "See the caveats in the documentation: https://pandas.pydata.org/pandas-docs/stable/user_guide/indexing.html#returning-a-view-versus-a-copy\n",
      "  small['fork_length']=\"small\"\n",
      "<ipython-input-4-500e8c2916d0>:7: SettingWithCopyWarning: \n",
      "A value is trying to be set on a copy of a slice from a DataFrame.\n",
      "Try using .loc[row_indexer,col_indexer] = value instead\n",
      "\n",
      "See the caveats in the documentation: https://pandas.pydata.org/pandas-docs/stable/user_guide/indexing.html#returning-a-view-versus-a-copy\n",
      "  medium['fork_length']=\"medium\"\n",
      "<ipython-input-4-500e8c2916d0>:11: SettingWithCopyWarning: \n",
      "A value is trying to be set on a copy of a slice from a DataFrame.\n",
      "Try using .loc[row_indexer,col_indexer] = value instead\n",
      "\n",
      "See the caveats in the documentation: https://pandas.pydata.org/pandas-docs/stable/user_guide/indexing.html#returning-a-view-versus-a-copy\n",
      "  big['fork_length']=\"big\"\n"
     ]
    }
   ],
   "source": [
    "small=growth_y1.loc[(growth_y1['fork_length'] >= min(growth_y1.fork_length)) & (growth_y1['fork_length'] <= growth_y1.fork_length.quantile(0.33))]\n",
    "small['fork_length']=\"small\"\n",
    "small\n",
    "\n",
    "\n",
    "medium=growth_y1.loc[(growth_y1['fork_length'] > growth_y1.fork_length.quantile(0.33)) & (growth_y1['fork_length'] <= growth_y1.fork_length.quantile(0.66))]\n",
    "medium['fork_length']=\"medium\"\n",
    "medium\n",
    "\n",
    "big=growth_y1.loc[growth_y1['fork_length'] > growth_y1.fork_length.quantile(0.66)]\n",
    "big['fork_length']=\"big\"\n",
    "big\n",
    "\n",
    "small_medium=small.append(medium)\n",
    "binned_y1=small_medium.append(big)"
   ]
  },
  {
   "cell_type": "markdown",
   "metadata": {},
   "source": [
    "##### Year 3"
   ]
  },
  {
   "cell_type": "code",
   "execution_count": 5,
   "metadata": {},
   "outputs": [
    {
     "name": "stderr",
     "output_type": "stream",
     "text": [
      "<ipython-input-5-3ebd253edfbf>:2: SettingWithCopyWarning: \n",
      "A value is trying to be set on a copy of a slice from a DataFrame.\n",
      "Try using .loc[row_indexer,col_indexer] = value instead\n",
      "\n",
      "See the caveats in the documentation: https://pandas.pydata.org/pandas-docs/stable/user_guide/indexing.html#returning-a-view-versus-a-copy\n",
      "  small['fork_length']=\"small\"\n",
      "<ipython-input-5-3ebd253edfbf>:7: SettingWithCopyWarning: \n",
      "A value is trying to be set on a copy of a slice from a DataFrame.\n",
      "Try using .loc[row_indexer,col_indexer] = value instead\n",
      "\n",
      "See the caveats in the documentation: https://pandas.pydata.org/pandas-docs/stable/user_guide/indexing.html#returning-a-view-versus-a-copy\n",
      "  medium['fork_length']=\"medium\"\n",
      "<ipython-input-5-3ebd253edfbf>:11: SettingWithCopyWarning: \n",
      "A value is trying to be set on a copy of a slice from a DataFrame.\n",
      "Try using .loc[row_indexer,col_indexer] = value instead\n",
      "\n",
      "See the caveats in the documentation: https://pandas.pydata.org/pandas-docs/stable/user_guide/indexing.html#returning-a-view-versus-a-copy\n",
      "  big['fork_length']=\"big\"\n"
     ]
    }
   ],
   "source": [
    "small=growth_y3.loc[(growth_y3['fork_length'] >= min(growth_y3.fork_length)) & (growth_y3['fork_length'] <= growth_y3.fork_length.quantile(0.33))]\n",
    "small['fork_length']=\"small\"\n",
    "small\n",
    "\n",
    "\n",
    "medium=growth_y3.loc[(growth_y3['fork_length'] > growth_y3.fork_length.quantile(0.33)) & (growth_y3['fork_length'] <= growth_y3.fork_length.quantile(0.66))]\n",
    "medium['fork_length']=\"medium\"\n",
    "medium\n",
    "\n",
    "big=growth_y3.loc[growth_y3['fork_length'] > growth_y3.fork_length.quantile(0.66)]\n",
    "big['fork_length']=\"big\"\n",
    "big\n",
    "\n",
    "small_medium=small.append(medium)\n",
    "binned_y3=small_medium.append(big)"
   ]
  },
  {
   "cell_type": "code",
   "execution_count": 6,
   "metadata": {},
   "outputs": [
    {
     "name": "stdout",
     "output_type": "stream",
     "text": [
      "--- Classifiers with all features and year 3 data ---\n",
      "\n",
      "KNN 0.375\n",
      "Naive Bayes 0.4375\n",
      "Logistic regression 0.3125\n",
      "Random forest 0.25\n",
      "--- Classifiers with all features and year 1 data ---\n",
      "\n",
      "KNN 0.3125\n",
      "Naive Bayes 0.1875\n",
      "Logistic regression 0.25\n",
      "Random forest 0.4375\n"
     ]
    },
    {
     "data": {
      "text/plain": [
       "array(['big', 'small', 'big', 'big', 'big', 'big', 'small', 'big',\n",
       "       'medium', 'big', 'big', 'small', 'medium', 'big', 'medium', 'big'],\n",
       "      dtype=object)"
      ]
     },
     "execution_count": 6,
     "metadata": {},
     "output_type": "execute_result"
    }
   ],
   "source": [
    "binned_y3['sex'] = pd.factorize(binned_y3.sex)[0]\n",
    "binned_y3['population'] = pd.factorize(binned_y3.population)[0]\n",
    "x=binned_y3.drop('fork_length',1)\n",
    "y = binned_y3.fork_length\n",
    "x_train, x_test, y_train, y_test = train_test_split(x, y, test_size=0.5,random_state=2)\n",
    "\n",
    "print(\"--- Classifiers with all features and year 3 data ---\\n\")\n",
    "classifier = KNeighborsClassifier(n_neighbors=5, p=2, metric='minkowski')\n",
    "classifier.fit(x_train, y_train)\n",
    "y_pred = classifier.predict(x_test)\n",
    "print(\"KNN\", accuracy_score(y_test, y_pred))\n",
    "\n",
    "\n",
    "classifier = GaussianNB()\n",
    "classifier.fit(x_train, y_train)\n",
    "y_pred = classifier.predict(x_test)\n",
    "print(\"Naive Bayes\", accuracy_score(y_test, y_pred))\n",
    "\n",
    "clf = LogisticRegression(random_state=0).fit(x_train, y_train)\n",
    "pred = clf.predict(x_test)\n",
    "print(\"Logistic regression\", accuracy_score(y_test, pred))\n",
    "\n",
    "ranfor = RandomForestClassifier(n_estimators = 150, criterion = 'entropy', random_state = 5, max_depth = 200)\n",
    "ranfor.fit(x_train, y_train)\n",
    "pred_ranfor = ranfor.predict(x_test)\n",
    "print(\"Random forest\", accuracy_score(y_test, pred_ranfor))\n",
    "pred_ranfor\n",
    "\n",
    "\n",
    "binned_y1['sex'] = pd.factorize(binned_y1.sex)[0]\n",
    "binned_y1['population'] = pd.factorize(binned_y1.population)[0]\n",
    "x=binned_y1.drop('fork_length',1)\n",
    "y = binned_y1.fork_length\n",
    "x_train, x_test, y_train, y_test = train_test_split(x, y, test_size=0.5,random_state=2)\n",
    "\n",
    "print(\"--- Classifiers with all features and year 1 data ---\\n\")\n",
    "classifier = KNeighborsClassifier(n_neighbors=5, p=2, metric='minkowski')\n",
    "classifier.fit(x_train, y_train)\n",
    "y_pred = classifier.predict(x_test)\n",
    "print(\"KNN\", accuracy_score(y_test, y_pred))\n",
    "\n",
    "\n",
    "classifier = GaussianNB()\n",
    "classifier.fit(x_train, y_train)\n",
    "y_pred = classifier.predict(x_test)\n",
    "print(\"Naive Bayes\", accuracy_score(y_test, y_pred))\n",
    "\n",
    "clf = LogisticRegression(random_state=0).fit(x_train, y_train)\n",
    "pred = clf.predict(x_test)\n",
    "print(\"Logistic regression\", accuracy_score(y_test, pred))\n",
    "\n",
    "ranfor = RandomForestClassifier(n_estimators = 150, criterion = 'entropy', random_state = 5, max_depth = 200)\n",
    "ranfor.fit(x_train, y_train)\n",
    "pred_ranfor = ranfor.predict(x_test)\n",
    "print(\"Random forest\", accuracy_score(y_test, pred_ranfor))\n",
    "pred_ranfor"
   ]
  },
  {
   "cell_type": "markdown",
   "metadata": {},
   "source": [
    "# Do relief F feature selection"
   ]
  },
  {
   "cell_type": "markdown",
   "metadata": {},
   "source": [
    "## Overview of target"
   ]
  },
  {
   "cell_type": "code",
   "execution_count": 9,
   "metadata": {},
   "outputs": [
    {
     "name": "stdout",
     "output_type": "stream",
     "text": [
      "small     11\n",
      "big       11\n",
      "medium    10\n",
      "Name: fork_length, dtype: int64\n",
      "big       11\n",
      "small     10\n",
      "medium    10\n",
      "Name: fork_length, dtype: int64\n"
     ]
    }
   ],
   "source": [
    "print(binned_y1['fork_length'].value_counts())\n",
    "print(binned_y3['fork_length'].value_counts())"
   ]
  },
  {
   "cell_type": "markdown",
   "metadata": {},
   "source": [
    "## Start with year 1"
   ]
  },
  {
   "cell_type": "code",
   "execution_count": 10,
   "metadata": {},
   "outputs": [
    {
     "name": "stdout",
     "output_type": "stream",
     "text": [
      "Created distance array in 24.06204652786255 seconds.\n",
      "Feature scoring under way ...\n",
      "Completed scoring in 2622.3878922462463 seconds.\n",
      "Created distance array in 11.851884365081787 seconds.\n",
      "Feature scoring under way ...\n",
      "Completed scoring in 1235.103666305542 seconds.\n",
      "Created distance array in 8.014034032821655 seconds.\n",
      "Feature scoring under way ...\n",
      "Completed scoring in 623.6305358409882 seconds.\n"
     ]
    }
   ],
   "source": [
    "import pandas as pd\n",
    "import numpy as np\n",
    "from sklearn.pipeline import make_pipeline\n",
    "from skrebate.turf import TuRF\n",
    "from sklearn.ensemble import RandomForestClassifier\n",
    "from sklearn.model_selection import cross_val_score\n",
    "binned_y1['sex'] = pd.factorize(binned_y1.sex)[0]\n",
    "binned_y1['population'] = pd.factorize(binned_y1.population)[0]\n",
    "genetic_data=binned_y1\n",
    "features, labels = genetic_data.drop('fork_length', axis=1).values, genetic_data['fork_length'].values\n",
    "headers = list(genetic_data.drop(\"fork_length\", axis=1))\n",
    "fs1 = TuRF(core_algorithm=\"ReliefF\", n_features_to_select=2, pct=0.5,verbose=True)\n",
    "fs1.fit(features, labels, headers)\n",
    "reliefdict1={}\n",
    "for feature_name, feature_score in zip(genetic_data.drop('fork_length', axis=1).columns, fs1.feature_importances_):\n",
    "    reliefdict1[feature_score]=feature_name"
   ]
  },
  {
   "cell_type": "markdown",
   "metadata": {},
   "source": [
    "## Get top 25 scores year 1"
   ]
  },
  {
   "cell_type": "code",
   "execution_count": 11,
   "metadata": {},
   "outputs": [
    {
     "name": "stdout",
     "output_type": "stream",
     "text": [
      "['LG19_2740000_0/0', 'LG13_22490000_0/2', 'LG19_15230000_0/2', 'LG13_23120000_0/2', 'LG19_2740000_0/1', 'LG11_24760000_.', 'LG16_16750000_0/2', 'LG16_13700000_1/2', 'LG4_26820000_0/2', 'LG8_36700000_2/2', 'LG14_3130000_.', 'LG16_12780000_2/2', 'LG9_4890000_0/2', 'LG1_30190000_0/2', 'LG5_40000_0/2', 'LG19_4930000_2/2', 'LG16_14050000_1/1', 'LG16_7390000_0/2', 'LG11_33230000_0/2', 'LG19_15590000_0/1', 'LG19_12170000_0/0', 'LG4_1990000_0/2', 'LG14_20710000_0/2', 'LG15_18750000_0/2', 'LG1_32700000_2/2']\n"
     ]
    },
    {
     "data": {
      "image/png": "[encoded data removed]",
      "text/plain": [
       "<Figure size 432x288 with 1 Axes>"
      ]
     },
     "metadata": {
      "needs_background": "light"
     },
     "output_type": "display_data"
    }
   ],
   "source": [
    "import pylab as pl\n",
    "\n",
    "# print(reliefdict)\n",
    "y1_relief_top=[]\n",
    "score_list=[]\n",
    "for value in fs1.top_features_[0:25]:\n",
    "    score=fs1.feature_importances_[value]\n",
    "    score_list.append(score)\n",
    "    y1_relief_top.append(reliefdict1[score])\n",
    "    \n",
    "df = pd.DataFrame({'Features':y1_relief_top, 'Scores':score_list})\n",
    "ax = df.plot.bar(x='Features', y='Scores', rot=90)\n",
    "pl.suptitle(\"Year 1 top 25 feature scores\")\n",
    "\n",
    "\n",
    "print(y1_relief_top)"
   ]
  },
  {
   "cell_type": "code",
   "execution_count": 12,
   "metadata": {},
   "outputs": [
    {
     "data": {
      "text/plain": [
       "['LG19_2740000_0/0',\n",
       " 'LG13_22490000_0/2',\n",
       " 'LG19_15230000_0/2',\n",
       " 'LG13_23120000_0/2',\n",
       " 'LG19_2740000_0/1',\n",
       " 'LG11_24760000_.',\n",
       " 'LG16_16750000_0/2',\n",
       " 'LG16_13700000_1/2',\n",
       " 'LG4_26820000_0/2',\n",
       " 'LG8_36700000_2/2',\n",
       " 'LG14_3130000_.',\n",
       " 'LG16_12780000_2/2',\n",
       " 'LG9_4890000_0/2',\n",
       " 'LG1_30190000_0/2',\n",
       " 'LG5_40000_0/2',\n",
       " 'LG19_4930000_2/2',\n",
       " 'LG16_14050000_1/1',\n",
       " 'LG16_7390000_0/2',\n",
       " 'LG11_33230000_0/2',\n",
       " 'LG19_15590000_0/1',\n",
       " 'LG19_12170000_0/0',\n",
       " 'LG4_1990000_0/2',\n",
       " 'LG14_20710000_0/2',\n",
       " 'LG15_18750000_0/2',\n",
       " 'LG1_32700000_2/2']"
      ]
     },
     "execution_count": 12,
     "metadata": {},
     "output_type": "execute_result"
    }
   ],
   "source": [
    "y1_relief_top"
   ]
  },
  {
   "cell_type": "markdown",
   "metadata": {},
   "source": [
    "## Get prediction year 1"
   ]
  },
  {
   "cell_type": "code",
   "execution_count": 13,
   "metadata": {},
   "outputs": [
    {
     "name": "stdout",
     "output_type": "stream",
     "text": [
      "--- Classifiers with TuRF Relief-F top 25 features and year 1 data ---\n",
      "\n",
      "KNN 0.625\n",
      "Naive Bayes 0.9375\n",
      "Logistic regression 0.75\n",
      "Random forest 0.875\n",
      "SVM 0.75\n",
      "--- Classifiers with TuRF Relief-F top 50 features and year 1 data ---\n",
      "\n",
      "KNN 0.6875\n",
      "Naive Bayes 0.8125\n",
      "Logistic regression 0.8125\n",
      "Random forest 0.875\n",
      "SVM 0.75\n",
      "--- Classifiers with TuRF Relief-F top 100 features and year 1 data ---\n",
      "\n",
      "KNN 0.6875\n",
      "Naive Bayes 0.6875\n",
      "Logistic regression 0.6875\n",
      "Random forest 0.75\n",
      "SVM 0.75\n",
      "--- Classifiers with TuRF Relief-F top 200 features and year 1 data ---\n",
      "\n",
      "KNN 0.625\n",
      "Naive Bayes 0.5\n",
      "Logistic regression 0.6875\n",
      "Random forest 0.8125\n",
      "SVM 0.6875\n",
      "--- Classifiers with TuRF Relief-F top 500 features and year 1 data ---\n",
      "\n",
      "KNN 0.4375\n",
      "Naive Bayes 0.5\n",
      "Logistic regression 0.75\n",
      "Random forest 0.875\n",
      "SVM 0.8125\n"
     ]
    }
   ],
   "source": [
    "def predict(value):\n",
    "    y1_relief_top=[]\n",
    "    for value in fs1.top_features_[0:value]:\n",
    "        score=fs1.feature_importances_[value]\n",
    "        y1_relief_top.append(reliefdict1[score])\n",
    "\n",
    "    x=binned_y1[y1_relief_top]\n",
    "    y = binned_y1.fork_length\n",
    "    x_train, x_test, y_train, y_test = train_test_split(x, y, test_size=0.5,random_state=2)\n",
    "\n",
    "    print(\"--- Classifiers with TuRF Relief-F top\",str(len(y1_relief_top)), \"features and year 1 data ---\\n\")\n",
    "    classifier = KNeighborsClassifier(n_neighbors=5, p=2, metric='minkowski')\n",
    "    classifier.fit(x_train, y_train)\n",
    "    y_pred = classifier.predict(x_test)\n",
    "    print(\"KNN\", accuracy_score(y_test, y_pred))\n",
    "\n",
    "\n",
    "    classifier = GaussianNB()\n",
    "    classifier.fit(x_train, y_train)\n",
    "    y_pred = classifier.predict(x_test)\n",
    "    print(\"Naive Bayes\", accuracy_score(y_test, y_pred))\n",
    "\n",
    "    clf = LogisticRegression(random_state=0, max_iter=2000).fit(x_train, y_train)\n",
    "    pred = clf.predict(x_test)\n",
    "    print(\"Logistic regression\", accuracy_score(y_test, pred))\n",
    "\n",
    "    ranfor = RandomForestClassifier(n_estimators = 150, criterion = 'entropy', random_state = 5, max_depth = 200)\n",
    "    ranfor.fit(x_train, y_train)\n",
    "    pred_ranfor = ranfor.predict(x_test)\n",
    "    print(\"Random forest\", accuracy_score(y_test, pred_ranfor))\n",
    "    pred_ranfor\n",
    "\n",
    "    sv = svm.SVC(kernel='linear')\n",
    "    sv.fit(x_train, y_train)\n",
    "    pred_svm = sv.predict(x_test)\n",
    "    print(\"SVM\",accuracy_score(y_test, pred_svm))\n",
    "\n",
    "def main():\n",
    "    nofeatures=[25, 50, 100, 200, 500]\n",
    "    for value in nofeatures:\n",
    "        predict(value)\n",
    "main()"
   ]
  },
  {
   "cell_type": "markdown",
   "metadata": {},
   "source": [
    "## Now do year 3"
   ]
  },
  {
   "cell_type": "code",
   "execution_count": 14,
   "metadata": {},
   "outputs": [
    {
     "name": "stdout",
     "output_type": "stream",
     "text": [
      "Created distance array in 25.417914152145386 seconds.\n",
      "Feature scoring under way ...\n",
      "Completed scoring in 2486.6798934936523 seconds.\n",
      "Created distance array in 11.523096561431885 seconds.\n",
      "Feature scoring under way ...\n",
      "Completed scoring in 1117.8391366004944 seconds.\n",
      "Created distance array in 4.8740410804748535 seconds.\n",
      "Feature scoring under way ...\n",
      "Completed scoring in 521.6339609622955 seconds.\n"
     ]
    }
   ],
   "source": [
    "import pandas as pd\n",
    "import numpy as np\n",
    "from sklearn.pipeline import make_pipeline\n",
    "from skrebate.turf import TuRF\n",
    "from sklearn.ensemble import RandomForestClassifier\n",
    "from sklearn.model_selection import cross_val_score\n",
    "binned_y3['sex'] = pd.factorize(binned_y3.sex)[0]\n",
    "binned_y3['population'] = pd.factorize(binned_y3.population)[0]\n",
    "genetic_data=binned_y3\n",
    "features, labels = genetic_data.drop('fork_length', axis=1).values, genetic_data['fork_length'].values\n",
    "headers = list(genetic_data.drop(\"fork_length\", axis=1))\n",
    "fs3 = TuRF(core_algorithm=\"ReliefF\", n_features_to_select=2, pct=0.5,verbose=True)\n",
    "fs3.fit(features, labels, headers)\n",
    "reliefdict3={}\n",
    "for feature_name, feature_score in zip(genetic_data.drop('fork_length', axis=1).columns, fs3.feature_importances_):\n",
    "    reliefdict3[feature_score]=feature_name"
   ]
  },
  {
   "cell_type": "markdown",
   "metadata": {},
   "source": [
    "## Get top 25 year 3"
   ]
  },
  {
   "cell_type": "code",
   "execution_count": 15,
   "metadata": {},
   "outputs": [
    {
     "name": "stdout",
     "output_type": "stream",
     "text": [
      "['LG1_28470000_1/2', 'LG15_8370000_2/2', 'LG20_14060000_0/1', 'LG11_15230000_.', 'LG2_25550000_0/2', 'LG6_3060000_2/2', 'LG16_10020000_0/2', 'LG10_5860000_0/2', 'LG12_9580000_0/2', 'LG20_14060000_0/0', 'LG14_3470000_2/2', 'LG1_22660000_0/2', 'LG1_30470000_0/2', 'LG22_6580000_.', 'LG8_31050000_.', 'LG15_15000000_0/0', 'LG21_9310000_0/2', 'LG1_4150000_0/2', 'LG15_12330000_0/2', 'LG10_80000_1/2', 'LG8_36700000_2/2', 'LG22_6390000_0/2', 'LG14_5830000_1/2', 'LG3_23690000_.', 'LG15_17570000_2/2']\n"
     ]
    },
    {
     "data": {
      "text/plain": [
       "Text(0.5, 0.98, 'Year 3 top 25 feature scores')"
      ]
     },
     "execution_count": 15,
     "metadata": {},
     "output_type": "execute_result"
    },
    {
     "data": {
      "image/png": "[encoded data removed]",
      "text/plain": [
       "<Figure size 432x288 with 1 Axes>"
      ]
     },
     "metadata": {
      "needs_background": "light"
     },
     "output_type": "display_data"
    }
   ],
   "source": [
    "import pylab as pl\n",
    "\n",
    "# print(reliefdict)\n",
    "y3_relief_top=[]\n",
    "score_list=[]\n",
    "for value in fs3.top_features_[0:25]:\n",
    "    score=fs3.feature_importances_[value]\n",
    "    y3_relief_top.append(reliefdict3[score])\n",
    "    score_list.append(score)\n",
    "    \n",
    "print(y3_relief_top)\n",
    "\n",
    "df = pd.DataFrame({'Features':y3_relief_top, 'Scores':score_list})\n",
    "ax = df.plot.bar(x='Features', y='Scores', rot=90, color='red')\n",
    "pl.suptitle(\"Year 3 top 25 feature scores\")"
   ]
  },
  {
   "cell_type": "markdown",
   "metadata": {},
   "source": [
    "## Get prediction year 3"
   ]
  },
  {
   "cell_type": "code",
   "execution_count": 16,
   "metadata": {},
   "outputs": [
    {
     "name": "stdout",
     "output_type": "stream",
     "text": [
      "--- Classifiers with TuRF Relief-F top 25 features and year 3 data ---\n",
      "\n",
      "KNN 0.75\n",
      "Naive Bayes 0.75\n",
      "Logistic regression 0.75\n",
      "Random forest 0.9375\n",
      "SVM 0.6875\n",
      "--- Classifiers with TuRF Relief-F top 50 features and year 3 data ---\n",
      "\n",
      "KNN 0.6875\n",
      "Naive Bayes 0.8125\n",
      "Logistic regression 0.6875\n",
      "Random forest 0.875\n",
      "SVM 0.75\n",
      "--- Classifiers with TuRF Relief-F top 100 features and year 3 data ---\n",
      "\n",
      "KNN 0.75\n",
      "Naive Bayes 0.8125\n",
      "Logistic regression 0.75\n",
      "Random forest 0.9375\n",
      "SVM 0.875\n",
      "--- Classifiers with TuRF Relief-F top 200 features and year 3 data ---\n",
      "\n",
      "KNN 0.9375\n",
      "Naive Bayes 0.9375\n",
      "Logistic regression 0.875\n",
      "Random forest 0.9375\n",
      "SVM 0.875\n",
      "--- Classifiers with TuRF Relief-F top 500 features and year 3 data ---\n",
      "\n",
      "KNN 1.0\n",
      "Naive Bayes 0.6875\n",
      "Logistic regression 1.0\n",
      "Random forest 0.9375\n",
      "SVM 0.9375\n"
     ]
    }
   ],
   "source": [
    "def pred(value):\n",
    "    y3_relief_top=[]\n",
    "    for value in fs3.top_features_[0:value]:\n",
    "        score=fs3.feature_importances_[value]\n",
    "        y3_relief_top.append(reliefdict3[score])\n",
    "    x=binned_y3[y3_relief_top]\n",
    "    y = binned_y3.fork_length\n",
    "    x_train, x_test, y_train, y_test = train_test_split(x, y, test_size=0.5,random_state=2)\n",
    "\n",
    "    print(\"--- Classifiers with TuRF Relief-F top\",str(len(y3_relief_top)), \"features and year 3 data ---\\n\")\n",
    "    classifier = KNeighborsClassifier(n_neighbors=5, p=2, metric='minkowski')\n",
    "    classifier.fit(x_train, y_train)\n",
    "    y_pred = classifier.predict(x_test)\n",
    "    print(\"KNN\", accuracy_score(y_test, y_pred))\n",
    "\n",
    "    classifier = GaussianNB()\n",
    "    classifier.fit(x_train, y_train)\n",
    "    y_pred = classifier.predict(x_test)\n",
    "    print(\"Naive Bayes\", accuracy_score(y_test, y_pred))\n",
    "\n",
    "    clf = LogisticRegression(random_state=0,max_iter=2000).fit(x_train, y_train)\n",
    "    pred = clf.predict(x_test)\n",
    "    print(\"Logistic regression\", accuracy_score(y_test, pred))\n",
    "\n",
    "    ranfor = RandomForestClassifier(n_estimators = 150, criterion = 'entropy', random_state = 5, max_depth = 200)\n",
    "    ranfor.fit(x_train, y_train)\n",
    "    pred_ranfor = ranfor.predict(x_test)\n",
    "    print(\"Random forest\", accuracy_score(y_test, pred_ranfor))\n",
    "    pred_ranfor\n",
    "\n",
    "    sv = svm.SVC(kernel='linear')\n",
    "    sv.fit(x_train, y_train)\n",
    "    pred_svm = sv.predict(x_test)\n",
    "    print(\"SVM\",accuracy_score(y_test, pred_svm))\n",
    "def main():\n",
    "    nofeatures=[25, 50, 100, 200, 500]\n",
    "    for value in nofeatures:\n",
    "        pred(value)\n",
    "main()"
   ]
  },
  {
   "cell_type": "markdown",
   "metadata": {},
   "source": [
    "# Year 1 chi-square feature selection and prediction"
   ]
  },
  {
   "cell_type": "code",
   "execution_count": 17,
   "metadata": {},
   "outputs": [
    {
     "name": "stdout",
     "output_type": "stream",
     "text": [
      "--- Classifiers with chi-square top 25 features and year 1 data ---\n",
      "\n",
      "KNN 0.4375\n",
      "Naive Bayes 0.5\n",
      "Logistic regression 0.75\n",
      "Random forest 0.4375\n",
      "SVM 0.625\n"
     ]
    }
   ],
   "source": [
    "binned_y1['sex'] = pd.factorize(binned_y1.sex)[0]\n",
    "binned_y1['population'] = pd.factorize(binned_y1.population)[0]\n",
    "y = binned_y1.fork_length\n",
    "X = binned_y1.drop(columns=[\"fork_length\"])\n",
    "bestfeatures = SelectKBest(score_func=chi2, k=10)\n",
    "bestfeatures\n",
    "fit = bestfeatures.fit(X,y)\n",
    "dfscores = pd.DataFrame(fit.scores_)\n",
    "dfcolumns = pd.DataFrame(X.columns)\n",
    "featureScores = pd.concat([dfcolumns,dfscores],axis=1)\n",
    "featureScores.columns = ['Specs','Score']  \n",
    "varc1=str(featureScores.nlargest(26,'Score'))\n",
    "varc1.split()\n",
    "data_listc1=[]\n",
    "for values in varc1.split():\n",
    "    if \"LG\" in values:\n",
    "        data_listc1.append(values)\n",
    "x=X[data_listc1]\n",
    "y = binned_y1.fork_length\n",
    "x_train, x_test, y_train, y_test = train_test_split(x, y, test_size=0.5,random_state=2)\n",
    "\n",
    "\n",
    "print(\"--- Classifiers with chi-square top\",str(len(data_listc1)), \"features and year 1 data ---\\n\")\n",
    "classifier = KNeighborsClassifier(n_neighbors=5, p=2, metric='minkowski')\n",
    "classifier.fit(x_train, y_train)\n",
    "y_pred = classifier.predict(x_test)\n",
    "print(\"KNN\", accuracy_score(y_test, y_pred))\n",
    "\n",
    "\n",
    "classifier = GaussianNB()\n",
    "classifier.fit(x_train, y_train)\n",
    "y_pred = classifier.predict(x_test)\n",
    "print(\"Naive Bayes\", accuracy_score(y_test, y_pred))\n",
    "\n",
    "clf = LogisticRegression(random_state=0,max_iter=2000).fit(x_train, y_train)\n",
    "pred = clf.predict(x_test)\n",
    "print(\"Logistic regression\", accuracy_score(y_test, pred))\n",
    "\n",
    "ranfor = RandomForestClassifier(n_estimators = 150, criterion = 'entropy', random_state = 5, max_depth = 200)\n",
    "ranfor.fit(x_train, y_train)\n",
    "pred_ranfor = ranfor.predict(x_test)\n",
    "print(\"Random forest\", accuracy_score(y_test, pred_ranfor))\n",
    "pred_ranfor\n",
    "\n",
    "sv = svm.SVC(kernel='linear')\n",
    "sv.fit(x_train, y_train)\n",
    "pred_svm = sv.predict(x_test)\n",
    "print(\"SVM\",accuracy_score(y_test, pred_svm))"
   ]
  },
  {
   "cell_type": "markdown",
   "metadata": {},
   "source": [
    "# Year 3 chi-square feature selection and prediction"
   ]
  },
  {
   "cell_type": "code",
   "execution_count": 18,
   "metadata": {},
   "outputs": [
    {
     "name": "stdout",
     "output_type": "stream",
     "text": [
      "--- Classifiers with chi-square top 25 features and year 3 data ---\n",
      "\n",
      "KNN 0.5\n",
      "Naive Bayes 0.5625\n",
      "Logistic regression 0.375\n",
      "Random forest 0.5\n",
      "SVM 0.4375\n"
     ]
    }
   ],
   "source": [
    "binned_y3['sex'] = pd.factorize(binned_y3.sex)[0]\n",
    "binned_y3['population'] = pd.factorize(binned_y3.population)[0]\n",
    "y = binned_y3.fork_length\n",
    "X = binned_y3.drop(columns=[\"fork_length\"])\n",
    "bestfeatures = SelectKBest(score_func=chi2, k=10)\n",
    "bestfeatures\n",
    "fit = bestfeatures.fit(X,y)\n",
    "dfscores = pd.DataFrame(fit.scores_)\n",
    "dfcolumns = pd.DataFrame(X.columns)\n",
    "featureScores = pd.concat([dfcolumns,dfscores],axis=1)\n",
    "featureScores.columns = ['Specs','Score']  \n",
    "varc3=str(featureScores.nlargest(26,'Score'))\n",
    "varc3.split()\n",
    "data_listc3=[]\n",
    "for values in varc3.split():\n",
    "    if \"LG\" in values:\n",
    "        data_listc3.append(values)\n",
    "x=X[data_listc3]\n",
    "y = binned_y3.fork_length\n",
    "x_train, x_test, y_train, y_test = train_test_split(x, y, test_size=0.5,random_state=2)\n",
    "\n",
    "\n",
    "print(\"--- Classifiers with chi-square top\",str(len(data_listc3)), \"features and year 3 data ---\\n\")\n",
    "classifier = KNeighborsClassifier(n_neighbors=5, p=2, metric='minkowski')\n",
    "classifier.fit(x_train, y_train)\n",
    "y_pred = classifier.predict(x_test)\n",
    "print(\"KNN\", accuracy_score(y_test, y_pred))\n",
    "\n",
    "\n",
    "classifier = GaussianNB()\n",
    "classifier.fit(x_train, y_train)\n",
    "y_pred = classifier.predict(x_test)\n",
    "print(\"Naive Bayes\", accuracy_score(y_test, y_pred))\n",
    "\n",
    "clf = LogisticRegression(random_state=0,max_iter=2000).fit(x_train, y_train)\n",
    "pred = clf.predict(x_test)\n",
    "print(\"Logistic regression\", accuracy_score(y_test, pred))\n",
    "\n",
    "ranfor = RandomForestClassifier(n_estimators = 150, criterion = 'entropy', random_state = 5, max_depth = 200)\n",
    "ranfor.fit(x_train, y_train)\n",
    "pred_ranfor = ranfor.predict(x_test)\n",
    "print(\"Random forest\", accuracy_score(y_test, pred_ranfor))\n",
    "pred_ranfor\n",
    "\n",
    "sv = svm.SVC(kernel='linear')\n",
    "sv.fit(x_train, y_train)\n",
    "pred_svm = sv.predict(x_test)\n",
    "print(\"SVM\",accuracy_score(y_test, pred_svm))"
   ]
  },
  {
   "cell_type": "markdown",
   "metadata": {},
   "source": [
    "# Mutual information year 3"
   ]
  },
  {
   "cell_type": "code",
   "execution_count": 19,
   "metadata": {},
   "outputs": [
    {
     "ename": "KeyboardInterrupt",
     "evalue": "",
     "output_type": "error",
     "traceback": [
      "\u001b[1;31m---------------------------------------------------------------------------\u001b[0m",
      "\u001b[1;31mKeyboardInterrupt\u001b[0m                         Traceback (most recent call last)",
      "\u001b[1;32m<ipython-input-19-b8b04f328e89>\u001b[0m in \u001b[0;36m<module>\u001b[1;34m\u001b[0m\n\u001b[0;32m      5\u001b[0m \u001b[0mbestfeatures\u001b[0m \u001b[1;33m=\u001b[0m \u001b[0mSelectKBest\u001b[0m\u001b[1;33m(\u001b[0m\u001b[0mscore_func\u001b[0m\u001b[1;33m=\u001b[0m\u001b[0mmutual_info_classif\u001b[0m\u001b[1;33m,\u001b[0m \u001b[0mk\u001b[0m\u001b[1;33m=\u001b[0m\u001b[1;36m10\u001b[0m\u001b[1;33m)\u001b[0m\u001b[1;33m\u001b[0m\u001b[1;33m\u001b[0m\u001b[0m\n\u001b[0;32m      6\u001b[0m \u001b[0mbestfeatures\u001b[0m\u001b[1;33m\u001b[0m\u001b[1;33m\u001b[0m\u001b[0m\n\u001b[1;32m----> 7\u001b[1;33m \u001b[0mfit\u001b[0m \u001b[1;33m=\u001b[0m \u001b[0mbestfeatures\u001b[0m\u001b[1;33m.\u001b[0m\u001b[0mfit\u001b[0m\u001b[1;33m(\u001b[0m\u001b[0mX\u001b[0m\u001b[1;33m,\u001b[0m\u001b[0my\u001b[0m\u001b[1;33m)\u001b[0m\u001b[1;33m\u001b[0m\u001b[1;33m\u001b[0m\u001b[0m\n\u001b[0m\u001b[0;32m      8\u001b[0m \u001b[0mdfscores\u001b[0m \u001b[1;33m=\u001b[0m \u001b[0mpd\u001b[0m\u001b[1;33m.\u001b[0m\u001b[0mDataFrame\u001b[0m\u001b[1;33m(\u001b[0m\u001b[0mfit\u001b[0m\u001b[1;33m.\u001b[0m\u001b[0mscores_\u001b[0m\u001b[1;33m)\u001b[0m\u001b[1;33m\u001b[0m\u001b[1;33m\u001b[0m\u001b[0m\n\u001b[0;32m      9\u001b[0m \u001b[0mdfcolumns\u001b[0m \u001b[1;33m=\u001b[0m \u001b[0mpd\u001b[0m\u001b[1;33m.\u001b[0m\u001b[0mDataFrame\u001b[0m\u001b[1;33m(\u001b[0m\u001b[0mX\u001b[0m\u001b[1;33m.\u001b[0m\u001b[0mcolumns\u001b[0m\u001b[1;33m)\u001b[0m\u001b[1;33m\u001b[0m\u001b[1;33m\u001b[0m\u001b[0m\n",
      "\u001b[1;32m~\\Anaconda3\\lib\\site-packages\\sklearn\\feature_selection\\_univariate_selection.py\u001b[0m in \u001b[0;36mfit\u001b[1;34m(self, X, y)\u001b[0m\n\u001b[0;32m    351\u001b[0m \u001b[1;33m\u001b[0m\u001b[0m\n\u001b[0;32m    352\u001b[0m         \u001b[0mself\u001b[0m\u001b[1;33m.\u001b[0m\u001b[0m_check_params\u001b[0m\u001b[1;33m(\u001b[0m\u001b[0mX\u001b[0m\u001b[1;33m,\u001b[0m \u001b[0my\u001b[0m\u001b[1;33m)\u001b[0m\u001b[1;33m\u001b[0m\u001b[1;33m\u001b[0m\u001b[0m\n\u001b[1;32m--> 353\u001b[1;33m         \u001b[0mscore_func_ret\u001b[0m \u001b[1;33m=\u001b[0m \u001b[0mself\u001b[0m\u001b[1;33m.\u001b[0m\u001b[0mscore_func\u001b[0m\u001b[1;33m(\u001b[0m\u001b[0mX\u001b[0m\u001b[1;33m,\u001b[0m \u001b[0my\u001b[0m\u001b[1;33m)\u001b[0m\u001b[1;33m\u001b[0m\u001b[1;33m\u001b[0m\u001b[0m\n\u001b[0m\u001b[0;32m    354\u001b[0m         \u001b[1;32mif\u001b[0m \u001b[0misinstance\u001b[0m\u001b[1;33m(\u001b[0m\u001b[0mscore_func_ret\u001b[0m\u001b[1;33m,\u001b[0m \u001b[1;33m(\u001b[0m\u001b[0mlist\u001b[0m\u001b[1;33m,\u001b[0m \u001b[0mtuple\u001b[0m\u001b[1;33m)\u001b[0m\u001b[1;33m)\u001b[0m\u001b[1;33m:\u001b[0m\u001b[1;33m\u001b[0m\u001b[1;33m\u001b[0m\u001b[0m\n\u001b[0;32m    355\u001b[0m             \u001b[0mself\u001b[0m\u001b[1;33m.\u001b[0m\u001b[0mscores_\u001b[0m\u001b[1;33m,\u001b[0m \u001b[0mself\u001b[0m\u001b[1;33m.\u001b[0m\u001b[0mpvalues_\u001b[0m \u001b[1;33m=\u001b[0m \u001b[0mscore_func_ret\u001b[0m\u001b[1;33m\u001b[0m\u001b[1;33m\u001b[0m\u001b[0m\n",
      "\u001b[1;32m~\\Anaconda3\\lib\\site-packages\\sklearn\\utils\\validation.py\u001b[0m in \u001b[0;36minner_f\u001b[1;34m(*args, **kwargs)\u001b[0m\n\u001b[0;32m     71\u001b[0m                           FutureWarning)\n\u001b[0;32m     72\u001b[0m         \u001b[0mkwargs\u001b[0m\u001b[1;33m.\u001b[0m\u001b[0mupdate\u001b[0m\u001b[1;33m(\u001b[0m\u001b[1;33m{\u001b[0m\u001b[0mk\u001b[0m\u001b[1;33m:\u001b[0m \u001b[0marg\u001b[0m \u001b[1;32mfor\u001b[0m \u001b[0mk\u001b[0m\u001b[1;33m,\u001b[0m \u001b[0marg\u001b[0m \u001b[1;32min\u001b[0m \u001b[0mzip\u001b[0m\u001b[1;33m(\u001b[0m\u001b[0msig\u001b[0m\u001b[1;33m.\u001b[0m\u001b[0mparameters\u001b[0m\u001b[1;33m,\u001b[0m \u001b[0margs\u001b[0m\u001b[1;33m)\u001b[0m\u001b[1;33m}\u001b[0m\u001b[1;33m)\u001b[0m\u001b[1;33m\u001b[0m\u001b[1;33m\u001b[0m\u001b[0m\n\u001b[1;32m---> 73\u001b[1;33m         \u001b[1;32mreturn\u001b[0m \u001b[0mf\u001b[0m\u001b[1;33m(\u001b[0m\u001b[1;33m**\u001b[0m\u001b[0mkwargs\u001b[0m\u001b[1;33m)\u001b[0m\u001b[1;33m\u001b[0m\u001b[1;33m\u001b[0m\u001b[0m\n\u001b[0m\u001b[0;32m     74\u001b[0m     \u001b[1;32mreturn\u001b[0m \u001b[0minner_f\u001b[0m\u001b[1;33m\u001b[0m\u001b[1;33m\u001b[0m\u001b[0m\n\u001b[0;32m     75\u001b[0m \u001b[1;33m\u001b[0m\u001b[0m\n",
      "\u001b[1;32m~\\Anaconda3\\lib\\site-packages\\sklearn\\feature_selection\\_mutual_info.py\u001b[0m in \u001b[0;36mmutual_info_classif\u001b[1;34m(X, y, discrete_features, n_neighbors, copy, random_state)\u001b[0m\n\u001b[0;32m    445\u001b[0m     \"\"\"\n\u001b[0;32m    446\u001b[0m     \u001b[0mcheck_classification_targets\u001b[0m\u001b[1;33m(\u001b[0m\u001b[0my\u001b[0m\u001b[1;33m)\u001b[0m\u001b[1;33m\u001b[0m\u001b[1;33m\u001b[0m\u001b[0m\n\u001b[1;32m--> 447\u001b[1;33m     return _estimate_mi(X, y, discrete_features, True, n_neighbors,\n\u001b[0m\u001b[0;32m    448\u001b[0m                         copy, random_state)\n",
      "\u001b[1;32m~\\Anaconda3\\lib\\site-packages\\sklearn\\feature_selection\\_mutual_info.py\u001b[0m in \u001b[0;36m_estimate_mi\u001b[1;34m(X, y, discrete_features, discrete_target, n_neighbors, copy, random_state)\u001b[0m\n\u001b[0;32m    286\u001b[0m         \u001b[0my\u001b[0m \u001b[1;33m+=\u001b[0m \u001b[1;36m1e-10\u001b[0m \u001b[1;33m*\u001b[0m \u001b[0mnp\u001b[0m\u001b[1;33m.\u001b[0m\u001b[0mmaximum\u001b[0m\u001b[1;33m(\u001b[0m\u001b[1;36m1\u001b[0m\u001b[1;33m,\u001b[0m \u001b[0mnp\u001b[0m\u001b[1;33m.\u001b[0m\u001b[0mmean\u001b[0m\u001b[1;33m(\u001b[0m\u001b[0mnp\u001b[0m\u001b[1;33m.\u001b[0m\u001b[0mabs\u001b[0m\u001b[1;33m(\u001b[0m\u001b[0my\u001b[0m\u001b[1;33m)\u001b[0m\u001b[1;33m)\u001b[0m\u001b[1;33m)\u001b[0m \u001b[1;33m*\u001b[0m \u001b[0mrng\u001b[0m\u001b[1;33m.\u001b[0m\u001b[0mrandn\u001b[0m\u001b[1;33m(\u001b[0m\u001b[0mn_samples\u001b[0m\u001b[1;33m)\u001b[0m\u001b[1;33m\u001b[0m\u001b[1;33m\u001b[0m\u001b[0m\n\u001b[0;32m    287\u001b[0m \u001b[1;33m\u001b[0m\u001b[0m\n\u001b[1;32m--> 288\u001b[1;33m     mi = [_compute_mi(x, y, discrete_feature, discrete_target, n_neighbors) for\n\u001b[0m\u001b[0;32m    289\u001b[0m           x, discrete_feature in zip(_iterate_columns(X), discrete_mask)]\n\u001b[0;32m    290\u001b[0m \u001b[1;33m\u001b[0m\u001b[0m\n",
      "\u001b[1;32m~\\Anaconda3\\lib\\site-packages\\sklearn\\feature_selection\\_mutual_info.py\u001b[0m in \u001b[0;36m<listcomp>\u001b[1;34m(.0)\u001b[0m\n\u001b[0;32m    286\u001b[0m         \u001b[0my\u001b[0m \u001b[1;33m+=\u001b[0m \u001b[1;36m1e-10\u001b[0m \u001b[1;33m*\u001b[0m \u001b[0mnp\u001b[0m\u001b[1;33m.\u001b[0m\u001b[0mmaximum\u001b[0m\u001b[1;33m(\u001b[0m\u001b[1;36m1\u001b[0m\u001b[1;33m,\u001b[0m \u001b[0mnp\u001b[0m\u001b[1;33m.\u001b[0m\u001b[0mmean\u001b[0m\u001b[1;33m(\u001b[0m\u001b[0mnp\u001b[0m\u001b[1;33m.\u001b[0m\u001b[0mabs\u001b[0m\u001b[1;33m(\u001b[0m\u001b[0my\u001b[0m\u001b[1;33m)\u001b[0m\u001b[1;33m)\u001b[0m\u001b[1;33m)\u001b[0m \u001b[1;33m*\u001b[0m \u001b[0mrng\u001b[0m\u001b[1;33m.\u001b[0m\u001b[0mrandn\u001b[0m\u001b[1;33m(\u001b[0m\u001b[0mn_samples\u001b[0m\u001b[1;33m)\u001b[0m\u001b[1;33m\u001b[0m\u001b[1;33m\u001b[0m\u001b[0m\n\u001b[0;32m    287\u001b[0m \u001b[1;33m\u001b[0m\u001b[0m\n\u001b[1;32m--> 288\u001b[1;33m     mi = [_compute_mi(x, y, discrete_feature, discrete_target, n_neighbors) for\n\u001b[0m\u001b[0;32m    289\u001b[0m           x, discrete_feature in zip(_iterate_columns(X), discrete_mask)]\n\u001b[0;32m    290\u001b[0m \u001b[1;33m\u001b[0m\u001b[0m\n",
      "\u001b[1;32m~\\Anaconda3\\lib\\site-packages\\sklearn\\feature_selection\\_mutual_info.py\u001b[0m in \u001b[0;36m_compute_mi\u001b[1;34m(x, y, x_discrete, y_discrete, n_neighbors)\u001b[0m\n\u001b[0;32m    159\u001b[0m         \u001b[1;32mreturn\u001b[0m \u001b[0m_compute_mi_cd\u001b[0m\u001b[1;33m(\u001b[0m\u001b[0my\u001b[0m\u001b[1;33m,\u001b[0m \u001b[0mx\u001b[0m\u001b[1;33m,\u001b[0m \u001b[0mn_neighbors\u001b[0m\u001b[1;33m)\u001b[0m\u001b[1;33m\u001b[0m\u001b[1;33m\u001b[0m\u001b[0m\n\u001b[0;32m    160\u001b[0m     \u001b[1;32melif\u001b[0m \u001b[1;32mnot\u001b[0m \u001b[0mx_discrete\u001b[0m \u001b[1;32mand\u001b[0m \u001b[0my_discrete\u001b[0m\u001b[1;33m:\u001b[0m\u001b[1;33m\u001b[0m\u001b[1;33m\u001b[0m\u001b[0m\n\u001b[1;32m--> 161\u001b[1;33m         \u001b[1;32mreturn\u001b[0m \u001b[0m_compute_mi_cd\u001b[0m\u001b[1;33m(\u001b[0m\u001b[0mx\u001b[0m\u001b[1;33m,\u001b[0m \u001b[0my\u001b[0m\u001b[1;33m,\u001b[0m \u001b[0mn_neighbors\u001b[0m\u001b[1;33m)\u001b[0m\u001b[1;33m\u001b[0m\u001b[1;33m\u001b[0m\u001b[0m\n\u001b[0m\u001b[0;32m    162\u001b[0m     \u001b[1;32melse\u001b[0m\u001b[1;33m:\u001b[0m\u001b[1;33m\u001b[0m\u001b[1;33m\u001b[0m\u001b[0m\n\u001b[0;32m    163\u001b[0m         \u001b[1;32mreturn\u001b[0m \u001b[0m_compute_mi_cc\u001b[0m\u001b[1;33m(\u001b[0m\u001b[0mx\u001b[0m\u001b[1;33m,\u001b[0m \u001b[0my\u001b[0m\u001b[1;33m,\u001b[0m \u001b[0mn_neighbors\u001b[0m\u001b[1;33m)\u001b[0m\u001b[1;33m\u001b[0m\u001b[1;33m\u001b[0m\u001b[0m\n",
      "\u001b[1;32m~\\Anaconda3\\lib\\site-packages\\sklearn\\feature_selection\\_mutual_info.py\u001b[0m in \u001b[0;36m_compute_mi_cd\u001b[1;34m(c, d, n_neighbors)\u001b[0m\n\u001b[0;32m    123\u001b[0m             \u001b[0mnn\u001b[0m\u001b[1;33m.\u001b[0m\u001b[0mset_params\u001b[0m\u001b[1;33m(\u001b[0m\u001b[0mn_neighbors\u001b[0m\u001b[1;33m=\u001b[0m\u001b[0mk\u001b[0m\u001b[1;33m)\u001b[0m\u001b[1;33m\u001b[0m\u001b[1;33m\u001b[0m\u001b[0m\n\u001b[0;32m    124\u001b[0m             \u001b[0mnn\u001b[0m\u001b[1;33m.\u001b[0m\u001b[0mfit\u001b[0m\u001b[1;33m(\u001b[0m\u001b[0mc\u001b[0m\u001b[1;33m[\u001b[0m\u001b[0mmask\u001b[0m\u001b[1;33m]\u001b[0m\u001b[1;33m)\u001b[0m\u001b[1;33m\u001b[0m\u001b[1;33m\u001b[0m\u001b[0m\n\u001b[1;32m--> 125\u001b[1;33m             \u001b[0mr\u001b[0m \u001b[1;33m=\u001b[0m \u001b[0mnn\u001b[0m\u001b[1;33m.\u001b[0m\u001b[0mkneighbors\u001b[0m\u001b[1;33m(\u001b[0m\u001b[1;33m)\u001b[0m\u001b[1;33m[\u001b[0m\u001b[1;36m0\u001b[0m\u001b[1;33m]\u001b[0m\u001b[1;33m\u001b[0m\u001b[1;33m\u001b[0m\u001b[0m\n\u001b[0m\u001b[0;32m    126\u001b[0m             \u001b[0mradius\u001b[0m\u001b[1;33m[\u001b[0m\u001b[0mmask\u001b[0m\u001b[1;33m]\u001b[0m \u001b[1;33m=\u001b[0m \u001b[0mnp\u001b[0m\u001b[1;33m.\u001b[0m\u001b[0mnextafter\u001b[0m\u001b[1;33m(\u001b[0m\u001b[0mr\u001b[0m\u001b[1;33m[\u001b[0m\u001b[1;33m:\u001b[0m\u001b[1;33m,\u001b[0m \u001b[1;33m-\u001b[0m\u001b[1;36m1\u001b[0m\u001b[1;33m]\u001b[0m\u001b[1;33m,\u001b[0m \u001b[1;36m0\u001b[0m\u001b[1;33m)\u001b[0m\u001b[1;33m\u001b[0m\u001b[1;33m\u001b[0m\u001b[0m\n\u001b[0;32m    127\u001b[0m             \u001b[0mk_all\u001b[0m\u001b[1;33m[\u001b[0m\u001b[0mmask\u001b[0m\u001b[1;33m]\u001b[0m \u001b[1;33m=\u001b[0m \u001b[0mk\u001b[0m\u001b[1;33m\u001b[0m\u001b[1;33m\u001b[0m\u001b[0m\n",
      "\u001b[1;32m~\\Anaconda3\\lib\\site-packages\\sklearn\\neighbors\\_base.py\u001b[0m in \u001b[0;36mkneighbors\u001b[1;34m(self, X, n_neighbors, return_distance)\u001b[0m\n\u001b[0;32m    660\u001b[0m                 \u001b[0mdelayed_query\u001b[0m \u001b[1;33m=\u001b[0m \u001b[0mdelayed\u001b[0m\u001b[1;33m(\u001b[0m\u001b[0m_tree_query_parallel_helper\u001b[0m\u001b[1;33m)\u001b[0m\u001b[1;33m\u001b[0m\u001b[1;33m\u001b[0m\u001b[0m\n\u001b[0;32m    661\u001b[0m                 \u001b[0mparallel_kwargs\u001b[0m \u001b[1;33m=\u001b[0m \u001b[1;33m{\u001b[0m\u001b[1;34m\"prefer\"\u001b[0m\u001b[1;33m:\u001b[0m \u001b[1;34m\"threads\"\u001b[0m\u001b[1;33m}\u001b[0m\u001b[1;33m\u001b[0m\u001b[1;33m\u001b[0m\u001b[0m\n\u001b[1;32m--> 662\u001b[1;33m             chunked_results = Parallel(n_jobs, **parallel_kwargs)(\n\u001b[0m\u001b[0;32m    663\u001b[0m                 delayed_query(\n\u001b[0;32m    664\u001b[0m                     self._tree, X[s], n_neighbors, return_distance)\n",
      "\u001b[1;32m~\\Anaconda3\\lib\\site-packages\\joblib\\parallel.py\u001b[0m in \u001b[0;36m__call__\u001b[1;34m(self, iterable)\u001b[0m\n\u001b[0;32m   1027\u001b[0m             \u001b[1;31m# remaining jobs.\u001b[0m\u001b[1;33m\u001b[0m\u001b[1;33m\u001b[0m\u001b[1;33m\u001b[0m\u001b[0m\n\u001b[0;32m   1028\u001b[0m             \u001b[0mself\u001b[0m\u001b[1;33m.\u001b[0m\u001b[0m_iterating\u001b[0m \u001b[1;33m=\u001b[0m \u001b[1;32mFalse\u001b[0m\u001b[1;33m\u001b[0m\u001b[1;33m\u001b[0m\u001b[0m\n\u001b[1;32m-> 1029\u001b[1;33m             \u001b[1;32mif\u001b[0m \u001b[0mself\u001b[0m\u001b[1;33m.\u001b[0m\u001b[0mdispatch_one_batch\u001b[0m\u001b[1;33m(\u001b[0m\u001b[0miterator\u001b[0m\u001b[1;33m)\u001b[0m\u001b[1;33m:\u001b[0m\u001b[1;33m\u001b[0m\u001b[1;33m\u001b[0m\u001b[0m\n\u001b[0m\u001b[0;32m   1030\u001b[0m                 \u001b[0mself\u001b[0m\u001b[1;33m.\u001b[0m\u001b[0m_iterating\u001b[0m \u001b[1;33m=\u001b[0m \u001b[0mself\u001b[0m\u001b[1;33m.\u001b[0m\u001b[0m_original_iterator\u001b[0m \u001b[1;32mis\u001b[0m \u001b[1;32mnot\u001b[0m \u001b[1;32mNone\u001b[0m\u001b[1;33m\u001b[0m\u001b[1;33m\u001b[0m\u001b[0m\n\u001b[0;32m   1031\u001b[0m \u001b[1;33m\u001b[0m\u001b[0m\n",
      "\u001b[1;32m~\\Anaconda3\\lib\\site-packages\\joblib\\parallel.py\u001b[0m in \u001b[0;36mdispatch_one_batch\u001b[1;34m(self, iterator)\u001b[0m\n\u001b[0;32m    845\u001b[0m                 \u001b[1;32mreturn\u001b[0m \u001b[1;32mFalse\u001b[0m\u001b[1;33m\u001b[0m\u001b[1;33m\u001b[0m\u001b[0m\n\u001b[0;32m    846\u001b[0m             \u001b[1;32melse\u001b[0m\u001b[1;33m:\u001b[0m\u001b[1;33m\u001b[0m\u001b[1;33m\u001b[0m\u001b[0m\n\u001b[1;32m--> 847\u001b[1;33m                 \u001b[0mself\u001b[0m\u001b[1;33m.\u001b[0m\u001b[0m_dispatch\u001b[0m\u001b[1;33m(\u001b[0m\u001b[0mtasks\u001b[0m\u001b[1;33m)\u001b[0m\u001b[1;33m\u001b[0m\u001b[1;33m\u001b[0m\u001b[0m\n\u001b[0m\u001b[0;32m    848\u001b[0m                 \u001b[1;32mreturn\u001b[0m \u001b[1;32mTrue\u001b[0m\u001b[1;33m\u001b[0m\u001b[1;33m\u001b[0m\u001b[0m\n\u001b[0;32m    849\u001b[0m \u001b[1;33m\u001b[0m\u001b[0m\n",
      "\u001b[1;32m~\\Anaconda3\\lib\\site-packages\\joblib\\parallel.py\u001b[0m in \u001b[0;36m_dispatch\u001b[1;34m(self, batch)\u001b[0m\n\u001b[0;32m    763\u001b[0m         \u001b[1;32mwith\u001b[0m \u001b[0mself\u001b[0m\u001b[1;33m.\u001b[0m\u001b[0m_lock\u001b[0m\u001b[1;33m:\u001b[0m\u001b[1;33m\u001b[0m\u001b[1;33m\u001b[0m\u001b[0m\n\u001b[0;32m    764\u001b[0m             \u001b[0mjob_idx\u001b[0m \u001b[1;33m=\u001b[0m \u001b[0mlen\u001b[0m\u001b[1;33m(\u001b[0m\u001b[0mself\u001b[0m\u001b[1;33m.\u001b[0m\u001b[0m_jobs\u001b[0m\u001b[1;33m)\u001b[0m\u001b[1;33m\u001b[0m\u001b[1;33m\u001b[0m\u001b[0m\n\u001b[1;32m--> 765\u001b[1;33m             \u001b[0mjob\u001b[0m \u001b[1;33m=\u001b[0m \u001b[0mself\u001b[0m\u001b[1;33m.\u001b[0m\u001b[0m_backend\u001b[0m\u001b[1;33m.\u001b[0m\u001b[0mapply_async\u001b[0m\u001b[1;33m(\u001b[0m\u001b[0mbatch\u001b[0m\u001b[1;33m,\u001b[0m \u001b[0mcallback\u001b[0m\u001b[1;33m=\u001b[0m\u001b[0mcb\u001b[0m\u001b[1;33m)\u001b[0m\u001b[1;33m\u001b[0m\u001b[1;33m\u001b[0m\u001b[0m\n\u001b[0m\u001b[0;32m    766\u001b[0m             \u001b[1;31m# A job can complete so quickly than its callback is\u001b[0m\u001b[1;33m\u001b[0m\u001b[1;33m\u001b[0m\u001b[1;33m\u001b[0m\u001b[0m\n\u001b[0;32m    767\u001b[0m             \u001b[1;31m# called before we get here, causing self._jobs to\u001b[0m\u001b[1;33m\u001b[0m\u001b[1;33m\u001b[0m\u001b[1;33m\u001b[0m\u001b[0m\n",
      "\u001b[1;32m~\\Anaconda3\\lib\\site-packages\\joblib\\_parallel_backends.py\u001b[0m in \u001b[0;36mapply_async\u001b[1;34m(self, func, callback)\u001b[0m\n\u001b[0;32m    206\u001b[0m     \u001b[1;32mdef\u001b[0m \u001b[0mapply_async\u001b[0m\u001b[1;33m(\u001b[0m\u001b[0mself\u001b[0m\u001b[1;33m,\u001b[0m \u001b[0mfunc\u001b[0m\u001b[1;33m,\u001b[0m \u001b[0mcallback\u001b[0m\u001b[1;33m=\u001b[0m\u001b[1;32mNone\u001b[0m\u001b[1;33m)\u001b[0m\u001b[1;33m:\u001b[0m\u001b[1;33m\u001b[0m\u001b[1;33m\u001b[0m\u001b[0m\n\u001b[0;32m    207\u001b[0m         \u001b[1;34m\"\"\"Schedule a func to be run\"\"\"\u001b[0m\u001b[1;33m\u001b[0m\u001b[1;33m\u001b[0m\u001b[0m\n\u001b[1;32m--> 208\u001b[1;33m         \u001b[0mresult\u001b[0m \u001b[1;33m=\u001b[0m \u001b[0mImmediateResult\u001b[0m\u001b[1;33m(\u001b[0m\u001b[0mfunc\u001b[0m\u001b[1;33m)\u001b[0m\u001b[1;33m\u001b[0m\u001b[1;33m\u001b[0m\u001b[0m\n\u001b[0m\u001b[0;32m    209\u001b[0m         \u001b[1;32mif\u001b[0m \u001b[0mcallback\u001b[0m\u001b[1;33m:\u001b[0m\u001b[1;33m\u001b[0m\u001b[1;33m\u001b[0m\u001b[0m\n\u001b[0;32m    210\u001b[0m             \u001b[0mcallback\u001b[0m\u001b[1;33m(\u001b[0m\u001b[0mresult\u001b[0m\u001b[1;33m)\u001b[0m\u001b[1;33m\u001b[0m\u001b[1;33m\u001b[0m\u001b[0m\n",
      "\u001b[1;32m~\\Anaconda3\\lib\\site-packages\\joblib\\_parallel_backends.py\u001b[0m in \u001b[0;36m__init__\u001b[1;34m(self, batch)\u001b[0m\n\u001b[0;32m    570\u001b[0m         \u001b[1;31m# Don't delay the application, to avoid keeping the input\u001b[0m\u001b[1;33m\u001b[0m\u001b[1;33m\u001b[0m\u001b[1;33m\u001b[0m\u001b[0m\n\u001b[0;32m    571\u001b[0m         \u001b[1;31m# arguments in memory\u001b[0m\u001b[1;33m\u001b[0m\u001b[1;33m\u001b[0m\u001b[1;33m\u001b[0m\u001b[0m\n\u001b[1;32m--> 572\u001b[1;33m         \u001b[0mself\u001b[0m\u001b[1;33m.\u001b[0m\u001b[0mresults\u001b[0m \u001b[1;33m=\u001b[0m \u001b[0mbatch\u001b[0m\u001b[1;33m(\u001b[0m\u001b[1;33m)\u001b[0m\u001b[1;33m\u001b[0m\u001b[1;33m\u001b[0m\u001b[0m\n\u001b[0m\u001b[0;32m    573\u001b[0m \u001b[1;33m\u001b[0m\u001b[0m\n\u001b[0;32m    574\u001b[0m     \u001b[1;32mdef\u001b[0m \u001b[0mget\u001b[0m\u001b[1;33m(\u001b[0m\u001b[0mself\u001b[0m\u001b[1;33m)\u001b[0m\u001b[1;33m:\u001b[0m\u001b[1;33m\u001b[0m\u001b[1;33m\u001b[0m\u001b[0m\n",
      "\u001b[1;32m~\\Anaconda3\\lib\\site-packages\\joblib\\parallel.py\u001b[0m in \u001b[0;36m__call__\u001b[1;34m(self)\u001b[0m\n\u001b[0;32m    250\u001b[0m         \u001b[1;31m# change the default number of processes to -1\u001b[0m\u001b[1;33m\u001b[0m\u001b[1;33m\u001b[0m\u001b[1;33m\u001b[0m\u001b[0m\n\u001b[0;32m    251\u001b[0m         \u001b[1;32mwith\u001b[0m \u001b[0mparallel_backend\u001b[0m\u001b[1;33m(\u001b[0m\u001b[0mself\u001b[0m\u001b[1;33m.\u001b[0m\u001b[0m_backend\u001b[0m\u001b[1;33m,\u001b[0m \u001b[0mn_jobs\u001b[0m\u001b[1;33m=\u001b[0m\u001b[0mself\u001b[0m\u001b[1;33m.\u001b[0m\u001b[0m_n_jobs\u001b[0m\u001b[1;33m)\u001b[0m\u001b[1;33m:\u001b[0m\u001b[1;33m\u001b[0m\u001b[1;33m\u001b[0m\u001b[0m\n\u001b[1;32m--> 252\u001b[1;33m             return [func(*args, **kwargs)\n\u001b[0m\u001b[0;32m    253\u001b[0m                     for func, args, kwargs in self.items]\n\u001b[0;32m    254\u001b[0m \u001b[1;33m\u001b[0m\u001b[0m\n",
      "\u001b[1;32m~\\Anaconda3\\lib\\site-packages\\joblib\\parallel.py\u001b[0m in \u001b[0;36m<listcomp>\u001b[1;34m(.0)\u001b[0m\n\u001b[0;32m    250\u001b[0m         \u001b[1;31m# change the default number of processes to -1\u001b[0m\u001b[1;33m\u001b[0m\u001b[1;33m\u001b[0m\u001b[1;33m\u001b[0m\u001b[0m\n\u001b[0;32m    251\u001b[0m         \u001b[1;32mwith\u001b[0m \u001b[0mparallel_backend\u001b[0m\u001b[1;33m(\u001b[0m\u001b[0mself\u001b[0m\u001b[1;33m.\u001b[0m\u001b[0m_backend\u001b[0m\u001b[1;33m,\u001b[0m \u001b[0mn_jobs\u001b[0m\u001b[1;33m=\u001b[0m\u001b[0mself\u001b[0m\u001b[1;33m.\u001b[0m\u001b[0m_n_jobs\u001b[0m\u001b[1;33m)\u001b[0m\u001b[1;33m:\u001b[0m\u001b[1;33m\u001b[0m\u001b[1;33m\u001b[0m\u001b[0m\n\u001b[1;32m--> 252\u001b[1;33m             return [func(*args, **kwargs)\n\u001b[0m\u001b[0;32m    253\u001b[0m                     for func, args, kwargs in self.items]\n\u001b[0;32m    254\u001b[0m \u001b[1;33m\u001b[0m\u001b[0m\n",
      "\u001b[1;32m~\\Anaconda3\\lib\\site-packages\\sklearn\\neighbors\\_base.py\u001b[0m in \u001b[0;36m_tree_query_parallel_helper\u001b[1;34m(tree, *args, **kwargs)\u001b[0m\n\u001b[0;32m    490\u001b[0m     \u001b[0munder\u001b[0m \u001b[0mPyPy\u001b[0m\u001b[1;33m.\u001b[0m\u001b[1;33m\u001b[0m\u001b[1;33m\u001b[0m\u001b[0m\n\u001b[0;32m    491\u001b[0m     \"\"\"\n\u001b[1;32m--> 492\u001b[1;33m     \u001b[1;32mreturn\u001b[0m \u001b[0mtree\u001b[0m\u001b[1;33m.\u001b[0m\u001b[0mquery\u001b[0m\u001b[1;33m(\u001b[0m\u001b[1;33m*\u001b[0m\u001b[0margs\u001b[0m\u001b[1;33m,\u001b[0m \u001b[1;33m**\u001b[0m\u001b[0mkwargs\u001b[0m\u001b[1;33m)\u001b[0m\u001b[1;33m\u001b[0m\u001b[1;33m\u001b[0m\u001b[0m\n\u001b[0m\u001b[0;32m    493\u001b[0m \u001b[1;33m\u001b[0m\u001b[0m\n\u001b[0;32m    494\u001b[0m \u001b[1;33m\u001b[0m\u001b[0m\n",
      "\u001b[1;31mKeyboardInterrupt\u001b[0m: "
     ]
    }
   ],
   "source": [
    "binned_y3['sex'] = pd.factorize(binned_y3.sex)[0]\n",
    "binned_y3['population'] = pd.factorize(binned_y3.population)[0]\n",
    "y = binned_y3.fork_length\n",
    "X = binned_y3.drop(columns=[\"fork_length\"])\n",
    "bestfeatures = SelectKBest(score_func=mutual_info_classif, k=10)\n",
    "bestfeatures\n",
    "fit = bestfeatures.fit(X,y)\n",
    "dfscores = pd.DataFrame(fit.scores_)\n",
    "dfcolumns = pd.DataFrame(X.columns)\n",
    "featureScores = pd.concat([dfcolumns,dfscores],axis=1)\n",
    "featureScores.columns = ['Specs','Score']  \n",
    "varm3=str(featureScores.nlargest(26,'Score'))\n",
    "varm3.split()\n",
    "data_listm3=[]\n",
    "for values in varm3.split():\n",
    "    if \"LG\" in values:\n",
    "        data_listm3.append(values)\n",
    "x=X[data_listm3]\n",
    "y = binned_y3.fork_length\n",
    "x_train, x_test, y_train, y_test = train_test_split(x, y, test_size=0.5,random_state=2)\n",
    "\n",
    "\n",
    "print(\"--- Classifiers with chi-square top\",str(len(data_listm3)), \"features and year 3 data ---\\n\")\n",
    "classifier = KNeighborsClassifier(n_neighbors=5, p=2, metric='minkowski')\n",
    "classifier.fit(x_train, y_train)\n",
    "y_pred = classifier.predict(x_test)\n",
    "print(\"KNN\", accuracy_score(y_test, y_pred))\n",
    "\n",
    "\n",
    "classifier = GaussianNB()\n",
    "classifier.fit(x_train, y_train)\n",
    "y_pred = classifier.predict(x_test)\n",
    "print(\"Naive Bayes\", accuracy_score(y_test, y_pred))\n",
    "\n",
    "clf = LogisticRegression(random_state=0,max_iter=2000).fit(x_train, y_train)\n",
    "pred = clf.predict(x_test)\n",
    "print(\"Logistic regression\", accuracy_score(y_test, pred))\n",
    "\n",
    "ranfor = RandomForestClassifier(n_estimators = 150, criterion = 'entropy', random_state = 5, max_depth = 200)\n",
    "ranfor.fit(x_train, y_train)\n",
    "pred_ranfor = ranfor.predict(x_test)\n",
    "print(\"Random forest\", accuracy_score(y_test, pred_ranfor))\n",
    "pred_ranfor\n",
    "\n",
    "sv = svm.SVC(kernel='linear')\n",
    "sv.fit(x_train, y_train)\n",
    "pred_svm = sv.predict(x_test)\n",
    "print(\"SVM\",accuracy_score(y_test, pred_svm))"
   ]
  },
  {
   "cell_type": "markdown",
   "metadata": {},
   "source": [
    "# Mutual information year 1"
   ]
  },
  {
   "cell_type": "code",
   "execution_count": null,
   "metadata": {},
   "outputs": [],
   "source": [
    "binned_y1['sex'] = pd.factorize(binned_y1.sex)[0]\n",
    "binned_y1['population'] = pd.factorize(binned_y1.population)[0]\n",
    "y = binned_y3.fork_length\n",
    "X = binned_y3.drop(columns=[\"fork_length\"])\n",
    "bestfeatures = SelectKBest(score_func=mutual_info_classif, k=10)\n",
    "bestfeatures\n",
    "fit = bestfeatures.fit(X,y)\n",
    "dfscores = pd.DataFrame(fit.scores_)\n",
    "dfcolumns = pd.DataFrame(X.columns)\n",
    "featureScores = pd.concat([dfcolumns,dfscores],axis=1)\n",
    "featureScores.columns = ['Specs','Score']  \n",
    "varm1=str(featureScores.nlargest(26,'Score'))\n",
    "varm1.split()\n",
    "data_listm1=[]\n",
    "for values in varm1.split():\n",
    "    if \"LG\" in values:\n",
    "        data_listm1.append(values)\n",
    "x=X[data_listm1]\n",
    "y = binned_y3.fork_length\n",
    "x_train, x_test, y_train, y_test = train_test_split(x, y, test_size=0.5,random_state=2)\n",
    "\n",
    "\n",
    "print(\"--- Classifiers with chi-square top\",str(len(data_listm1)), \"features and year 3 data ---\\n\")\n",
    "classifier = KNeighborsClassifier(n_neighbors=5, p=2, metric='minkowski')\n",
    "classifier.fit(x_train, y_train)\n",
    "y_pred = classifier.predict(x_test)\n",
    "print(\"KNN\", accuracy_score(y_test, y_pred))\n",
    "\n",
    "\n",
    "classifier = GaussianNB()\n",
    "classifier.fit(x_train, y_train)\n",
    "y_pred = classifier.predict(x_test)\n",
    "print(\"Naive Bayes\", accuracy_score(y_test, y_pred))\n",
    "\n",
    "clf = LogisticRegression(random_state=0,max_iter=2000).fit(x_train, y_train)\n",
    "pred = clf.predict(x_test)\n",
    "print(\"Logistic regression\", accuracy_score(y_test, pred))\n",
    "\n",
    "ranfor = RandomForestClassifier(n_estimators = 150, criterion = 'entropy', random_state = 5, max_depth = 200)\n",
    "ranfor.fit(x_train, y_train)\n",
    "pred_ranfor = ranfor.predict(x_test)\n",
    "print(\"Random forest\", accuracy_score(y_test, pred_ranfor))\n",
    "pred_ranfor\n",
    "\n",
    "sv = svm.SVC(kernel='linear')\n",
    "sv.fit(x_train, y_train)\n",
    "pred_svm = sv.predict(x_test)\n",
    "print(\"SVM\",accuracy_score(y_test, pred_svm))"
   ]
  },
  {
   "cell_type": "code",
   "execution_count": null,
   "metadata": {},
   "outputs": [],
   "source": [
    "combined_list= [data_listc1, data_listc3, data_listm1, data_listm3, y1_relief_top, y3_relief_top]\n",
    "combined_list_names= [\"data_listc1\", \"data_listc3\", \"data_listm1\", \"data_listm3\", \"y1_relief_top\", \"y3_relief_top\"]\n",
    "count_list=[]\n",
    "\n",
    "iterator=0\n",
    "for separate_list in combined_list:\n",
    "    for value in separate_list:\n",
    "        for i in range(len(combined_list)-iterator):\n",
    "            for list_against in combined_list[len(combined_list)-1-i]:\n",
    "                if value in list_against:\n",
    "                    if combined_list_names[iterator] != combined_list_names[len(combined_list)-1-i]:\n",
    "                        print(value, combined_list_names[iterator], combined_list_names[len(combined_list)-1-i] )\n",
    "    iterator+=1"
   ]
  }
 ],
 "metadata": {
  "kernelspec": {
   "display_name": "Python 3",
   "language": "python",
   "name": "python3"
  },
  "language_info": {
   "codemirror_mode": {
    "name": "ipython",
    "version": 3
   },
   "file_extension": ".py",
   "mimetype": "text/x-python",
   "name": "python",
   "nbconvert_exporter": "python",
   "pygments_lexer": "ipython3",
   "version": "3.8.3"
  }
 },
 "nbformat": 4,
 "nbformat_minor": 4
}
