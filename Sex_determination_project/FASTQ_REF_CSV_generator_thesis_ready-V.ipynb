{
 "cells": [
  {
   "cell_type": "code",
   "execution_count": null,
   "metadata": {
    "collapsed": true
   },
   "outputs": [],
   "source": [
    "#######################################\n",
    "Function: \n",
    "Generate all of the database data that will be used in the SQLite FASTQ data database:\n",
    "1. First and second lane 1 and 2 trimmed and untrimmed read filename identifiers per row.\n",
    "2. Path to untrimmed reads per row.\n",
    "3. Group animal ID number of the reads per row.\n",
    "4. Path to trimmed reads per row.\n",
    "5. Species scientific name abbreviation per row.\n",
    "6. Read names per row.\n",
    "7. Sex per row.\n",
    "\n",
    "Output:\n",
    "A CSV file called 'fastq_data.csv'.\n",
    "#######################################"
   ]
  },
  {
   "cell_type": "code",
   "execution_count": 3,
   "metadata": {
    "collapsed": true
   },
   "outputs": [],
   "source": [
    "import csv\n",
    "L1R1 = \"L001_R1.fastq.gz\"\n",
    "L1R1T = \"L001_R1.trimmed.fq.gz\"\n",
    "L1R2 = \"L001_R2.fastq.gz\"\n",
    "L1R2T = \"L001_R2.trimmed.fq.gz\"\n",
    "L2R1 = \"L002_R1.fastq.gz\"\n",
    "L2R1T = \"L002_R1.trimmed.fq.gz\"\n",
    "L2R2 = \"L002_R2.fastq.gz\"\n",
    "L2R2T = \"L002_R2.trimmed.fq.gz\"\n",
    "PTH = '/input/genomic/fish/Pseudocaranx/georgianus/Resequencing/AGRF_CAGRF15067_CBRE3ANXX'\n",
    "FID = list(range(1, 14))\n",
    "TRPTH = \"/powerplant/workspace/hramzr/DNAseq_mapping/reads_alignment\"\n",
    "species =\"pg\"\n",
    "read_names = ['TRE_076273771_2TBS_CBRE3ANXX_TAGCTTAT_',\n",
    "'TRE_076274341_3TBS_CBRE3ANXX_GGCTACAT_',\n",
    "'TRE_076276567_4TBS_CBRE3ANXX_CTTGTAAT_',\n",
    "'TRE_076285546_8TBS_CBRE3ANXX_CCGTCCCG_',\n",
    "'TRE_076286615_10TBS_CBRE3ANXX_GTGAAACG_',\n",
    "'TRE_076287300_1TBS_CBRE3ANXX_GATCAGAT_',\n",
    "'TRE_076288269_7TBS_CBRE3ANXX_ATGTCAGA_',\n",
    "'TRE_076289591_12TBS_CBRE3ANXX_GTTTCGGA_',\n",
    "'TRE_076294349_6TBS_CBRE3ANXX_AGTTCCGT_',\n",
    "'TRE_076294363_13TBS_CBRE3ANXX_CGTACGTA_',\n",
    "'TRE_076309071_5TBS_CBRE3ANXX_AGTCAACA_',\n",
    "'TRE_076309620_11TBS_CBRE3ANXX_GTGGCCTT_',\n",
    "'TRE_076320598_9TBS_CBRE3ANXX_GTCCGCAC_']\n",
    "read_names.reverse()\n",
    "sex =['male', 'female', 'male', 'female', 'male', 'female', 'female', 'female',\n",
    "     'male', 'female', 'male', 'male', 'male']\n",
    "\n",
    "\n",
    "with open('fastq_data.csv', 'w') as csvFile:\n",
    "    writer = csv.writer(csvFile)\n",
    "    writer.writerow(['fastq_id', 'path','sex', 'read1_L001',\n",
    "           'read1_L001_trimmed', 'read2_L001',\n",
    "           'read2_L001_trimmed', 'read1_L002',\n",
    "           'read1_L002_trimmed', 'read2_L002',\n",
    "           'read2_L002_trimmed', 'trimmed_path', 'species'])\n",
    "    for i in range(13):\n",
    "        line = [FID[i], PTH, sex[i], read_names[i]+L1R1, read_names[i]+L1R1T,\n",
    "                   read_names[i]+L1R2, read_names[i]+L1R2T, read_names[i]+L2R1, \n",
    "                  read_names[i]+L2R1T, read_names[i]+L2R2, read_names[i]+L2R2T, \n",
    "                  TRPTH, species]\n",
    "        writer.writerow(line)\n",
    "csvFile.close()\n",
    "        "
   ]
  },
  {
   "cell_type": "code",
   "execution_count": null,
   "metadata": {
    "collapsed": true
   },
   "outputs": [],
   "source": [
    "#######################################\n",
    "Function: \n",
    "Generate all of the database data that will be used in the SQLite REF data database:\n",
    "1. Reference ID number.\n",
    "2. Path.\n",
    "3. Filename.\n",
    "\n",
    "Output:\n",
    "A CSV file called 'ref_data.csv'.\n",
    "#######################################"
   ]
  },
  {
   "cell_type": "code",
   "execution_count": 5,
   "metadata": {
    "collapsed": true
   },
   "outputs": [],
   "source": [
    "import csv\n",
    "with open('ref_data.csv', 'w') as csvFile:\n",
    "    writer = csv.writer(csvFile)\n",
    "    writer.writerow(['ref_id', 'index_path', 'index'])\n",
    "    line = [1, \"/powerplant/workspace/1/genome_analysis/fish/Pseudocaranx/genome\", \"caranx_ignoblis.v1.dna.superscaffold.fa.gz\"]\n",
    "    writer.writerow(line)\n",
    "csvFile.close()"
   ]
  }
 ],
 "metadata": {
  "kernelspec": {
   "display_name": "PFR Python3-3.6.5",
   "language": "python",
   "name": "pfr-python3-3.6.5"
  },
  "language_info": {
   "codemirror_mode": {
    "name": "ipython",
    "version": 3
   },
   "file_extension": ".py",
   "mimetype": "text/x-python",
   "name": "python",
   "nbconvert_exporter": "python",
   "pygments_lexer": "ipython3",
   "version": "3.6.5"
  }
 },
 "nbformat": 4,
 "nbformat_minor": 2
}
