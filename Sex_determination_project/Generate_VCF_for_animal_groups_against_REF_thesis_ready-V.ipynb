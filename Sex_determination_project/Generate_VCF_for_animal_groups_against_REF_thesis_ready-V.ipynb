{
 "cells": [
  {
   "cell_type": "code",
   "execution_count": null,
   "metadata": {
    "collapsed": true
   },
   "outputs": [],
   "source": [
    "#######################################\n",
    "Function: \n",
    "Make a data folder to store bamlist data.\n",
    "#######################################"
   ]
  },
  {
   "cell_type": "code",
   "execution_count": 3,
   "metadata": {},
   "outputs": [
    {
     "name": "stdout",
     "output_type": "stream",
     "text": [
      "mkdir: cannot create directory ‘00.data’: File exists\n"
     ]
    },
    {
     "ename": "",
     "evalue": "1",
     "output_type": "error",
     "traceback": []
    }
   ],
   "source": [
    "mkdir 00.data"
   ]
  },
  {
   "cell_type": "code",
   "execution_count": null,
   "metadata": {
    "collapsed": true
   },
   "outputs": [],
   "source": [
    "#######################################\n",
    "Function: \n",
    "Create a list that contains all of the BAM group names.\n",
    "\n",
    "Output:\n",
    "bams.lst(file that contains all of the BAMfiles)\n",
    "#######################################"
   ]
  },
  {
   "cell_type": "code",
   "execution_count": 1,
   "metadata": {
    "collapsed": true
   },
   "outputs": [],
   "source": [
    "#write sample data\n",
    "bamdir=\"/workspace/hramzr/DNAseq_mapping/alignment/05.add_read_group_IDs/\"\n",
    "f = open(\"00.data/bams.lst\", \"w\")\n",
    "for i in range(13):\n",
    "    if i < 9:\n",
    "        f.write(bamdir+\"0\"+str(i+1)+\"_group.bam\\n\")\n",
    "    else:\n",
    "        f.write(bamdir+str(i+1)+\"_group.bam\\n\")\n",
    "f.close()"
   ]
  },
  {
   "cell_type": "markdown",
   "metadata": {},
   "source": [
    "#### Generate vcf file with Freebayes"
   ]
  },
  {
   "cell_type": "code",
   "execution_count": null,
   "metadata": {
    "collapsed": true
   },
   "outputs": [],
   "source": [
    "#######################################\n",
    "Function: \n",
    "Create a folder that stores log data and temporal data generated when running freebayes.\n",
    "#######################################"
   ]
  },
  {
   "cell_type": "code",
   "execution_count": 2,
   "metadata": {
    "collapsed": true
   },
   "outputs": [],
   "source": [
    "mkdir -p 01.freebayes/log\n",
    "mkdir -p 01.freebayes/tmp"
   ]
  },
  {
   "cell_type": "code",
   "execution_count": null,
   "metadata": {
    "collapsed": true
   },
   "outputs": [],
   "source": [
    "#######################################\n",
    "Input:\n",
    "nz_trevally.fasta(reference sequence)\n",
    "\n",
    "Function: \n",
    "Index the reference sequence in order to generate VCF data from it with freebayes later on.\n",
    "\n",
    "Output:\n",
    "nz_trevally.fai(indexed reference sequence)\n",
    "#######################################"
   ]
  },
  {
   "cell_type": "code",
   "execution_count": 3,
   "metadata": {
    "collapsed": true
   },
   "outputs": [],
   "source": [
    "module load samtools/1.9\n",
    "#index ref and define REF\n",
    "REF=/workspace/hramzr/nz_trevally.fasta\n",
    "samtools faidx ${REF}"
   ]
  },
  {
   "cell_type": "code",
   "execution_count": null,
   "metadata": {
    "collapsed": true
   },
   "outputs": [],
   "source": [
    "#######################################\n",
    "Input:\n",
    "1. Reference sequence\n",
    "2. BAM groups(by bamlist)\n",
    "\n",
    "Function: \n",
    "Generate VCF data from the BAM groups as opposed to the reference.\n",
    "\n",
    "Output:\n",
    "animal_groups_to_ref.vcf(VCF file generated from 13 animal BAM files opposed to REF)\n",
    "#######################################"
   ]
  },
  {
   "cell_type": "code",
   "execution_count": 4,
   "metadata": {},
   "outputs": [
    {
     "name": "stdout",
     "output_type": "stream",
     "text": [
      "Job <41427> is submitted to default queue <normal>.\n"
     ]
    }
   ],
   "source": [
    "export TMPDIR=01.freebayes/tmp\n",
    "\n",
    "\n",
    "#define other variables\n",
    "REFINDEX=${REF}.fai\n",
    "BAM=00.data/bams.lst\n",
    "PAR=/software/bioinformatics/freebayes-1.1.0/scripts\n",
    "WKDIR=01.freebayes\n",
    "module load freebayes/1.1.0\n",
    "module load tabix/0.2.6\n",
    "module load samtools\n",
    "\n",
    "bsub << EOF\n",
    "#!/bin/bash\n",
    "freebayes-parallel <($PAR/fasta_generate_regions.py $REFINDEX 1000000) 60 \\\n",
    "-f $REF -L $BAM -C 5 -k --report-genotype-likelihood-max --min-mapping-quality 10 \\\n",
    "--genotype-qualities --use-mapping-quality --no-mnps --no-complex  > 01.freebayes/animal_groups_to_ref.vcf\n",
    "EOF"
   ]
  }
 ],
 "metadata": {
  "kernelspec": {
   "display_name": "R-3.4.4",
   "language": "R",
   "name": "ir3.4.4"
  },
  "language_info": {
   "codemirror_mode": "r",
   "file_extension": ".r",
   "mimetype": "text/x-r-source",
   "name": "R",
   "pygments_lexer": "r",
   "version": "3.4.4"
  }
 },
 "nbformat": 4,
 "nbformat_minor": 2
}
