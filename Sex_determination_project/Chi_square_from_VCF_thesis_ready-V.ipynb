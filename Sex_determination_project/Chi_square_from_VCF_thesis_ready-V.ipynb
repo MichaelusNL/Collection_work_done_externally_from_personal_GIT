{
 "cells": [
  {
   "cell_type": "code",
   "execution_count": null,
   "metadata": {},
   "outputs": [],
   "source": [
    "#######################################\n",
    "Input: \n",
    "animal_groups_to_ref.vcf(VCF file with variant calls per animal group)\n",
    "    \n",
    "Function: \n",
    "Change the VCF format to a format where genotypes are defined per group in a 0/0 1/0 etc. format. and\n",
    "write this of to a CSV file.\n",
    "\n",
    "Output:\n",
    "CSV file with genotypes per animal group per scaffold position.\n",
    "#######################################"
   ]
  },
  {
   "cell_type": "code",
   "execution_count": null,
   "metadata": {},
   "outputs": [],
   "source": [
    "#Get genotype from VCF per sample and scaffold pos\n",
    "library(vcfR)\n",
    "vcf <- read.vcfR(\"/workspace/hramzr/vcf_file_generation/01.freebayes/animal_groups_to_ref.vcf\", checkFile=F)\n",
    "gt <- extract.gt(vcf, element = c('GT'))\n",
    "?extract.gt\n",
    "library(dplyr)\n",
    "library(data.table)\n",
    "write.csv(gt, \"geno.csv\")"
   ]
  },
  {
   "cell_type": "code",
   "execution_count": null,
   "metadata": {},
   "outputs": [],
   "source": [
    "#######################################\n",
    "Function: \n",
    "Run the cell above on the cluster for big size computation, as it was tested in reduced size.\n",
    "#######################################"
   ]
  },
  {
   "cell_type": "code",
   "execution_count": null,
   "metadata": {},
   "outputs": [],
   "source": [
    "#run 2 cells above, but in a fashion that enables big size computation\n",
    "module load R/3.4.3 \n",
    "bsub -n 8 -e Rerror.err \"Rscript Convert_VCF_to_genotype_table.r\""
   ]
  },
  {
   "cell_type": "code",
   "execution_count": null,
   "metadata": {},
   "outputs": [],
   "source": [
    "#######################################\n",
    "Input: \n",
    "geno.csv(csv file with genotypes, unordened per sex)\n",
    "\n",
    "Function: \n",
    "The goal of this cel is to order all columns from male to female and to change all values to strings in order to turn the\n",
    "strings to unique integers later on, which is needed for the chi square test.\n",
    "\n",
    "Output:\n",
    "ordered_csv.csv(csv file with columns ordered from males to females and with all values in string format)\n",
    "#######################################"
   ]
  },
  {
   "cell_type": "code",
   "execution_count": null,
   "metadata": {},
   "outputs": [],
   "source": [
    "import pandas as pd\n",
    "#read csv in python\n",
    "df = pd.read_csv(\"/workspace/hramzr/Fisher_tests/geno.csv\", index_col=0)\n",
    "df\n",
    "#insert order of male to female\n",
    "df = df[[\"01_group\", \"03_group\", \"05_group\", \"09_group\",\n",
    "         \"11_group\", \"12_group\", \"13_group\", \"02_group\",\n",
    "         \"04_group\", \"06_group\", \"07_group\", \"08_group\", \"10_group\"]]\n",
    "\n",
    "df = df.applymap(str)\n",
    "df.to_csv(\"ordered_csv.csv\", sep='\\t', encoding='utf-8')"
   ]
  },
  {
   "cell_type": "code",
   "execution_count": null,
   "metadata": {},
   "outputs": [],
   "source": [
    "#######################################\n",
    "Input: \n",
    "ordered_csv.csv(file with ordered genotype BAM groups, header included)\n",
    "\n",
    "Function: \n",
    "remove column identifiers as these are not necessary for the factorization step which will come next, \n",
    "as this will happen per line.\n",
    "\n",
    "output:\n",
    "loopfile.txt(file ready to be looped line for line with genotypes, with the headers removed)\n",
    "#######################################"
   ]
  },
  {
   "cell_type": "code",
   "execution_count": null,
   "metadata": {},
   "outputs": [],
   "source": [
    "cat ordered_csv.csv | tail -n +2 > loopfile.txt"
   ]
  },
  {
   "cell_type": "code",
   "execution_count": null,
   "metadata": {},
   "outputs": [],
   "source": [
    "#######################################\n",
    "Input:\n",
    "Loopfile.txt(file with genotypes per region across sex groups.\n",
    "\n",
    "Function: \n",
    "1. Read each line with genotypes per region and factorize the strings to unique integers, for them to be read by the chi square test.\n",
    "2. Get a count of unique integers per gender to make a dynamic table.\n",
    "3. Run this table and store the p-value along with the scaffold name and position in a text file called chi_data.\n",
    "\n",
    "output:\n",
    "chi_data(file with scaffold name, pos and p_value per region)\n",
    "#######################################"
   ]
  },
  {
   "cell_type": "code",
   "execution_count": null,
   "metadata": {},
   "outputs": [],
   "source": [
    "#Factorize the strings to unique integers\n",
    "import pandas as pd\n",
    "f = open(\"loopfile.txt\", \"r\")\n",
    "f = f.readlines()\n",
    "\n",
    "list_of_unique_indexes=[]\n",
    "for line in f:\n",
    "    line = line.split()\n",
    "    values = line[1:]\n",
    "    s = pd.Series(values)\n",
    "    s = pd.factorize(s)[0] + 1\n",
    "    final_line = s.tolist()\n",
    "    final_line.insert(0,line[0])\n",
    "    list_of_unique_indexes.append(final_line)\n",
    "\n",
    "import numpy as np\n",
    "import scipy.stats as stats\n",
    "import collections\n",
    "f = open(\"chi_data\", \"w\")\n",
    "for line in list_of_unique_indexes:\n",
    "    \n",
    "#split line in male and female variants\n",
    "    male = line[1:8]\n",
    "    female = line[8:]\n",
    "    \n",
    "#Count each unique integer per variant and put them in a dictionary per male and female next make a list of lists with \n",
    "#every unique value's counts per gender\n",
    "    varlist= []\n",
    "    counterM=collections.Counter(male)\n",
    "    counterF=collections.Counter(female)\n",
    "    for i in range(max(line[1:])):\n",
    "        varlist.append([counterM[i+1], counterF[i+1]])\n",
    "\n",
    "#Turn the list of lists to a np.array and calculate the chi2_stat, p_val, dof, ex with the chi_square test.\n",
    "    table = np.array(varlist)\n",
    "    chi2_stat, p_val, dof, ex = stats.chi2_contingency(table)    \n",
    "\n",
    "#p_value 1.0 means no difference between samples lower than 1.0 means a difference the lower the more difference\n",
    "    \n",
    "#write scaffold name, pos and p_value to chi_data out  \n",
    "    out = line[0].split(\"_\")\n",
    "    out.append(p_val)\n",
    "    finallist =[out[0], int(out[1]), out[2]]\n",
    "    f.write(str(finallist).replace(\"[\", \"\").replace(\"]\", \"\").replace(\",\", \"\")+\"\\n\")\n",
    "f.close()\n",
    "    \n"
   ]
  },
  {
   "cell_type": "code",
   "execution_count": null,
   "metadata": {},
   "outputs": [],
   "source": [
    "#######################################\n",
    "Function: \n",
    "Run the cell above on the cluster for big size computation, as it was tested in reduced size.\n",
    "#######################################"
   ]
  },
  {
   "cell_type": "code",
   "execution_count": null,
   "metadata": {},
   "outputs": [],
   "source": [
    "#run fact and chisq cell above\n",
    "module load pfr-python3/3.6.5\n",
    "# module avail\n",
    "bsub -n 8 -e pyerror.err \"python Factorize_and_chisq.py\""
   ]
  },
  {
   "cell_type": "code",
   "execution_count": null,
   "metadata": {},
   "outputs": [],
   "source": [
    "#######################################\n",
    "Input:\n",
    "chi_data(file with scaffold name, pos and p_value per region)\n",
    "\n",
    "Function: \n",
    "Get the average p_value per 500 bases in order to remove outliers and to keep this value similar to that of \n",
    "other tests for comparing.   \n",
    "    \n",
    "Output:\n",
    "meansp.txt(file with scaffold name, pos and p_value per 500b region)\n",
    "#######################################"
   ]
  },
  {
   "cell_type": "code",
   "execution_count": null,
   "metadata": {},
   "outputs": [],
   "source": [
    "#means per tick of 500 positions, in order to rid of outliers.\n",
    "library(data.table)\n",
    "library(ggplot2)\n",
    "library(dplyr)\n",
    "\n",
    "df <- read.table(\"/workspace/hramzr/Fisher_tests/chi_data\", header = FALSE)\n",
    "col_names <- c(\"SCAFFOLD\", 'POS', \"PVAL\" )\n",
    "colnames(df) <- col_names\n",
    "with_bins <- mutate(df, bin_start=(ceiling(POS/500)*500)-500)\n",
    "by_bin <- group_by(with_bins, bin_start, SCAFFOLD)\n",
    "by_bin$POS <- NULL\n",
    "bin_means <- summarise(by_bin, PVAL = mean(PVAL))\n",
    "bin_means <- mutate(bin_means, minus_log10_P=-log10(PVAL))\n",
    "write.table(bin_means, file = \"meansp.txt\", sep = \"\\t\",\n",
    "            row.names = FALSE, col.names = FALSE)"
   ]
  },
  {
   "cell_type": "code",
   "execution_count": null,
   "metadata": {},
   "outputs": [],
   "source": [
    "#######################################\n",
    "Input:\n",
    "meansp.txt(file with -log10P values and scaffold data)\n",
    "\n",
    "Function: \n",
    "Filter the regions with a -log10P threshold, for plot making and comparative analysis with the other tests.\n",
    "\n",
    "Output:\n",
    "var[variable identifier, based on threshold](file with regions that are filtered by a specific -log10P value)\n",
    "#######################################"
   ]
  },
  {
   "cell_type": "code",
   "execution_count": null,
   "metadata": {},
   "outputs": [],
   "source": [
    "#filter out on -log10p threshold\n",
    "# cat meansp.txt | awk '{ if($4 > 1.5) { print }}'>var1d5\n",
    "# cat meansp.txt | awk '{ if($4 > 2.0) { print }}'>var2d0\n",
    "# cat meansp.txt | awk '{ if($4 > 2.5) { print }}'>var2d5\n",
    "# cat meansp.txt | awk '{ if($4 > 2.8) { print }}'>var2d8\n",
    "cat meansp.txt | awk '{ if($4 > 1.56) { print }}'>var1d56"
   ]
  },
  {
   "cell_type": "code",
   "execution_count": null,
   "metadata": {},
   "outputs": [],
   "source": [
    "#######################################\n",
    "Input:\n",
    "var[1d5, 2d0, 2d5 and 2d8](filtered files with scaffold names, regions and -log10P values)\n",
    "\n",
    "Function: \n",
    "Plot the scaffolds of threshold filtered files.\n",
    "\n",
    "Output:\n",
    "\n",
    "Visualised plots.\n",
    "#######################################"
   ]
  },
  {
   "cell_type": "code",
   "execution_count": 2,
   "metadata": {},
   "outputs": [
    {
     "data": {
      "text/plain": [
       "Text(0.5,1,'Scatterplot position versus confidence rate')"
      ]
     },
     "execution_count": 2,
     "metadata": {},
     "output_type": "execute_result"
    },
    {
     "data": {
      "image/png": "[encoded data removed]",
      "text/plain": [
       "<Figure size 720x720 with 1 Axes>"
      ]
     },
     "metadata": {},
     "output_type": "display_data"
    },
    {
     "data": {
      "image/png": "[encoded data removed]",
      "text/plain": [
       "<Figure size 720x720 with 1 Axes>"
      ]
     },
     "metadata": {},
     "output_type": "display_data"
    },
    {
     "data": {
      "image/png": "[encoded data removed]",
      "text/plain": [
       "<Figure size 720x720 with 1 Axes>"
      ]
     },
     "metadata": {},
     "output_type": "display_data"
    },
    {
     "data": {
      "image/png": "[encoded data removed]",
      "text/plain": [
       "<Figure size 720x720 with 1 Axes>"
      ]
     },
     "metadata": {},
     "output_type": "display_data"
    }
   ],
   "source": [
    "#scatterplot results\n",
    "import pandas \n",
    "import numpy as np\n",
    "import pandas as pd\n",
    "import matplotlib.pyplot as plt\n",
    "\n",
    "\n",
    "#-log10p 1.5\n",
    "df  = pd.read_csv(\"/workspace/hramzr/Fisher_tests/var1d5\", delimiter=\"\\t\", header=None)\n",
    "plot1 = df.plot(kind='scatter',x=0 ,y=2,figsize=(10,10)) # scatter plot\n",
    "plot1.set_ylabel(\"-log10p\")\n",
    "plot1.set_xlabel(\"start\")\n",
    "plot1.set_title(\"Scatterplot position versus confidence rate\")\n",
    "\n",
    "#-log10p 2.0\n",
    "df  = pd.read_csv(\"/workspace/hramzr/Fisher_tests/var2d0\", delimiter=\"\\t\", header=None)\n",
    "plot2 = df.plot(kind='scatter',x=0 ,y=2,figsize=(10,10)) # scatter plot\n",
    "plot2.set_ylabel(\"-log10p\")\n",
    "plot2.set_xlabel(\"start\")\n",
    "plot2.set_title(\"Scatterplot position versus confidence rate\")\n",
    "\n",
    "#-log10p 2.5\n",
    "df  = pd.read_csv(\"/workspace/hramzr/Fisher_tests/var2d5\", delimiter=\"\\t\", header=None)\n",
    "plot2 = df.plot(kind='scatter',x=0 ,y=2,figsize=(10,10)) # scatter plot\n",
    "plot2.set_ylabel(\"-log10p\")\n",
    "plot2.set_xlabel(\"start\")\n",
    "plot2.set_title(\"Scatterplot position versus confidence rate\")\n",
    "\n",
    "#-log10p 2.8\n",
    "df  = pd.read_csv(\"/workspace/hramzr/Fisher_tests/var2d8\", delimiter=\"\\t\", header=None)\n",
    "plot2 = df.plot(kind='scatter',x=0 ,y=2,figsize=(10,10)) # scatter plot\n",
    "plot2.set_ylabel(\"-log10p\")\n",
    "plot2.set_xlabel(\"start\")\n",
    "plot2.set_title(\"Scatterplot position versus confidence rate\")"
   ]
  }
 ],
 "metadata": {
  "kernelspec": {
   "display_name": "PFR Python3-3.6.5",
   "language": "python",
   "name": "pfr-python3-3.6.5"
  },
  "language_info": {
   "codemirror_mode": {
    "name": "ipython",
    "version": 3
   },
   "file_extension": ".py",
   "mimetype": "text/x-python",
   "name": "python",
   "nbconvert_exporter": "python",
   "pygments_lexer": "ipython3",
   "version": "3.6.5"
  }
 },
 "nbformat": 4,
 "nbformat_minor": 2
}
