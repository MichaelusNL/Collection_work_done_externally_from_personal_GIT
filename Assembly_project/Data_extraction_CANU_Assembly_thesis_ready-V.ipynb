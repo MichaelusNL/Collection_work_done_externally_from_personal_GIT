{
 "cells": [
  {
   "cell_type": "code",
   "execution_count": null,
   "metadata": {},
   "outputs": [],
   "source": [
    "#######################################\n",
    "Function:\n",
    "Create folders for file storage.\n",
    "\n",
    "Output:\n",
    "1. data (folder for storage of starting data)\n",
    "2. log (folder for storage of error and out files)\n",
    "3. fastq (folder for storage of FASTQ files)\n",
    "4. bamfiles (folder for storage of bam files)\n",
    "#######################################"
   ]
  },
  {
   "cell_type": "code",
   "execution_count": 5,
   "metadata": {},
   "outputs": [
    {
     "name": "stdout",
     "output_type": "stream",
     "text": [
      "mkdir: cannot create directory ‘data’: File exists\n",
      "mkdir: cannot create directory ‘log’: File exists\n"
     ]
    }
   ],
   "source": [
    "# make dirs\n",
    "mkdir data\n",
    "mkdir log\n",
    "mkdir fastq\n",
    "mkdir bamfiles"
   ]
  },
  {
   "cell_type": "code",
   "execution_count": null,
   "metadata": {},
   "outputs": [],
   "source": [
    "#######################################\n",
    "Input:\n",
    "1. *.gz files (Zipped folders with Pacbio data at /input/genomic/fish/Pseudocaranx/georgianus/PacBio/June2019/)\n",
    "\n",
    "Function:\n",
    "Copy the PacBio data to /workspace/hramzr/github/Trevally/PacBio/data/  to work on it from there.\n",
    "\n",
    "Output:\n",
    "1. *.gz files (Zipped folders with Pacbio data at /workspace/hramzr/github/Trevally/PacBio/data/)\n",
    "#######################################"
   ]
  },
  {
   "cell_type": "code",
   "execution_count": 5,
   "metadata": {},
   "outputs": [
    {
     "name": "stdout",
     "output_type": "stream",
     "text": [
      "Job <303804> is submitted to default queue <normal>.\n"
     ]
    }
   ],
   "source": [
    "#Copy compressed files to data directory\n",
    "bsub \\\n",
    "-o log/zxvf.out -e log/zxvf.err \\\n",
    "\"cp /input/genomic/fish/Pseudocaranx/georgianus/PacBio/June2019/*.gz /workspace/hramzr/github/Trevally/PacBio/data/\" "
   ]
  },
  {
   "cell_type": "code",
   "execution_count": null,
   "metadata": {},
   "outputs": [],
   "source": [
    "#######################################\n",
    "Input:\n",
    "1. r54111-20190529-172127.tar.gz file (Tar zipped folders with Pacbio data at  /workspace/hramzr/github/Trevally/PacBio/data/)\n",
    "\n",
    "Function:\n",
    "Unpack the PacBio tar zipped folder files.\n",
    "\n",
    "Output:\n",
    "1. gscmnt folder (contains all PacBio data)\n",
    "#######################################"
   ]
  },
  {
   "cell_type": "code",
   "execution_count": 2,
   "metadata": {},
   "outputs": [
    {
     "name": "stdout",
     "output_type": "stream",
     "text": [
      "Job <303895> is submitted to default queue <normal>.\n"
     ]
    }
   ],
   "source": [
    "#Unzip and tar file 1\n",
    "bsub \\\n",
    "-o log/zxvf.out -e log/zxvf.err \\\n",
    "\"tar xzf /workspace/hramzr/github/Trevally/PacBio/data/r54111-20190529-172127.tar.gz\""
   ]
  },
  {
   "cell_type": "code",
   "execution_count": null,
   "metadata": {},
   "outputs": [],
   "source": [
    "#######################################\n",
    "Input:\n",
    "1. r54111-20190531-145345.tar.gz file (Tar zipped folders with Pacbio data at  /workspace/hramzr/github/Trevally/PacBio/data/)\n",
    "\n",
    "Function:\n",
    "Unpack the PacBio tar zipped folder files.\n",
    "\n",
    "Output:\n",
    "1. gscmnt folder (contains all PacBio data)\n",
    "#######################################"
   ]
  },
  {
   "cell_type": "code",
   "execution_count": 3,
   "metadata": {},
   "outputs": [
    {
     "name": "stdout",
     "output_type": "stream",
     "text": [
      "Job <303896> is submitted to default queue <normal>.\n"
     ]
    }
   ],
   "source": [
    "#Unzip and tar file 2\n",
    "bsub \\\n",
    "-o log/zxvf.out -e log/zxvf.err \\\n",
    "\"tar xzf /workspace/hramzr/github/Trevally/PacBio/data/r54111-20190531-145345.tar.gz\""
   ]
  },
  {
   "cell_type": "code",
   "execution_count": null,
   "metadata": {},
   "outputs": [],
   "source": [
    "#######################################\n",
    "Input:\n",
    "1. m54111_190529_173814.subreads.bam (in gscmnt folder)\n",
    "2. m54111_190531_160028.subreads.bam (in gscmnt folder)\n",
    "3. m54111_190601_021539.subreads.bam (in gscmnt folder)\n",
    "4. m54111_190601_123140.subreads.bam (in gscmnt folder)\n",
    "\n",
    "Function:\n",
    "Copy all of the bam subreads files to a designated bamfile directionary at /workspace/hramzr/github/Trevally/PacBio/bamfiles/.\n",
    "\n",
    "Output:\n",
    "1. m54111_190529_173814.subreads.bam (at /workspace/hramzr/github/Trevally/PacBio/bamfiles/)\n",
    "2. m54111_190531_160028.subreads.bam (at /workspace/hramzr/github/Trevally/PacBio/bamfiles/)\n",
    "3. m54111_190601_021539.subreads.bam (at /workspace/hramzr/github/Trevally/PacBio/bamfiles/)\n",
    "4. m54111_190601_123140.subreads.bam (at /workspace/hramzr/github/Trevally/PacBio/bamfiles/)\n",
    "#######################################"
   ]
  },
  {
   "cell_type": "code",
   "execution_count": 6,
   "metadata": {},
   "outputs": [
    {
     "name": "stdout",
     "output_type": "stream",
     "text": [
      "Job <311409> is submitted to default queue <normal>.\n",
      "Job <311410> is submitted to default queue <normal>.\n",
      "Job <311411> is submitted to default queue <normal>.\n",
      "Job <311412> is submitted to default queue <normal>.\n",
      "/workspace/hramzr/github/Trevally/PacBio/gscmnt/gc13036/production/smrtlink_data_root/r54111_20190529_172127/1_A01/m54111_190529_173814.subreads.bam\n",
      "/workspace/hramzr/github/Trevally/PacBio/gscmnt/gc13036/production/smrtlink_data_root/r54111_20190531_145345/1_A01/m54111_190531_160028.subreads.bam\n",
      "/workspace/hramzr/github/Trevally/PacBio/gscmnt/gc13036/production/smrtlink_data_root/r54111_20190531_145345/2_B01/m54111_190601_021539.subreads.bam\n",
      "/workspace/hramzr/github/Trevally/PacBio/gscmnt/gc13036/production/smrtlink_data_root/r54111_20190531_145345/3_C01/m54111_190601_123140.subreads.bam\n"
     ]
    }
   ],
   "source": [
    "#all of the PacBio BAMFILES\n",
    "r1=/workspace/hramzr/github/Trevally/PacBio/gscmnt/gc13036/production/smrtlink_data_root/r54111_20190529_172127/1_A01/m54111_190529_173814.subreads.bam\n",
    "r2A=/workspace/hramzr/github/Trevally/PacBio/gscmnt/gc13036/production/smrtlink_data_root/r54111_20190531_145345/1_A01/m54111_190531_160028.subreads.bam \n",
    "r2B=/workspace/hramzr/github/Trevally/PacBio/gscmnt/gc13036/production/smrtlink_data_root/r54111_20190531_145345/2_B01/m54111_190601_021539.subreads.bam\n",
    "r2C=/workspace/hramzr/github/Trevally/PacBio/gscmnt/gc13036/production/smrtlink_data_root/r54111_20190531_145345/3_C01/m54111_190601_123140.subreads.bam\n",
    "\n",
    "#put bamfiles in 1 dir\n",
    "bsub \\\n",
    "\"cp $r1 /workspace/hramzr/github/Trevally/PacBio/bamfiles/\"\n",
    "\n",
    "bsub \\\n",
    "\"cp $r2A /workspace/hramzr/github/Trevally/PacBio/bamfiles/\"\n",
    "\n",
    "bsub \\\n",
    "\"cp $r2B /workspace/hramzr/github/Trevally/PacBio/bamfiles/\"\n",
    "\n",
    "bsub \\\n",
    "\"cp $r2C /workspace/hramzr/github/Trevally/PacBio/bamfiles/\"\n"
   ]
  },
  {
   "cell_type": "code",
   "execution_count": null,
   "metadata": {},
   "outputs": [],
   "source": [
    "#######################################\n",
    "Input:\n",
    "1. m54111_190529_173814.subreads.bam (at /workspace/hramzr/github/Trevally/PacBio/bamfiles/)\n",
    "2. m54111_190531_160028.subreads.bam (at /workspace/hramzr/github/Trevally/PacBio/bamfiles/)\n",
    "3. m54111_190601_021539.subreads.bam (at /workspace/hramzr/github/Trevally/PacBio/bamfiles/)\n",
    "4. m54111_190601_123140.subreads.bam (at /workspace/hramzr/github/Trevally/PacBio/bamfiles/)\n",
    "\n",
    "Function:\n",
    "Convert the BAMfiles to a merged FASTQ format file, this is done as a prerequisite to the CANU assembler.\n",
    "\n",
    "Output:\n",
    "1. femtrev.fastq.gz(at the fastq/ directionary)\n",
    "#######################################"
   ]
  },
  {
   "cell_type": "code",
   "execution_count": 6,
   "metadata": {},
   "outputs": [
    {
     "name": "stdout",
     "output_type": "stream",
     "text": [
      "Job <304957> is submitted to default queue <normal>.\n"
     ]
    }
   ],
   "source": [
    "#FASTQ conversion fastx\n",
    "module load bam2fastx/1.3.0 \n",
    "bsub \\\n",
    "-o log/bam2fastq.out -e log/bam2fastq.err \\\n",
    "\"bam2fastq -o fastq/femtrev /workspace/hramzr/github/Trevally/PacBio/bamfiles/*.bam\"\n"
   ]
  },
  {
   "cell_type": "code",
   "execution_count": null,
   "metadata": {},
   "outputs": [],
   "source": [
    "#######################################\n",
    "Input:\n",
    "1. femtrev.fastq.gz (FASTQ file with all PacBio reads)\n",
    "\n",
    "Function:\n",
    "Assemble the reads into a consensus assembly with the CANU assembly pipeline.\n",
    "\n",
    "Output:\n",
    "1. femtrev.fastq.gz(at the fastq/ directionary)\n",
    "#######################################"
   ]
  },
  {
   "cell_type": "code",
   "execution_count": 11,
   "metadata": {},
   "outputs": [
    {
     "name": "stdout",
     "output_type": "stream",
     "text": [
      "Job <305031> is submitted to default queue <normal>.\n"
     ]
    }
   ],
   "source": [
    "#prepare for assembly by converting data into \n",
    "# https://www.nature.com/articles/s41597-019-0238-8 \n",
    "# <-- genome size carangidae fish about 660Mb avg<-- (614.2 Mb~716.4 Mb, Table 3)\n",
    "# correct the reads, then trim the reads, then assemble the reads to unitigs<--->\n",
    "fq=/workspace/hramzr/github/Trevally/PacBio/fastq/femtrev.fastq.gz\n",
    "module load canu/1.7                         \n",
    "bsub \\\n",
    "-o log/assemble.out -e log/assemble.err \\\n",
    "\"canu -p fetreval.fasta -d fetreval-pacbio \\\n",
    " genomeSize=660m \\\n",
    " -pacbio-raw $fq\""
   ]
  }
 ],
 "metadata": {
  "kernelspec": {
   "display_name": "Bash",
   "language": "bash",
   "name": "bash"
  },
  "language_info": {
   "codemirror_mode": "shell",
   "file_extension": ".sh",
   "mimetype": "text/x-sh",
   "name": "bash"
  }
 },
 "nbformat": 4,
 "nbformat_minor": 4
}
