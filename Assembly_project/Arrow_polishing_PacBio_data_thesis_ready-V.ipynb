{
 "cells": [
  {
   "cell_type": "markdown",
   "metadata": {},
   "source": [
    "## Make output directory's"
   ]
  },
  {
   "cell_type": "code",
   "execution_count": null,
   "metadata": {},
   "outputs": [],
   "source": [
    "#######################################\n",
    "Function:\n",
    "Make folders for the arrow polisher output and the pbmm2 mapper output.\n",
    "\n",
    "Output:\n",
    "\n",
    "1. arrow_out (folder for arrow outputfiles)\n",
    "2. pbmm2_out (folder for pbmm2 outputfiles)\n",
    "#######################################"
   ]
  },
  {
   "cell_type": "code",
   "execution_count": 8,
   "metadata": {},
   "outputs": [
    {
     "name": "stdout",
     "output_type": "stream",
     "text": [
      "(base) (base) "
     ]
    },
    {
     "ename": "",
     "evalue": "1",
     "output_type": "error",
     "traceback": []
    }
   ],
   "source": [
    "mkdir arrow_out\n",
    "mkdir pbmm2_out"
   ]
  },
  {
   "cell_type": "markdown",
   "metadata": {},
   "source": [
    "## Installing Anaconda 2, pbmm2 and ARROW"
   ]
  },
  {
   "cell_type": "code",
   "execution_count": null,
   "metadata": {},
   "outputs": [],
   "source": [
    "#######################################\n",
    "Function:\n",
    "Install Anaconda 2, which is a prerequisite to downloading tools with conda. Then download pbmm2 pacbio mapper for the \n",
    "mapping step, which is needed as a prerequisite for polishing with arrow.\n",
    "\n",
    "Output:\n",
    "\n",
    "1. pbmm2 (Installed)\n",
    "2. Arrow (Installed)\n",
    "3. Anaconda 2 (Installed)\n",
    "#######################################"
   ]
  },
  {
   "cell_type": "code",
   "execution_count": null,
   "metadata": {},
   "outputs": [],
   "source": [
    "#first install anaconda2 (with inbuilt python 2.7 interpreter)\n",
    "\n",
    "wget https://repo.continuum.io/archive/Anaconda2-4.2.0-Linux-x86_64.sh\n",
    "bash Anaconda2-4.2.0-Linux-x86_64.sh\n",
    "rm Anaconda2-4.2.0-Linux-x86_64.sh\n",
    "\n",
    "#set path for local usage, because of user rights\n",
    "export PATH=\"/home/hramzr/anaconda2/bin:$PATH\"\n",
    "\n",
    "#download PacBio genomicconsensus(Arrow) and pbmm2\n",
    "conda create -c bioconda -n pacbio python=2.7 genomicconsensus\n",
    "\n",
    "conda install -c bioconda pbmm2\n",
    "\n",
    "#enter environment\n",
    "source activate pacbio\n",
    "\n",
    "# deactivate environment\n",
    "source deactivate pacbio"
   ]
  },
  {
   "cell_type": "markdown",
   "metadata": {},
   "source": [
    "## PREP for pbmm2, as only in BAM form is acceptable for eventual Genomicconsensus"
   ]
  },
  {
   "cell_type": "code",
   "execution_count": null,
   "metadata": {},
   "outputs": [],
   "source": [
    "#######################################\n",
    "Input:\n",
    "1. m54111_190529_173814.subreads.bam (at gscmnt)\n",
    "2. m54111_190531_160028.subreads.bam (at gscmnt)\n",
    "3. m54111_190601_021539.subreads.bam (at gscmnt)\n",
    "4. m54111_190601_123140.subreads.bam (at gscmnt)\n",
    "\n",
    "Function:\n",
    "Merge subreads bam files to use them as input for pbmm2.\n",
    "\n",
    "Output:\n",
    "\n",
    "1. all_subreads.bam (bam file with all pacbio subreads)\n",
    "#######################################"
   ]
  },
  {
   "cell_type": "code",
   "execution_count": 33,
   "metadata": {},
   "outputs": [
    {
     "name": "stdout",
     "output_type": "stream",
     "text": [
      "Job <370034> is submitted to default queue <normal>.\n"
     ]
    }
   ],
   "source": [
    "module load samtools/1.9\n",
    "r1=/workspace/hramzr/github/Trevally/PacBio/gscmnt/gc13036/production/smrtlink_data_root/r54111_20190529_172127/1_A01/m54111_190529_173814.subreads.bam\n",
    "r2A=/workspace/hramzr/github/Trevally/PacBio/gscmnt/gc13036/production/smrtlink_data_root/r54111_20190531_145345/1_A01/m54111_190531_160028.subreads.bam \n",
    "r2B=/workspace/hramzr/github/Trevally/PacBio/gscmnt/gc13036/production/smrtlink_data_root/r54111_20190531_145345/2_B01/m54111_190601_021539.subreads.bam\n",
    "r2C=/workspace/hramzr/github/Trevally/PacBio/gscmnt/gc13036/production/smrtlink_data_root/r54111_20190531_145345/3_C01/m54111_190601_123140.subreads.bam\n",
    "logdir=/workspace/hramzr/github/Trevally/PacBio/log/\n",
    "bsub -o ${logdir}Smerge.out -e ${logdir}Smerge.err -J \"merging\" -n 32 -m wkoppg33 \\\n",
    "\"samtools merge /workspace/hramzr/github/Trevally/PacBio/merged_subreads/all_subreads.bam ${r1} ${r2A} ${r2B} ${r2C}\""
   ]
  },
  {
   "cell_type": "markdown",
   "metadata": {},
   "source": [
    "## Index ref for pbmm2 and ARROW, after BLASR errors "
   ]
  },
  {
   "cell_type": "code",
   "execution_count": null,
   "metadata": {},
   "outputs": [],
   "source": [
    "#######################################\n",
    "Input:\n",
    "1. fetreval.fasta.contigs.fasta (FASTA format reference sequence file)\n",
    "\n",
    "Function:\n",
    "Index the reference sequence with pbmm2 index and faidx, this is needed to run pbmm2 and Arrow.\n",
    "\n",
    "Output:\n",
    "\n",
    "1. ref.mmi (Indexed reference file in minimap format)\n",
    "#######################################"
   ]
  },
  {
   "cell_type": "code",
   "execution_count": 30,
   "metadata": {},
   "outputs": [
    {
     "name": "stdout",
     "output_type": "stream",
     "text": [
      "(pacbio) (pacbio) (pacbio) (pacbio) (pacbio) (pacbio) Job <369998> is submitted to queue <normal>.\n",
      "(pacbio) "
     ]
    }
   ],
   "source": [
    "export PATH=\"/home/hramzr/anaconda2/bin:$PATH\"\n",
    "cd /workspace/hramzr/github/Trevally/PacBio/polishing\n",
    "source activate pacbio\n",
    "\n",
    "fqdir=/workspace/hramzr/github/Trevally/PacBio/fastq/\n",
    "logdir=/workspace/hramzr/github/Trevally/PacBio/log/\n",
    "ref=/workspace/hramzr/github/Trevally/PacBio/canu_default/fetreval.fasta.contigs.fasta\n",
    "\n",
    "bsub -o ${logdir}/pbmm2i.out -e ${logdir}/pbmm2i.err -m wkoppg33 -J \"pbmm2_index\" -q \"normal\" -n 64 \\\n",
    "\"pbmm2 index $ref /workspace/hramzr/github/Trevally/PacBio/canu_default/ref.mmi\"\n",
    "source deactivate pacbio\n",
    "\n",
    "module load samtools/1.9\n",
    "bsub -o log/refind.out -e log/refind.err \\\n",
    "\"samtools faidx $ref\""
   ]
  },
  {
   "cell_type": "markdown",
   "metadata": {},
   "source": [
    "## Align with pbmm2 and sort"
   ]
  },
  {
   "cell_type": "code",
   "execution_count": null,
   "metadata": {},
   "outputs": [],
   "source": [
    "#######################################\n",
    "Input:\n",
    "1. ref.mmi (Indexed reference file in minimap format)\n",
    "2. all_subreads.bam (bam file with all pacbio subreads)\n",
    "\n",
    "Function:\n",
    "Align the subreads to the reference to create a mapped bam file, when this is done, sort the bamfile. \n",
    "All of this is a prerequisite to Arrow polishing.\n",
    "\n",
    "Output:\n",
    "\n",
    "1. pbmm2.sorted.bam (pbmm2 mapped subreads, sorted by samtools)\n",
    "#######################################"
   ]
  },
  {
   "cell_type": "code",
   "execution_count": 36,
   "metadata": {},
   "outputs": [
    {
     "name": "stdout",
     "output_type": "stream",
     "text": [
      "(pacbio) (pacbio) (pacbio) (pacbio) (pacbio) (pacbio) (pacbio) Job <370274> is submitted to queue <normal>.\n",
      "(pacbio) "
     ]
    }
   ],
   "source": [
    "export PATH=\"/home/hramzr/anaconda2/bin:$PATH\"\n",
    "cd /workspace/hramzr/github/Trevally/PacBio/polishing\n",
    "source activate pacbio\n",
    "bamfiles=/workspace/hramzr/github/Trevally/PacBio/merged_subreads/all_subreads.bam\n",
    "fqdir=/workspace/hramzr/github/Trevally/PacBio/fastq/\n",
    "logdir=/workspace/hramzr/github/Trevally/PacBio/log/\n",
    "ref=/workspace/hramzr/github/Trevally/PacBio/canu_default/fetreval.fasta.contigs.fasta\n",
    "refmi=/workspace/hramzr/github/Trevally/PacBio/canu_default/ref.mmi\n",
    "outdir=/workspace/hramzr/github/Trevally/PacBio/polishing/pbmm2_out/\n",
    "bsub -o ${logdir}/pbmm2a.out -e ${logdir}/pbmm2a.err -m wkoppg33 -J \"pbmm2_align\" -q \"normal\" -n 64 \\\n",
    "\"pbmm2 align $refmi $bamfiles --min-id-perc 70 | samtools sort >${outdir}pbmm2.sorted.bam\"\n",
    "source deactivate pacbio"
   ]
  },
  {
   "cell_type": "markdown",
   "metadata": {},
   "source": [
    "## Index mapped bamfile with pacbio index"
   ]
  },
  {
   "cell_type": "code",
   "execution_count": null,
   "metadata": {},
   "outputs": [],
   "source": [
    "#######################################\n",
    "Input:\n",
    "1. pbmm2.sorted.bam (pbmm2 mapped subreads, sorted by samtools)\n",
    "\n",
    "Function:\n",
    "Index pbmm2.sorted.bam file in pacbio index format.\n",
    "\n",
    "Output:\n",
    "\n",
    "1. pbmm2.sorted.bam.pbi (indexed pbmm2 mapped file)\n",
    "#######################################"
   ]
  },
  {
   "cell_type": "code",
   "execution_count": 3,
   "metadata": {},
   "outputs": [
    {
     "name": "stdout",
     "output_type": "stream",
     "text": [
      "(pacbio) Job <374782> is submitted to default queue <normal>.\n",
      "(pacbio) "
     ]
    },
    {
     "ename": "",
     "evalue": "1",
     "output_type": "error",
     "traceback": []
    }
   ],
   "source": [
    "export PATH=\"/home/hramzr/anaconda2/bin:$PATH\"\n",
    "sort_file=/powerplant/workspace/hramzr/github/Trevally/PacBio/polishing/pbmm2_out/pbmm2.sorted.bam\n",
    "cd /workspace/hramzr/github/Trevally/PacBio/polishing\n",
    "source activate pacbio\n",
    "bsub -o log/pbi.out -e log/pbi.err \\\n",
    "\"pbindex $sort_file\""
   ]
  },
  {
   "cell_type": "markdown",
   "metadata": {},
   "source": [
    "## Running Arrow"
   ]
  },
  {
   "cell_type": "code",
   "execution_count": null,
   "metadata": {},
   "outputs": [],
   "source": [
    "#######################################\n",
    "Input:\n",
    "1. pbmm2.sorted.bam (pbmm2 mapped subreads, sorted by samtools)\n",
    "2. fetreval.fasta.contigs.fasta (FASTA format reference sequence file)\n",
    "\n",
    "Function:\n",
    "Polishing of the made assembly with PacBio mapped reads.\n",
    "\n",
    "Output:\n",
    "\n",
    "1. consensus_canu_default.fastq (Consensus polished assembly file in FASTQ format)\n",
    "#######################################"
   ]
  },
  {
   "cell_type": "code",
   "execution_count": 4,
   "metadata": {},
   "outputs": [
    {
     "name": "stdout",
     "output_type": "stream",
     "text": [
      "(pacbio) (pacbio) (pacbio) (pacbio) (pacbio) (pacbio) (pacbio) (pacbio) (pacbio) (pacbio) (pacbio) Job <374786> is submitted to queue <normal>.\n",
      "(pacbio) (pacbio) "
     ]
    }
   ],
   "source": [
    "#set path for local usage, because of user rights\n",
    "export PATH=\"/home/hramzr/anaconda2/bin:$PATH\"\n",
    "cd /workspace/hramzr/github/Trevally/PacBio/polishing\n",
    "source activate pacbio\n",
    "#Run BLASR, with parameters from similar nile tilapia research -- https://bmcgenomics.biomedcentral.com/articles/10.1186/s12864-017-3723-5\n",
    "#tool for long reads <-- hence why it works best for PACBIO\n",
    "logdir=/workspace/hramzr/github/Trevally/PacBio/log/\n",
    "ref=/workspace/hramzr/github/Trevally/PacBio/canu_default/fetreval.fasta.contigs.fasta\n",
    "pbmm2_map=/workspace/hramzr/github/Trevally/PacBio/polishing/pbmm2_out/pbmm2.sorted.bam\n",
    "odir=/workspace/hramzr/github/Trevally/PacBio/polishing/arrow_out/canu_default/\n",
    "\n",
    "bsub -o ${logdir}/arrow.out -e ${logdir}/arrow.out -m wkoppg31 -J \"arrow\" -q \"normal\" -n 32 \\\n",
    "\"arrow ${pbmm2_map}    \\\n",
    "  -r ${ref} -o ${odir}consensus_canu_defaultvariants.gff       \\\n",
    "  -o ${odir}consensus_canu_default.fasta -o ${odir}consensus_canu_default.fastq\"\n",
    "\n",
    "source deactivate pacbio\n"
   ]
  }
 ],
 "metadata": {
  "kernelspec": {
   "display_name": "Bash",
   "language": "bash",
   "name": "bash"
  },
  "language_info": {
   "codemirror_mode": "shell",
   "file_extension": ".sh",
   "mimetype": "text/x-sh",
   "name": "bash"
  }
 },
 "nbformat": 4,
 "nbformat_minor": 4
}
