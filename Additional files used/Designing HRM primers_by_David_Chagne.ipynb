{
 "cells": [
  {
   "cell_type": "markdown",
   "metadata": {},
   "source": [
    "## 1/ Extracting sequence flanking a SNP in the reference nz_trevally genome\n",
    "## 2/ Designing HRM primers"
   ]
  },
  {
   "cell_type": "markdown",
   "metadata": {},
   "source": [
    "### Execute the cells below\n",
    "\n",
    "The modules are required for extracting flanking sequences and desgning primers"
   ]
  },
  {
   "cell_type": "code",
   "execution_count": 1,
   "metadata": {
    "collapsed": true
   },
   "outputs": [],
   "source": [
    "nz_trevally=/workspace/hramzr/nz_trevally.fasta\n"
   ]
  },
  {
   "cell_type": "code",
   "execution_count": 2,
   "metadata": {
    "collapsed": true
   },
   "outputs": [],
   "source": [
    "module load samtools\n",
    "module load primer3/2.3.5"
   ]
  },
  {
   "cell_type": "markdown",
   "metadata": {},
   "source": [
    "###### Input Chromosome number here"
   ]
  },
  {
   "cell_type": "code",
   "execution_count": 48,
   "metadata": {
    "collapsed": true
   },
   "outputs": [],
   "source": [
    "CHROM='trevally000374'"
   ]
  },
  {
   "cell_type": "markdown",
   "metadata": {},
   "source": [
    "Enter SNP location (in bp)"
   ]
  },
  {
   "cell_type": "code",
   "execution_count": 23,
   "metadata": {
    "collapsed": true
   },
   "outputs": [],
   "source": [
    "SNP=750000"
   ]
  },
  {
   "cell_type": "code",
   "execution_count": 24,
   "metadata": {},
   "outputs": [
    {
     "name": "stdout",
     "output_type": "stream",
     "text": [
      "750000\n"
     ]
    }
   ],
   "source": [
    "echo $SNP"
   ]
  },
  {
   "cell_type": "markdown",
   "metadata": {},
   "source": [
    "Enter size of flanking region (bp)"
   ]
  },
  {
   "cell_type": "code",
   "execution_count": 35,
   "metadata": {
    "collapsed": true
   },
   "outputs": [],
   "source": [
    "BEFORE=100\n",
    "AFTER=100"
   ]
  },
  {
   "cell_type": "code",
   "execution_count": 26,
   "metadata": {
    "collapsed": true
   },
   "outputs": [],
   "source": [
    "UP=$(($SNP-$BEFORE))\n",
    "DOWN=$(($SNP+$AFTER))"
   ]
  },
  {
   "cell_type": "code",
   "execution_count": 47,
   "metadata": {},
   "outputs": [
    {
     "name": "stdout",
     "output_type": "stream",
     "text": [
      "2190\n",
      "2390\n"
     ]
    }
   ],
   "source": [
    "\n",
    "UP=2190\n",
    "DOWN=2390\n",
    "echo $UP\n",
    "echo $DOWN\n"
   ]
  },
  {
   "cell_type": "markdown",
   "metadata": {},
   "source": [
    "### Extract sequence\n",
    "\n"
   ]
  },
  {
   "cell_type": "markdown",
   "metadata": {},
   "source": [
    "# Indicate target region here\n",
    "\n",
    "### Indicate the chromosome (eg Chr02) and the start and end location in bp (eg 20000-20200)"
   ]
  },
  {
   "cell_type": "code",
   "execution_count": 49,
   "metadata": {
    "collapsed": true
   },
   "outputs": [],
   "source": [
    "samtools faidx $nz_trevally $CHROM:$UP-$DOWN > Flanking_sequence.fa"
   ]
  },
  {
   "cell_type": "code",
   "execution_count": 50,
   "metadata": {},
   "outputs": [
    {
     "name": "stdout",
     "output_type": "stream",
     "text": [
      ">trevally000374:2190-2390\n",
      "TTGAGGATGATGTTTGTGCCTCTTGGGACGCTGTAGCCGTCGATGATGTCATCAGAAAGG\n",
      "GCCCGTCGCATGGTGATGTCGACCACCGGGTGGAAACGCAGACACTCATTGATGAAGCTC\n",
      "TCCATCACCTGCAGCTTCTGGAGGTCTGCTTTCTGCAGCTCCTTCTCACCTGGAGAGAGA\n",
      "AGAGGAACCAACCTGTCAGTT\n"
     ]
    }
   ],
   "source": [
    "cat Flanking_sequence.fa"
   ]
  },
  {
   "cell_type": "markdown",
   "metadata": {},
   "source": [
    "chop the title and remove line returns"
   ]
  },
  {
   "cell_type": "code",
   "execution_count": 51,
   "metadata": {
    "collapsed": true
   },
   "outputs": [],
   "source": [
    "sed -ie \"1d\" Flanking_sequence.fa\n",
    "FLANKINGSEQ=Flanking_sequence.fa"
   ]
  },
  {
   "cell_type": "code",
   "execution_count": 52,
   "metadata": {
    "collapsed": true
   },
   "outputs": [],
   "source": [
    "cat $FLANKINGSEQ | tr -d '\\n' > Flanking_seq_one_line.txt"
   ]
  },
  {
   "cell_type": "code",
   "execution_count": 53,
   "metadata": {},
   "outputs": [
    {
     "name": "stdout",
     "output_type": "stream",
     "text": [
      "TTGAGGATGATGTTTGTGCCTCTTGGGACGCTGTAGCCGTCGATGATGTCATCAGAAAGGGCCCGTCGCATGGTGATGTCGACCACCGGGTGGAAACGCAGACACTCATTGATGAAGCTCTCCATCACCTGCAGCTTCTGGAGGTCTGCTTTCTGCAGCTCCTTCTCACCTGGAGAGAGAAGAGGAACCAACCTGTCAGTT"
     ]
    }
   ],
   "source": [
    "cat Flanking_seq_one_line.txt"
   ]
  },
  {
   "cell_type": "code",
   "execution_count": 54,
   "metadata": {
    "collapsed": true
   },
   "outputs": [],
   "source": [
    "INPUTSEQ=Flanking_seq_one_line.txt"
   ]
  },
  {
   "cell_type": "code",
   "execution_count": 55,
   "metadata": {},
   "outputs": [
    {
     "name": "stdout",
     "output_type": "stream",
     "text": [
      "TTGAGGATGATGTTTGTGCCTCTTGGGACGCTGTAGCCGTCGATGATGTCATCAGAAAGGGCCCGTCGCATGGTGATGTCGACCACCGGGTGGAAACGCAGACACTCATTGATGAAGCTCTCCATCACCTGCAGCTTCTGGAGGTCTGCTTTCTGCAGCTCCTTCTCACCTGGAGAGAGAAGAGGAACCAACCTGTCAGTT"
     ]
    }
   ],
   "source": [
    "cat $INPUTSEQ"
   ]
  },
  {
   "cell_type": "markdown",
   "metadata": {},
   "source": [
    "### designing primers for HRM analysis using Primer 3\n",
    "\n",
    "manual is here http://primer3.org/manual.html "
   ]
  },
  {
   "cell_type": "markdown",
   "metadata": {},
   "source": [
    "The cell below creates the Primer3 input parameters file automatically using the sequence extracted above.\n",
    "\n",
    "The design parameters may be modified in the cell below."
   ]
  },
  {
   "cell_type": "code",
   "execution_count": 56,
   "metadata": {},
   "outputs": [
    {
     "name": "stdout",
     "output_type": "stream",
     "text": [
      "100,1\n"
     ]
    }
   ],
   "source": [
    "TARGET=$((($BEFORE+$AFTER)/2))',1'\n",
    "echo $TARGET"
   ]
  },
  {
   "cell_type": "code",
   "execution_count": 57,
   "metadata": {
    "collapsed": true
   },
   "outputs": [],
   "source": [
    "echo \"SEQUENCE_TEMPLATE=\" | tr -d '\\n' > design_parameters.txt\n",
    "cat $INPUTSEQ >> design_parameters.txt\n",
    "echo \"\n",
    "SEQUENCE_TARGET=$TARGET\" >> design_parameters.txt\n",
    "#echo ',1' | tr -d '\\n' >> design_parameters.txt\n",
    "echo \"SEQUENCE_ID=HRM primers nz_trevally\n",
    "PRIMER_PICK_LEFT_PRIMER=1\n",
    "PRIMER_PICK_INTERNAL_OLIGO=0\n",
    "PRIMER_PICK_RIGHT_PRIMER=1\n",
    "PRIMER_OPT_SIZE=20\n",
    "PRIMER_MIN_SIZE=18\n",
    "PRIMER_MAX_SIZE=22\n",
    "PRIMER_PRODUCT_SIZE_RANGE=195-200\n",
    "PRIMER_MAX_SELF_ANY=4\n",
    "PRIMER_MAX_SELF_END=1\n",
    "PRIMER_THERMODYNAMIC_PARAMETERS_PATH=/software/bioinformatics/primer3-2.3.5/src/primer3_config/\n",
    "=\" >> design_parameters.txt"
   ]
  },
  {
   "cell_type": "markdown",
   "metadata": {},
   "source": [
    "Checking the parameters file is correct. Users may ignore it. "
   ]
  },
  {
   "cell_type": "code",
   "execution_count": 58,
   "metadata": {},
   "outputs": [
    {
     "name": "stdout",
     "output_type": "stream",
     "text": [
      "SEQUENCE_TEMPLATE=TTGAGGATGATGTTTGTGCCTCTTGGGACGCTGTAGCCGTCGATGATGTCATCAGAAAGGGCCCGTCGCATGGTGATGTCGACCACCGGGTGGAAACGCAGACACTCATTGATGAAGCTCTCCATCACCTGCAGCTTCTGGAGGTCTGCTTTCTGCAGCTCCTTCTCACCTGGAGAGAGAAGAGGAACCAACCTGTCAGTT\n",
      "SEQUENCE_TARGET=100,1\n",
      "SEQUENCE_ID=HRM primers nz_trevally\n",
      "PRIMER_PICK_LEFT_PRIMER=1\n",
      "PRIMER_PICK_INTERNAL_OLIGO=0\n",
      "PRIMER_PICK_RIGHT_PRIMER=1\n",
      "PRIMER_OPT_SIZE=20\n",
      "PRIMER_MIN_SIZE=18\n",
      "PRIMER_MAX_SIZE=22\n",
      "PRIMER_PRODUCT_SIZE_RANGE=195-200\n",
      "PRIMER_MAX_SELF_ANY=4\n",
      "PRIMER_MAX_SELF_END=1\n",
      "PRIMER_THERMODYNAMIC_PARAMETERS_PATH=/software/bioinformatics/primer3-2.3.5/src/primer3_config/\n",
      "=\n"
     ]
    }
   ],
   "source": [
    "cat design_parameters.txt"
   ]
  },
  {
   "cell_type": "markdown",
   "metadata": {},
   "source": [
    "# The results:"
   ]
  },
  {
   "cell_type": "code",
   "execution_count": 59,
   "metadata": {},
   "outputs": [
    {
     "name": "stdout",
     "output_type": "stream",
     "text": [
      "PRIMER PICKING RESULTS FOR HRM primers nz_trevally\n",
      "\n",
      "No mispriming library specified\n",
      "Using 0-based sequence positions\n",
      "OLIGO            start  len      tm     gc%  any_th  3'_th hairpin seq\n",
      "LEFT PRIMER          5   22   59.83   50.00    0.00   0.00   38.36 GATGATGTTTGTGCCTCTTGGG\n",
      "RIGHT PRIMER       199   20   58.19   50.00    7.51   0.00   35.37 ACTGACAGGTTGGTTCCTCT\n",
      "SEQUENCE SIZE: 201\n",
      "INCLUDED REGION SIZE: 201\n",
      "\n",
      "PRODUCT SIZE: 195, PAIR ANY_TH COMPL: 0.00, PAIR 3'_TH COMPL: 0.00\n",
      "TARGETS (start, len)*: 100,1\n",
      "\n",
      "    0 TTGAGGATGATGTTTGTGCCTCTTGGGACGCTGTAGCCGTCGATGATGTCATCAGAAAGG\n",
      "           >>>>>>>>>>>>>>>>>>>>>>                                 \n",
      "\n",
      "   60 GCCCGTCGCATGGTGATGTCGACCACCGGGTGGAAACGCAGACACTCATTGATGAAGCTC\n",
      "                                              *                   \n",
      "\n",
      "  120 TCCATCACCTGCAGCTTCTGGAGGTCTGCTTTCTGCAGCTCCTTCTCACCTGGAGAGAGA\n",
      "                                                                  \n",
      "\n",
      "  180 AGAGGAACCAACCTGTCAGTT\n",
      "      <<<<<<<<<<<<<<<<<<<< \n",
      "\n",
      "KEYS (in order of precedence):\n",
      "****** target\n",
      ">>>>>> left primer\n",
      "<<<<<< right primer\n",
      "\n",
      "ADDITIONAL OLIGOS\n",
      "                    start  len      tm     gc%  any_th  3'_th hairpin seq\n",
      "\n",
      " 1 LEFT PRIMER          4   22   59.83   50.00    0.00   0.00    0.00 GGATGATGTTTGTGCCTCTTGG\n",
      "   RIGHT PRIMER       199   20   58.19   50.00    7.51   0.00   35.37 ACTGACAGGTTGGTTCCTCT\n",
      "   PRODUCT SIZE: 196, PAIR ANY_TH COMPL: 0.00, PAIR 3'_TH COMPL: 0.00\n",
      "\n",
      " 2 LEFT PRIMER          1   22   59.69   45.45    8.03   0.00    0.00 TGAGGATGATGTTTGTGCCTCT\n",
      "   RIGHT PRIMER       199   20   58.19   50.00    7.51   0.00   35.37 ACTGACAGGTTGGTTCCTCT\n",
      "   PRODUCT SIZE: 199, PAIR ANY_TH COMPL: 1.96, PAIR 3'_TH COMPL: 0.00\n",
      "\n",
      " 3 LEFT PRIMER          5   22   59.83   50.00    0.00   0.00   38.36 GATGATGTTTGTGCCTCTTGGG\n",
      "   RIGHT PRIMER       199   22   59.90   50.00    7.51   0.00   35.37 ACTGACAGGTTGGTTCCTCTTC\n",
      "   PRODUCT SIZE: 195, PAIR ANY_TH COMPL: 0.00, PAIR 3'_TH COMPL: 0.00\n",
      "\n",
      " 4 LEFT PRIMER          4   22   59.83   50.00    0.00   0.00    0.00 GGATGATGTTTGTGCCTCTTGG\n",
      "   RIGHT PRIMER       199   22   59.90   50.00    7.51   0.00   35.37 ACTGACAGGTTGGTTCCTCTTC\n",
      "   PRODUCT SIZE: 196, PAIR ANY_TH COMPL: 0.00, PAIR 3'_TH COMPL: 0.00\n",
      "\n",
      "\n"
     ]
    }
   ],
   "source": [
    "primer3_core --format_output design_parameters.txt"
   ]
  }
 ],
 "metadata": {
  "kernelspec": {
   "display_name": "Bash",
   "language": "bash",
   "name": "bash"
  },
  "language_info": {
   "codemirror_mode": "shell",
   "file_extension": ".sh",
   "mimetype": "text/x-sh",
   "name": "bash"
  }
 },
 "nbformat": 4,
 "nbformat_minor": 2
}
