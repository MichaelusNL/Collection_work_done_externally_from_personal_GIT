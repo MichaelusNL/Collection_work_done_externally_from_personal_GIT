{
 "cells": [
  {
   "cell_type": "code",
   "execution_count": null,
   "metadata": {
    "collapsed": true
   },
   "outputs": [],
   "source": [
    "#######################################\n",
    "Input: \n",
    "samples_males_then_Females_in_order(file containing male then female BAM groups in order)\n",
    "\n",
    "Function: \n",
    "Make male and female specific files\n",
    "to store the specific BAM groups so that they can be distinguished in order to calculate FST means.\n",
    "\n",
    "Output:\n",
    "1. Males(text file with male BAM groups)\n",
    "2. Females(text file with female BAM groups)\n",
    "#######################################"
   ]
  },
  {
   "cell_type": "code",
   "execution_count": 20,
   "metadata": {
    "collapsed": true
   },
   "outputs": [],
   "source": [
    "#write female and male column lists\n",
    "male_fem=\"/powerplant/workspace/hramzr/Read_depth/00.data/samples_males_then_females_in_order\"\n",
    "mal = open(\"males\", \"w\")\n",
    "fem = open(\"females\", \"w\")\n",
    "f = open(male_fem, \"r\")\n",
    "f = f.readlines()\n",
    "i = 0\n",
    "for line in f:\n",
    "    line = line.strip()\n",
    "    if i>=7:\n",
    "        fem.write(line[6:]+line[5:6]+line[0:5]+\"\\n\")\n",
    "    else:\n",
    "        mal.write(line[6:]+line[5:6]+line[0:5]+\"\\n\")\n",
    "    i+=1    \n",
    "mal.close()\n",
    "fem.close()"
   ]
  },
  {
   "cell_type": "code",
   "execution_count": null,
   "metadata": {
    "collapsed": true
   },
   "outputs": [],
   "source": [
    "#######################################\n",
    "Input: \n",
    "1. Males(text file with male BAM groups)\n",
    "2. Females(text file with female BAM groups)\n",
    "\n",
    "Function: \n",
    "Make male and female specific files\n",
    "to store the specific BAM groups so that they can be distinguished in order to calculate FST means.\n",
    "\n",
    "Output:\n",
    "male_female_5kb(file with calculated FST mean from different sex groups)\n",
    "#######################################"
   ]
  },
  {
   "cell_type": "code",
   "execution_count": 60,
   "metadata": {},
   "outputs": [
    {
     "name": "stdout",
     "output_type": "stream",
     "text": [
      "Job <65826> is submitted to default queue <normal>.\n"
     ]
    }
   ],
   "source": [
    "#run FST calc on it\n",
    "vcfdir=/powerplant/workspace/hramzr/vcf_file_generation/01.freebayes/animal_groups_to_ref.vcf\n",
    "\n",
    "module load vcftools/0.1.14\n",
    "bsub -e 03.Fst.err -o 03.Fst.out \\\n",
    "\"vcftools \\\n",
    "--vcf ${vcfdir} \\\n",
    "--fst-window-size 5000 \\\n",
    "--weir-fst-pop females \\\n",
    "--weir-fst-pop males \\\n",
    "--out male_female_5kb\""
   ]
  },
  {
   "cell_type": "code",
   "execution_count": null,
   "metadata": {
    "collapsed": true
   },
   "outputs": [],
   "source": [
    "#######################################\n",
    "Input: \n",
    "male_female_500b.windowed.weir.fst(file with FST mean per 500 basis based on sex differences)\n",
    "\n",
    "Function: \n",
    "Extract scaffold numbers where FST mean is higher than 0.4 in order to get the best 24 scaffold results.\n",
    "\n",
    "Output:\n",
    "0d4fst(file with FST mean regions(with just their number identifier) that have an FST mean higher than 0.4)\n",
    "#######################################"
   ]
  },
  {
   "cell_type": "code",
   "execution_count": 58,
   "metadata": {},
   "outputs": [
    {
     "name": "stdout",
     "output_type": "stream",
     "text": [
      "trevally000314 8031001 8031500 0.638089\n",
      "trevally000429 1353501 1354000 0.568048\n",
      "trevally000657 8687001 8687500 0.567468\n",
      "trevally001025 13047501 13048000 0.592303\n"
     ]
    }
   ],
   "source": [
    "#create unique scaffold list for about 24 results to compare\n",
    "cat male_female_500b.windowed.weir.fst | tail -n+2 | awk '{ if($6 > 0.4) { print }}' | awk '{print $1}' | sort | uniq \\\n",
    "| grep -o -E '[0-9]+'>0d4fst \n"
   ]
  }
 ],
 "metadata": {
  "kernelspec": {
   "display_name": "Bash",
   "language": "bash",
   "name": "bash"
  },
  "language_info": {
   "codemirror_mode": "shell",
   "file_extension": ".sh",
   "mimetype": "text/x-sh",
   "name": "bash"
  }
 },
 "nbformat": 4,
 "nbformat_minor": 2
}
