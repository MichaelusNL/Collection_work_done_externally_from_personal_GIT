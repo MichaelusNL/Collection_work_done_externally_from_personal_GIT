{
 "cells": [
  {
   "cell_type": "code",
   "execution_count": null,
   "metadata": {
    "collapsed": true
   },
   "outputs": [],
   "source": [
    "#######################################\n",
    "Function: \n",
    "Unzip and copy the New Zealand genome gunzipped file to use as a reference genome.\n",
    "#######################################"
   ]
  },
  {
   "cell_type": "code",
   "execution_count": null,
   "metadata": {
    "collapsed": true
   },
   "outputs": [],
   "source": [
    "gunzip -c /powerplant/workspace/1/genome_analysis/fish/Pseudocaranx/genome/caranx_ignoblis.v1.dna.superscaffold.fa.gz > /powerplant/workspace/hramzr/blasting/nz_trevally.fasta"
   ]
  },
  {
   "cell_type": "markdown",
   "metadata": {},
   "source": [
    "\n"
   ]
  },
  {
   "cell_type": "code",
   "execution_count": null,
   "metadata": {
    "collapsed": true
   },
   "outputs": [],
   "source": [
    "#######################################\n",
    "Function: \n",
    "1. Load NCBI blast module v2.2.25. \n",
    "2. Make the 'blastresults' folder to store output in.\n",
    "3. Make a 'blastlogs' folder that will store output and error logs.\n",
    "#######################################"
   ]
  },
  {
   "cell_type": "code",
   "execution_count": null,
   "metadata": {
    "collapsed": true,
    "scrolled": true
   },
   "outputs": [],
   "source": [
    "module load ncbi-blast/2.2.25\n",
    "mkdir blastresults\n",
    "mkdir blastlogs"
   ]
  },
  {
   "cell_type": "code",
   "execution_count": null,
   "metadata": {
    "collapsed": true
   },
   "outputs": [],
   "source": [
    "#######################################\n",
    "Function: \n",
    "1. Declare the REFERENCE genome database directory.\n",
    "2. Declare the query directory consisting of candidate sex genes to run \n",
    "against the reference genome.\n",
    "3. Declare the ouput directory for the blastresults.\n",
    "4. Declare the log directory for the output and error logs. \n",
    "#######################################"
   ]
  },
  {
   "cell_type": "code",
   "execution_count": null,
   "metadata": {
    "collapsed": true
   },
   "outputs": [],
   "source": [
    "db1=/powerplant/workspace/hramzr/blasting/nz_trevally.fasta\n",
    "query1=/powerplant/workspace/hramzr/candidate_genes_nuc2.fasta\n",
    "outdir=/powerplant/workspace/hramzr/blasting/blastresults/\n",
    "logdir=/powerplant/workspace/hramzr/blasting/blastlogs/"
   ]
  },
  {
   "cell_type": "code",
   "execution_count": null,
   "metadata": {
    "collapsed": true
   },
   "outputs": [],
   "source": [
    "#######################################\n",
    "Input: \n",
    "Reference sequence\n",
    "\n",
    "Function: \n",
    "Make a blast database for blast to use as input.\n",
    "\n",
    "Output:\n",
    "Output database\n",
    "#######################################"
   ]
  },
  {
   "cell_type": "code",
   "execution_count": null,
   "metadata": {
    "collapsed": true,
    "scrolled": true
   },
   "outputs": [],
   "source": [
    "makeblastdb -in ${db1} -dbtype nucl -out nz_trevally"
   ]
  },
  {
   "cell_type": "code",
   "execution_count": null,
   "metadata": {
    "collapsed": true
   },
   "outputs": [],
   "source": [
    "#######################################\n",
    "Input: \n",
    "1. query1, these are the candidate genes.\n",
    "2. nz_trevally, this is the database with the reference genome to map against.\n",
    "\n",
    "Function: \n",
    "Blast the candidate genes against the reference genome to see where the candidate genes map on the genome.\n",
    "\n",
    "Output:\n",
    "Mapping file.\n",
    "#######################################"
   ]
  },
  {
   "cell_type": "code",
   "execution_count": null,
   "metadata": {
    "collapsed": true
   },
   "outputs": [],
   "source": [
    "# Defining the location where log files will go.\n",
    "LOG=${logdir}\n",
    "\n",
    "# Defing the JOB name for the cluster as 'blasting'.\n",
    "JOB=blasting\n",
    "\n",
    "# Defining how many CPUs are required for the process, \n",
    "# which is 1 here as blast doesn't need much.\n",
    "CPU=1\n",
    "\n",
    "# Defining the queue variable as normal, as the process needs regular resources.\n",
    "QUEUE=normal\n",
    "\n",
    "# Defining the BASH blastn command, with word size set to 11, $(query1) as query,\n",
    "# the 'nz_trevally_ database as the database the query runs against, \n",
    "# max_target_seqs set to 5, and the out put directory being the ${outdir} and \n",
    "# the output format being format 6.\n",
    "COMMAND=\"blastn -word_size 11 -query $query1 \\\n",
    "        -db nz_trevally \\\n",
    "        -max_target_seqs 5 \\\n",
    "        -out ${outdir}nz_trevallyfmt6.out2 \\\n",
    "        -outfmt 6\"\n",
    "        \n",
    "# The command being printed to see whether there are no oddities.        \n",
    "echo ${COMMAND}\n",
    "\n",
    "#Submitting all of the variables to the cluster.\n",
    "bsub \\\n",
    "\n",
    "# -J being set to the job variable.\n",
    "-J ${JOB} \\\n",
    "\n",
    "# -n being set to the CPU variable.\n",
    "-n ${CPU} \\\n",
    "\n",
    "# -o being given the logdirectory and jobnames for outputlogs.\n",
    "-o ${LOG}/${JOB}_%J.out \\\n",
    "\n",
    "# -e being given the logdirectory and jobnames for errorlogs.\n",
    "-e ${LOG}/${JOB}_%J.err \\\n",
    "\n",
    "# The command being run.\n",
    "${COMMAND}"
   ]
  },
  {
   "cell_type": "code",
   "execution_count": null,
   "metadata": {
    "collapsed": true
   },
   "outputs": [],
   "source": [
    "#######################################\n",
    "Input: \n",
    "Reference BAM file.\n",
    "\n",
    "Function: \n",
    "Blast the candidate genes against the reference genome to see where the candidate genes map on the genome.\n",
    "\n",
    "Output:\n",
    "Indexed reference BAM file.\n",
    "#######################################"
   ]
  },
  {
   "cell_type": "code",
   "execution_count": null,
   "metadata": {
    "collapsed": true
   },
   "outputs": [],
   "source": [
    "# Load samtools 1.9 module.\n",
    "module load samtools/1.9\n",
    "# Index the new zealand trevally BAM file.\n",
    "samtools index ${outdir}nz_trevally.bam"
   ]
  }
 ],
 "metadata": {
  "kernelspec": {
   "display_name": "Bash",
   "language": "bash",
   "name": "bash"
  },
  "language_info": {
   "codemirror_mode": "shell",
   "file_extension": ".sh",
   "mimetype": "text/x-sh",
   "name": "bash"
  }
 },
 "nbformat": 4,
 "nbformat_minor": 2
}
