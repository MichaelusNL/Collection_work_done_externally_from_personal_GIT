{
 "cells": [
  {
   "cell_type": "code",
   "execution_count": null,
   "metadata": {
    "collapsed": true
   },
   "outputs": [],
   "source": [
    "#######################################\n",
    "Input:\n",
    "*_depth files(files with depth per region and scaffold)\n",
    "\n",
    "Function: \n",
    "Calculate the mean p_values for depth when comparing sexes on a specific base region(500 here).\n",
    "\n",
    "Output:\n",
    "[scaffold name]_means files(files of a specific scaffold with a mean -log10P value per 500b region)\n",
    "#######################################"
   ]
  },
  {
   "cell_type": "code",
   "execution_count": 3,
   "metadata": {},
   "outputs": [
    {
     "name": "stderr",
     "output_type": "stream",
     "text": [
      "Warning message:\n",
      "\"type 31 is unimplemented in 'type2char'\""
     ]
    },
    {
     "ename": "ERROR",
     "evalue": "Error: CAR/CDR/TAG or similar applied to unknown type #31 object\n",
     "output_type": "error",
     "traceback": [
      "Error: CAR/CDR/TAG or similar applied to unknown type #31 object\nTraceback:\n",
      "1. lapply(filenames, generate_chr_DT)",
      "2. FUN(X[[i]], ...)",
      "3. mutate(depth_data, bin_start = (ceiling(POS/500) * 500) - 500)   # at line 22 of file <text>",
      "4. mutate.data.frame(depth_data, bin_start = (ceiling(POS/500) * \n .     500) - 500)",
      "5. as.data.frame(mutate(tbl_df(.data), ...))",
      "6. mutate(tbl_df(.data), ...)",
      "7. mutate.tbl_df(tbl_df(.data), ...)",
      "8. mutate_impl(.data, dots, caller_env())"
     ]
    }
   ],
   "source": [
    "library(data.table)\n",
    "library(ggplot2)\n",
    "library(dplyr)\n",
    "\n",
    "filenames <- list.files(path=\"01.depth\", pattern=\"*_depth\", full.names = TRUE)\n",
    "\n",
    "\n",
    "generate_chr_DT <- function(file){   \n",
    "    depth_data <- fread(file)\n",
    "    Chr <- gsub(\"01.depth/\",\"\",file)\n",
    "    #Chr <- gsub(\"_depth\", \"\",Chr)\n",
    "    #name columns:\n",
    "    #First generate the sample names \n",
    "    sample_names <- readLines(\"00.data/samples_males_then_females_in_order\")\n",
    "    #Now the chromosomal regions\n",
    "    regions <- c('CHROM', 'POS')\n",
    "    col_names <- c(regions, sample_names)\n",
    "    #assign CHROM, POS and then the 12 sample name to the columns in the same order as samtools depth was done\n",
    "    colnames(depth_data) <- col_names\n",
    "\n",
    "    # make bins with a new column \"bin_start\"\n",
    "    with_bins <- mutate(depth_data, bin_start=(ceiling(POS/500)*500)-500)\n",
    "    # group bin_start\n",
    "    by_bin <- group_by(with_bins, bin_start)\n",
    "    #calculate bin means for each sample, for each bin\n",
    "\n",
    "    bin_means <- summarise(by_bin,\n",
    "    group_01 = mean(group_01),\n",
    "    group_03 = mean(group_03),\n",
    "    group_05 = mean(group_05),\n",
    "    group_09 = mean(group_09),\n",
    "    group_11 = mean(group_11),\n",
    "    group_12 = mean(group_12),\n",
    "    group_13 = mean(group_13),\n",
    "    group_02 = mean(group_02),\n",
    "    group_04 = mean(group_04),\n",
    "    group_06 = mean(group_06),\n",
    "    group_07 = mean(group_07),\n",
    "    group_08 = mean(group_08),\n",
    "    group_10 = mean(group_10))\n",
    "        \n",
    "    #Do a t-test for the means of males (1:7) and females (8:13)\n",
    "    t.result <- apply(bin_means[1:14], 1, function (x) t.test(x[2:8],x[9:14]))\n",
    "        \n",
    "    #extract p values from t.result and place into the bin_means dataframe\n",
    "    bin_means$p_value <- unlist(lapply(t.result, function(x) x$p.value))\n",
    "    \n",
    "    #calculate false discovery rate\n",
    "    bin_means$fdr <- p.adjust(bin_means$p_value, method = \"fdr\")\n",
    "\n",
    "    #prepare data for plotting    \n",
    "    bin_means <- data.frame(bin_means)\n",
    "\n",
    "    #generate -log p values (larger = more significant)\n",
    "    bin_means <- mutate(bin_means, minus_log10_P=-log10(p_value))\n",
    "    \n",
    "    #write files for later use and plot\n",
    "    outfile <- paste(\"02.means/\", Chr, \"_means\")\n",
    "    \n",
    "    write.table(bin_means, file=outfile, row.names=FALSE)\n",
    "    }\n",
    "                                       \n",
    "lapply(filenames,generate_chr_DT)"
   ]
  }
 ],
 "metadata": {
  "kernelspec": {
   "display_name": "R-3.5.0",
   "language": "R",
   "name": "ir3.5.0"
  },
  "language_info": {
   "codemirror_mode": "r",
   "file_extension": ".r",
   "mimetype": "text/x-r-source",
   "name": "R",
   "pygments_lexer": "r",
   "version": "3.5.0"
  }
 },
 "nbformat": 4,
 "nbformat_minor": 2
}
