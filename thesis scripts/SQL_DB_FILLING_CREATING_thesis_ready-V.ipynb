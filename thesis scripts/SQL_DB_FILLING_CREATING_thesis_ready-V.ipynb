{
 "cells": [
  {
   "cell_type": "code",
   "execution_count": null,
   "metadata": {
    "collapsed": true
   },
   "outputs": [],
   "source": [
    "#######################################\n",
    "\n",
    "Function: \n",
    "Create the database tables(ref_data and fastq_data) for the SQLite \n",
    "database and define the type of data that is going to be stored.  \n",
    "\n",
    "#######################################"
   ]
  },
  {
   "cell_type": "code",
   "execution_count": 32,
   "metadata": {
    "collapsed": true
   },
   "outputs": [],
   "source": [
    "import sqlite3\n",
    "from sqlite3 import Error\n",
    "conn = sqlite3.connect('db_mapping.db')\n",
    "c = conn.cursor()\n",
    "c.execute('DROP TABLE IF EXISTS ref_data')\n",
    "c.execute('DROP TABLE IF EXISTS fastq_data')\n",
    "c.execute('''CREATE TABLE ref_data ([ref_id] INTEGER PRIMARY KEY,[index_path] TEXT,[index] TEXT)''')\n",
    "c.execute('''CREATE TABLE fastq_data ([fastq_id] INTEGER PRIMARY KEY,[path] TEXT, [sex] TEXT,\n",
    "[read1_L001] TEXT, [read1_L001_trimmed] TEXT, [read2_L001] TEXT,[read2_L001_trimmed] TEXT, [read1_L002] TEXT,\n",
    "[read1_L002_trimmed] TEXT, [read2_L002] TEXT, [read2_L002_trimmed] TEXT,\n",
    "[trimmed_path] TEXT,\n",
    "[species] TEXT )''')\n",
    "conn.commit()                    "
   ]
  },
  {
   "cell_type": "code",
   "execution_count": null,
   "metadata": {
    "collapsed": true
   },
   "outputs": [],
   "source": [
    "#######################################\n",
    "\n",
    "Function: \n",
    "Fill the SQLite database created with data from 'ref_data.csv' and 'fastq_data.csv'.\n",
    "\n",
    "#######################################"
   ]
  },
  {
   "cell_type": "code",
   "execution_count": 33,
   "metadata": {
    "collapsed": true
   },
   "outputs": [],
   "source": [
    "import sqlite3\n",
    "import pandas as pd\n",
    "from pandas import DataFrame\n",
    "\n",
    "conn = sqlite3.connect('db_mapping.db')  \n",
    "c = conn.cursor()\n",
    "\n",
    "#read ref_data from csv and insert ref_data into ref table\n",
    "read_ref = pd.read_csv (r'/workspace/hramzr/DNAseq_mapping/ref_data.csv')\n",
    "read_ref.to_sql('ref_data', conn, if_exists='append', index = False) \n",
    "\n",
    "#read fastq_data from csv and insert fastq_data into fastq table   \n",
    "read_ref = pd.read_csv (r'/workspace/hramzr/DNAseq_mapping/fastq_data.csv')\n",
    "read_ref.to_sql('fastq_data', conn, if_exists='append', index = False)\n"
   ]
  }
 ],
 "metadata": {
  "kernelspec": {
   "display_name": "PFR Python3-3.6.5",
   "language": "python",
   "name": "pfr-python3-3.6.5"
  },
  "language_info": {
   "codemirror_mode": {
    "name": "ipython",
    "version": 3
   },
   "file_extension": ".py",
   "mimetype": "text/x-python",
   "name": "python",
   "nbconvert_exporter": "python",
   "pygments_lexer": "ipython3",
   "version": "3.6.5"
  }
 },
 "nbformat": 4,
 "nbformat_minor": 2
}
