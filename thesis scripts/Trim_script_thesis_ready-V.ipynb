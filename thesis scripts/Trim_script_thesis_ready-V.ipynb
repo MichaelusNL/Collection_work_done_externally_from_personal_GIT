{
 "cells": [
  {
   "cell_type": "code",
   "execution_count": null,
   "metadata": {
    "collapsed": true
   },
   "outputs": [],
   "source": [
    "#######################################\n",
    "Function: \n",
    "Make data folder to store the data used for trimming.\n",
    "#######################################"
   ]
  },
  {
   "cell_type": "code",
   "execution_count": 3,
   "metadata": {
    "collapsed": true
   },
   "outputs": [],
   "source": [
    "mkdir -p 00.data"
   ]
  },
  {
   "cell_type": "code",
   "execution_count": null,
   "metadata": {
    "collapsed": true
   },
   "outputs": [],
   "source": [
    "#######################################\n",
    "Function: \n",
    "Extract trimdata from the fastq-data table and write this data off to a textfile in a readable format for a bash loop(tabulair).\n",
    "#######################################"
   ]
  },
  {
   "cell_type": "code",
   "execution_count": 1,
   "metadata": {},
   "outputs": [
    {
     "name": "stdout",
     "output_type": "stream",
     "text": [
      "[(1, '/input/genomic/fish/Pseudocaranx/georgianus/Resequencing/AGRF_CAGRF15067_CBRE3ANXX', 'TRE_076320598_9TBS_CBRE3ANXX_GTCCGCAC_L001_R1.fastq.gz', 'TRE_076320598_9TBS_CBRE3ANXX_GTCCGCAC_L001_R1.trimmed.fq.gz', 'TRE_076320598_9TBS_CBRE3ANXX_GTCCGCAC_L001_R2.fastq.gz', 'TRE_076320598_9TBS_CBRE3ANXX_GTCCGCAC_L001_R2.trimmed.fq.gz', 'TRE_076320598_9TBS_CBRE3ANXX_GTCCGCAC_L002_R1.fastq.gz', 'TRE_076320598_9TBS_CBRE3ANXX_GTCCGCAC_L002_R1.trimmed.fq.gz', 'TRE_076320598_9TBS_CBRE3ANXX_GTCCGCAC_L002_R2.fastq.gz', 'TRE_076320598_9TBS_CBRE3ANXX_GTCCGCAC_L002_R2.trimmed.fq.gz', '/powerplant/workspace/hramzr/DNAseq_mapping/reads_alignment'), (2, '/input/genomic/fish/Pseudocaranx/georgianus/Resequencing/AGRF_CAGRF15067_CBRE3ANXX', 'TRE_076309620_11TBS_CBRE3ANXX_GTGGCCTT_L001_R1.fastq.gz', 'TRE_076309620_11TBS_CBRE3ANXX_GTGGCCTT_L001_R1.trimmed.fq.gz', 'TRE_076309620_11TBS_CBRE3ANXX_GTGGCCTT_L001_R2.fastq.gz', 'TRE_076309620_11TBS_CBRE3ANXX_GTGGCCTT_L001_R2.trimmed.fq.gz', 'TRE_076309620_11TBS_CBRE3ANXX_GTGGCCTT_L002_R1.fastq.gz', 'TRE_076309620_11TBS_CBRE3ANXX_GTGGCCTT_L002_R1.trimmed.fq.gz', 'TRE_076309620_11TBS_CBRE3ANXX_GTGGCCTT_L002_R2.fastq.gz', 'TRE_076309620_11TBS_CBRE3ANXX_GTGGCCTT_L002_R2.trimmed.fq.gz', '/powerplant/workspace/hramzr/DNAseq_mapping/reads_alignment'), (3, '/input/genomic/fish/Pseudocaranx/georgianus/Resequencing/AGRF_CAGRF15067_CBRE3ANXX', 'TRE_076309071_5TBS_CBRE3ANXX_AGTCAACA_L001_R1.fastq.gz', 'TRE_076309071_5TBS_CBRE3ANXX_AGTCAACA_L001_R1.trimmed.fq.gz', 'TRE_076309071_5TBS_CBRE3ANXX_AGTCAACA_L001_R2.fastq.gz', 'TRE_076309071_5TBS_CBRE3ANXX_AGTCAACA_L001_R2.trimmed.fq.gz', 'TRE_076309071_5TBS_CBRE3ANXX_AGTCAACA_L002_R1.fastq.gz', 'TRE_076309071_5TBS_CBRE3ANXX_AGTCAACA_L002_R1.trimmed.fq.gz', 'TRE_076309071_5TBS_CBRE3ANXX_AGTCAACA_L002_R2.fastq.gz', 'TRE_076309071_5TBS_CBRE3ANXX_AGTCAACA_L002_R2.trimmed.fq.gz', '/powerplant/workspace/hramzr/DNAseq_mapping/reads_alignment'), (4, '/input/genomic/fish/Pseudocaranx/georgianus/Resequencing/AGRF_CAGRF15067_CBRE3ANXX', 'TRE_076294363_13TBS_CBRE3ANXX_CGTACGTA_L001_R1.fastq.gz', 'TRE_076294363_13TBS_CBRE3ANXX_CGTACGTA_L001_R1.trimmed.fq.gz', 'TRE_076294363_13TBS_CBRE3ANXX_CGTACGTA_L001_R2.fastq.gz', 'TRE_076294363_13TBS_CBRE3ANXX_CGTACGTA_L001_R2.trimmed.fq.gz', 'TRE_076294363_13TBS_CBRE3ANXX_CGTACGTA_L002_R1.fastq.gz', 'TRE_076294363_13TBS_CBRE3ANXX_CGTACGTA_L002_R1.trimmed.fq.gz', 'TRE_076294363_13TBS_CBRE3ANXX_CGTACGTA_L002_R2.fastq.gz', 'TRE_076294363_13TBS_CBRE3ANXX_CGTACGTA_L002_R2.trimmed.fq.gz', '/powerplant/workspace/hramzr/DNAseq_mapping/reads_alignment'), (5, '/input/genomic/fish/Pseudocaranx/georgianus/Resequencing/AGRF_CAGRF15067_CBRE3ANXX', 'TRE_076294349_6TBS_CBRE3ANXX_AGTTCCGT_L001_R1.fastq.gz', 'TRE_076294349_6TBS_CBRE3ANXX_AGTTCCGT_L001_R1.trimmed.fq.gz', 'TRE_076294349_6TBS_CBRE3ANXX_AGTTCCGT_L001_R2.fastq.gz', 'TRE_076294349_6TBS_CBRE3ANXX_AGTTCCGT_L001_R2.trimmed.fq.gz', 'TRE_076294349_6TBS_CBRE3ANXX_AGTTCCGT_L002_R1.fastq.gz', 'TRE_076294349_6TBS_CBRE3ANXX_AGTTCCGT_L002_R1.trimmed.fq.gz', 'TRE_076294349_6TBS_CBRE3ANXX_AGTTCCGT_L002_R2.fastq.gz', 'TRE_076294349_6TBS_CBRE3ANXX_AGTTCCGT_L002_R2.trimmed.fq.gz', '/powerplant/workspace/hramzr/DNAseq_mapping/reads_alignment'), (6, '/input/genomic/fish/Pseudocaranx/georgianus/Resequencing/AGRF_CAGRF15067_CBRE3ANXX', 'TRE_076289591_12TBS_CBRE3ANXX_GTTTCGGA_L001_R1.fastq.gz', 'TRE_076289591_12TBS_CBRE3ANXX_GTTTCGGA_L001_R1.trimmed.fq.gz', 'TRE_076289591_12TBS_CBRE3ANXX_GTTTCGGA_L001_R2.fastq.gz', 'TRE_076289591_12TBS_CBRE3ANXX_GTTTCGGA_L001_R2.trimmed.fq.gz', 'TRE_076289591_12TBS_CBRE3ANXX_GTTTCGGA_L002_R1.fastq.gz', 'TRE_076289591_12TBS_CBRE3ANXX_GTTTCGGA_L002_R1.trimmed.fq.gz', 'TRE_076289591_12TBS_CBRE3ANXX_GTTTCGGA_L002_R2.fastq.gz', 'TRE_076289591_12TBS_CBRE3ANXX_GTTTCGGA_L002_R2.trimmed.fq.gz', '/powerplant/workspace/hramzr/DNAseq_mapping/reads_alignment'), (7, '/input/genomic/fish/Pseudocaranx/georgianus/Resequencing/AGRF_CAGRF15067_CBRE3ANXX', 'TRE_076288269_7TBS_CBRE3ANXX_ATGTCAGA_L001_R1.fastq.gz', 'TRE_076288269_7TBS_CBRE3ANXX_ATGTCAGA_L001_R1.trimmed.fq.gz', 'TRE_076288269_7TBS_CBRE3ANXX_ATGTCAGA_L001_R2.fastq.gz', 'TRE_076288269_7TBS_CBRE3ANXX_ATGTCAGA_L001_R2.trimmed.fq.gz', 'TRE_076288269_7TBS_CBRE3ANXX_ATGTCAGA_L002_R1.fastq.gz', 'TRE_076288269_7TBS_CBRE3ANXX_ATGTCAGA_L002_R1.trimmed.fq.gz', 'TRE_076288269_7TBS_CBRE3ANXX_ATGTCAGA_L002_R2.fastq.gz', 'TRE_076288269_7TBS_CBRE3ANXX_ATGTCAGA_L002_R2.trimmed.fq.gz', '/powerplant/workspace/hramzr/DNAseq_mapping/reads_alignment'), (8, '/input/genomic/fish/Pseudocaranx/georgianus/Resequencing/AGRF_CAGRF15067_CBRE3ANXX', 'TRE_076287300_1TBS_CBRE3ANXX_GATCAGAT_L001_R1.fastq.gz', 'TRE_076287300_1TBS_CBRE3ANXX_GATCAGAT_L001_R1.trimmed.fq.gz', 'TRE_076287300_1TBS_CBRE3ANXX_GATCAGAT_L001_R2.fastq.gz', 'TRE_076287300_1TBS_CBRE3ANXX_GATCAGAT_L001_R2.trimmed.fq.gz', 'TRE_076287300_1TBS_CBRE3ANXX_GATCAGAT_L002_R1.fastq.gz', 'TRE_076287300_1TBS_CBRE3ANXX_GATCAGAT_L002_R1.trimmed.fq.gz', 'TRE_076287300_1TBS_CBRE3ANXX_GATCAGAT_L002_R2.fastq.gz', 'TRE_076287300_1TBS_CBRE3ANXX_GATCAGAT_L002_R2.trimmed.fq.gz', '/powerplant/workspace/hramzr/DNAseq_mapping/reads_alignment'), (9, '/input/genomic/fish/Pseudocaranx/georgianus/Resequencing/AGRF_CAGRF15067_CBRE3ANXX', 'TRE_076286615_10TBS_CBRE3ANXX_GTGAAACG_L001_R1.fastq.gz', 'TRE_076286615_10TBS_CBRE3ANXX_GTGAAACG_L001_R1.trimmed.fq.gz', 'TRE_076286615_10TBS_CBRE3ANXX_GTGAAACG_L001_R2.fastq.gz', 'TRE_076286615_10TBS_CBRE3ANXX_GTGAAACG_L001_R2.trimmed.fq.gz', 'TRE_076286615_10TBS_CBRE3ANXX_GTGAAACG_L002_R1.fastq.gz', 'TRE_076286615_10TBS_CBRE3ANXX_GTGAAACG_L002_R1.trimmed.fq.gz', 'TRE_076286615_10TBS_CBRE3ANXX_GTGAAACG_L002_R2.fastq.gz', 'TRE_076286615_10TBS_CBRE3ANXX_GTGAAACG_L002_R2.trimmed.fq.gz', '/powerplant/workspace/hramzr/DNAseq_mapping/reads_alignment'), (10, '/input/genomic/fish/Pseudocaranx/georgianus/Resequencing/AGRF_CAGRF15067_CBRE3ANXX', 'TRE_076285546_8TBS_CBRE3ANXX_CCGTCCCG_L001_R1.fastq.gz', 'TRE_076285546_8TBS_CBRE3ANXX_CCGTCCCG_L001_R1.trimmed.fq.gz', 'TRE_076285546_8TBS_CBRE3ANXX_CCGTCCCG_L001_R2.fastq.gz', 'TRE_076285546_8TBS_CBRE3ANXX_CCGTCCCG_L001_R2.trimmed.fq.gz', 'TRE_076285546_8TBS_CBRE3ANXX_CCGTCCCG_L002_R1.fastq.gz', 'TRE_076285546_8TBS_CBRE3ANXX_CCGTCCCG_L002_R1.trimmed.fq.gz', 'TRE_076285546_8TBS_CBRE3ANXX_CCGTCCCG_L002_R2.fastq.gz', 'TRE_076285546_8TBS_CBRE3ANXX_CCGTCCCG_L002_R2.trimmed.fq.gz', '/powerplant/workspace/hramzr/DNAseq_mapping/reads_alignment'), (11, '/input/genomic/fish/Pseudocaranx/georgianus/Resequencing/AGRF_CAGRF15067_CBRE3ANXX', 'TRE_076276567_4TBS_CBRE3ANXX_CTTGTAAT_L001_R1.fastq.gz', 'TRE_076276567_4TBS_CBRE3ANXX_CTTGTAAT_L001_R1.trimmed.fq.gz', 'TRE_076276567_4TBS_CBRE3ANXX_CTTGTAAT_L001_R2.fastq.gz', 'TRE_076276567_4TBS_CBRE3ANXX_CTTGTAAT_L001_R2.trimmed.fq.gz', 'TRE_076276567_4TBS_CBRE3ANXX_CTTGTAAT_L002_R1.fastq.gz', 'TRE_076276567_4TBS_CBRE3ANXX_CTTGTAAT_L002_R1.trimmed.fq.gz', 'TRE_076276567_4TBS_CBRE3ANXX_CTTGTAAT_L002_R2.fastq.gz', 'TRE_076276567_4TBS_CBRE3ANXX_CTTGTAAT_L002_R2.trimmed.fq.gz', '/powerplant/workspace/hramzr/DNAseq_mapping/reads_alignment'), (12, '/input/genomic/fish/Pseudocaranx/georgianus/Resequencing/AGRF_CAGRF15067_CBRE3ANXX', 'TRE_076274341_3TBS_CBRE3ANXX_GGCTACAT_L001_R1.fastq.gz', 'TRE_076274341_3TBS_CBRE3ANXX_GGCTACAT_L001_R1.trimmed.fq.gz', 'TRE_076274341_3TBS_CBRE3ANXX_GGCTACAT_L001_R2.fastq.gz', 'TRE_076274341_3TBS_CBRE3ANXX_GGCTACAT_L001_R2.trimmed.fq.gz', 'TRE_076274341_3TBS_CBRE3ANXX_GGCTACAT_L002_R1.fastq.gz', 'TRE_076274341_3TBS_CBRE3ANXX_GGCTACAT_L002_R1.trimmed.fq.gz', 'TRE_076274341_3TBS_CBRE3ANXX_GGCTACAT_L002_R2.fastq.gz', 'TRE_076274341_3TBS_CBRE3ANXX_GGCTACAT_L002_R2.trimmed.fq.gz', '/powerplant/workspace/hramzr/DNAseq_mapping/reads_alignment'), (13, '/input/genomic/fish/Pseudocaranx/georgianus/Resequencing/AGRF_CAGRF15067_CBRE3ANXX', 'TRE_076273771_2TBS_CBRE3ANXX_TAGCTTAT_L001_R1.fastq.gz', 'TRE_076273771_2TBS_CBRE3ANXX_TAGCTTAT_L001_R1.trimmed.fq.gz', 'TRE_076273771_2TBS_CBRE3ANXX_TAGCTTAT_L001_R2.fastq.gz', 'TRE_076273771_2TBS_CBRE3ANXX_TAGCTTAT_L001_R2.trimmed.fq.gz', 'TRE_076273771_2TBS_CBRE3ANXX_TAGCTTAT_L002_R1.fastq.gz', 'TRE_076273771_2TBS_CBRE3ANXX_TAGCTTAT_L002_R1.trimmed.fq.gz', 'TRE_076273771_2TBS_CBRE3ANXX_TAGCTTAT_L002_R2.fastq.gz', 'TRE_076273771_2TBS_CBRE3ANXX_TAGCTTAT_L002_R2.trimmed.fq.gz', '/powerplant/workspace/hramzr/DNAseq_mapping/reads_alignment')]\n"
     ]
    }
   ],
   "source": [
    "import sqlite3\n",
    "con = sqlite3.connect(r\"/powerplant/workspace/hramzr/DNAseq_mapping/db_mapping.db\")\n",
    "mycur = con.cursor() \n",
    "mycur.execute(\"SELECT fastq_id,path,read1_L001,read1_L001_trimmed,read2_L001,read2_L001_trimmed,read1_L002,read1_L002_trimmed, read2_L002,read2_L002_trimmed, trimmed_path FROM fastq_data\")\n",
    "available_table=(mycur.fetchall())\n",
    "available_table\n",
    "\n",
    "f= open(\"00.data/dna_seq_data\",\"w+\")\n",
    "\n",
    "for line in available_table:\n",
    "    FID, PTH, R1L1, R1L1T, R2L1, R2L1T, R1L2, R1L2T, R2L2, R2L2T, TRPTH = line\n",
    "    f.write(str(FID)+\"\\t\"+ PTH.strip() + \"\\t\" + R1L1.strip() + \"\\t\" + R1L1T.strip() +\n",
    "            \"\\t\" + R2L1.strip() +  \"\\t\" + R2L1T.strip() + \"\\t\" + R1L2.strip() + \"\\t\"\n",
    "            + R1L2T.strip() + \"\\t\" + R2L2.strip()+ \"\\t\" + R2L2T.strip() + \"\\t\"+ TRPTH.strip()+\"\\n\")\n",
    "f.close()"
   ]
  },
  {
   "cell_type": "code",
   "execution_count": null,
   "metadata": {
    "collapsed": true
   },
   "outputs": [],
   "source": [
    "#######################################\n",
    "Input: \n",
    "Lane 1 and lane 2 untrimmed reads.\n",
    "    \n",
    "Function: \n",
    "Trim the lane 1 and lane 2 reads by running trimmomatic at the same time for the corresponding reads per lane.\n",
    "\n",
    "Output:\n",
    "Trimmed lane 1 and lane 2 reads.\n",
    "#######################################"
   ]
  },
  {
   "cell_type": "code",
   "execution_count": 4,
   "metadata": {},
   "outputs": [
    {
     "name": "stdout",
     "output_type": "stream",
     "text": [
      "Job <11882> is submitted to default queue <normal>.\n",
      "Job <11883> is submitted to default queue <normal>.\n",
      "Job <11884> is submitted to default queue <normal>.\n",
      "Job <11885> is submitted to default queue <normal>.\n",
      "Job <11886> is submitted to default queue <normal>.\n",
      "Job <11887> is submitted to default queue <normal>.\n",
      "Job <11888> is submitted to default queue <normal>.\n",
      "Job <11889> is submitted to default queue <normal>.\n",
      "Job <11890> is submitted to default queue <normal>.\n",
      "Job <11891> is submitted to default queue <normal>.\n",
      "Job <11892> is submitted to default queue <normal>.\n",
      "Job <11893> is submitted to default queue <normal>.\n",
      "Job <11894> is submitted to default queue <normal>.\n",
      "Job <11895> is submitted to default queue <normal>.\n",
      "Job <11896> is submitted to default queue <normal>.\n",
      "Job <11897> is submitted to default queue <normal>.\n",
      "Job <11898> is submitted to default queue <normal>.\n",
      "Job <11899> is submitted to default queue <normal>.\n",
      "Job <11900> is submitted to default queue <normal>.\n",
      "Job <11901> is submitted to default queue <normal>.\n",
      "Job <11902> is submitted to default queue <normal>.\n",
      "Job <11903> is submitted to default queue <normal>.\n",
      "Job <11904> is submitted to default queue <normal>.\n",
      "Job <11905> is submitted to default queue <normal>.\n",
      "Job <11906> is submitted to default queue <normal>.\n",
      "Job <11907> is submitted to default queue <normal>.\n"
     ]
    }
   ],
   "source": [
    "TRPATH=/software/bioinformatics/Trimmomatic-0.36\n",
    "\n",
    "while read -r FID PTH R1L1 R1L1T R2L1 R2L1T R1L2 R1L2T R2L2 R2L2T TRPTH\n",
    "do\n",
    "    bsub \"java -jar ${TRPATH}/trimmomatic-0.36.jar \\\n",
    "    PE -phred33 \\\n",
    "    ${PTH}/${R1L1} \\\n",
    "    ${PTH}/${R2L1} \\\n",
    "    ${TRPTH}/${R1L1T} \\\n",
    "    ${TRPTH}/${FID}_R1_L1_unpaired.fq.gz \\\n",
    "    ${TRPTH}/${R2L1T} \\\n",
    "    ${TRPTH}/${FID}_R2_L1_unpaired.fq.gz \\\n",
    "    ILLUMINACLIP:${TRPATH}/adapters/TruSeq3-PE.fa:2:30:10 \\\n",
    "    SLIDINGWINDOW:4:15 \\\n",
    "    MINLEN:50 \"\n",
    "    \n",
    "    bsub \"java -jar ${TRPATH}/trimmomatic-0.36.jar \\\n",
    "    PE -phred33 \\\n",
    "    ${PTH}/${R1L2} \\\n",
    "    ${PTH}/${R2L2} \\\n",
    "    ${TRPTH}/${R1L2T} \\\n",
    "    ${TRPTH}/${FID}_R1_L2_unpaired.fq.gz \\\n",
    "    ${TRPTH}/${R2L2T} \\\n",
    "    ${TRPTH}/${FID}_R2_L2_unpaired.fq.gz \\\n",
    "    ILLUMINACLIP:${TRPATH}/adapters/TruSeq3-PE.fa:2:30:10 \\\n",
    "    SLIDINGWINDOW:4:15 \\\n",
    "    MINLEN:50 \"\n",
    "done < 00.data/dna_seq_data"
   ]
  }
 ],
 "metadata": {
  "kernelspec": {
   "display_name": "PFR Python3-3.6.5",
   "language": "python",
   "name": "pfr-python3-3.6.5"
  },
  "language_info": {
   "codemirror_mode": {
    "name": "ipython",
    "version": 3
   },
   "file_extension": ".py",
   "mimetype": "text/x-python",
   "name": "python",
   "nbconvert_exporter": "python",
   "pygments_lexer": "ipython3",
   "version": "3.6.5"
  }
 },
 "nbformat": 4,
 "nbformat_minor": 2
}
