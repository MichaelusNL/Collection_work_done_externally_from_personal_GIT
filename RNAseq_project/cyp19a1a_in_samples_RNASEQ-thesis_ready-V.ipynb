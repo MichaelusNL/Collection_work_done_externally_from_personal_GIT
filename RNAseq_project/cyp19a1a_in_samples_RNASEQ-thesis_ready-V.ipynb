{
 "cells": [
  {
   "cell_type": "code",
   "execution_count": null,
   "metadata": {},
   "outputs": [],
   "source": [
    "#######################################\n",
    "Function:\n",
    "Make folders to direct specific outputs to.\n",
    "    \n",
    "Output:\n",
    "1. Several folders for specific data storage\n",
    "#######################################"
   ]
  },
  {
   "cell_type": "code",
   "execution_count": 26,
   "metadata": {},
   "outputs": [
    {
     "name": "stdout",
     "output_type": "stream",
     "text": [
      "mkdir: cannot create directory ‘log’: File exists\n",
      "mkdir: cannot create directory ‘bamfiles’: File exists\n",
      "mkdir: cannot create directory ‘indexes’: File exists\n",
      "mkdir: cannot create directory ‘genome’: File exists\n"
     ]
    }
   ],
   "source": [
    "# make log/bamfile/index/genome maps\n",
    "mkdir log\n",
    "mkdir bamfiles\n",
    "mkdir indexes\n",
    "mkdir genome\n",
    "mkdir zfq\n",
    "mkdir depth_out"
   ]
  },
  {
   "cell_type": "code",
   "execution_count": null,
   "metadata": {},
   "outputs": [],
   "source": [
    "#######################################\n",
    "Input:\n",
    "1. *fastq.gz (Untrimmed read files in FASTQ.gz format) \n",
    "\n",
    "Function:\n",
    "Create a loop.lst file with input data for trimming.\n",
    "    \n",
    "Output:\n",
    "1. loop.lst (TXT file with input data like directionaries and filenames)\n",
    "#######################################"
   ]
  },
  {
   "cell_type": "code",
   "execution_count": 16,
   "metadata": {},
   "outputs": [
    {
     "name": "stdout",
     "output_type": "stream",
     "text": [
      "TB1_CB0LJANXX_CAGCGT_L002_R1.fastq.gz /powerplant/workspace/hramzr/RNA_seq/trimmed /input/genomic/fish/Pseudocaranx/georgianus/Transcriptome/AGRF_CAGRF15066_CB0LJANXX TB1 /workspace/hramzr/RNA_seq/zfq/TB1_CB0LJANXX_CAGCGT_L002_R1.fastq\n",
      "TB2_CB0LJANXX_TCAGGA_L002_R1.fastq.gz /powerplant/workspace/hramzr/RNA_seq/trimmed /input/genomic/fish/Pseudocaranx/georgianus/Transcriptome/AGRF_CAGRF15066_CB0LJANXX TB2 /workspace/hramzr/RNA_seq/zfq/TB2_CB0LJANXX_TCAGGA_L002_R1.fastq\n",
      "TB3_CB0LJANXX_TCTTAA_L002_R1.fastq.gz /powerplant/workspace/hramzr/RNA_seq/trimmed /input/genomic/fish/Pseudocaranx/georgianus/Transcriptome/AGRF_CAGRF15066_CB0LJANXX TB3 /workspace/hramzr/RNA_seq/zfq/TB3_CB0LJANXX_TCTTAA_L002_R1.fastq\n",
      "TB4_CB0LJANXX_TTTATG_L002_R1.fastq.gz /powerplant/workspace/hramzr/RNA_seq/trimmed /input/genomic/fish/Pseudocaranx/georgianus/Transcriptome/AGRF_CAGRF15066_CB0LJANXX TB4 /workspace/hramzr/RNA_seq/zfq/TB4_CB0LJANXX_TTTATG_L002_R1.fastq\n",
      "TB5_CB0LJANXX_AGATAG_L002_R1.fastq.gz /powerplant/workspace/hramzr/RNA_seq/trimmed /input/genomic/fish/Pseudocaranx/georgianus/Transcriptome/AGRF_CAGRF15066_CB0LJANXX TB5 /workspace/hramzr/RNA_seq/zfq/TB5_CB0LJANXX_AGATAG_L002_R1.fastq\n",
      "TG1_CB0LJANXX_CTCTCG_L002_R1.fastq.gz /powerplant/workspace/hramzr/RNA_seq/trimmed /input/genomic/fish/Pseudocaranx/georgianus/Transcriptome/AGRF_CAGRF15066_CB0LJANXX TG1 /workspace/hramzr/RNA_seq/zfq/TG1_CB0LJANXX_CTCTCG_L002_R1.fastq\n",
      "TG2_CB0LJANXX_GTGCCA_L002_R1.fastq.gz /powerplant/workspace/hramzr/RNA_seq/trimmed /input/genomic/fish/Pseudocaranx/georgianus/Transcriptome/AGRF_CAGRF15066_CB0LJANXX TG2 /workspace/hramzr/RNA_seq/zfq/TG2_CB0LJANXX_GTGCCA_L002_R1.fastq\n",
      "TG3_CB0LJANXX_AGTACT_L002_R1.fastq.gz /powerplant/workspace/hramzr/RNA_seq/trimmed /input/genomic/fish/Pseudocaranx/georgianus/Transcriptome/AGRF_CAGRF15066_CB0LJANXX TG3 /workspace/hramzr/RNA_seq/zfq/TG3_CB0LJANXX_AGTACT_L002_R1.fastq\n",
      "TG4_CB0LJANXX_AAGCTC_L002_R1.fastq.gz /powerplant/workspace/hramzr/RNA_seq/trimmed /input/genomic/fish/Pseudocaranx/georgianus/Transcriptome/AGRF_CAGRF15066_CB0LJANXX TG4 /workspace/hramzr/RNA_seq/zfq/TG4_CB0LJANXX_AAGCTC_L002_R1.fastq\n",
      "TG5_CB0LJANXX_GACATC_L002_R1.fastq.gz /powerplant/workspace/hramzr/RNA_seq/trimmed /input/genomic/fish/Pseudocaranx/georgianus/Transcriptome/AGRF_CAGRF15066_CB0LJANXX TG5 /workspace/hramzr/RNA_seq/zfq/TG5_CB0LJANXX_GACATC_L002_R1.fastq\n",
      "TH1_CB0LJANXX_GCAGCC_L002_R1.fastq.gz /powerplant/workspace/hramzr/RNA_seq/trimmed /input/genomic/fish/Pseudocaranx/georgianus/Transcriptome/AGRF_CAGRF15066_CB0LJANXX TH1 /workspace/hramzr/RNA_seq/zfq/TH1_CB0LJANXX_GCAGCC_L002_R1.fastq\n",
      "TH2_CB0LJANXX_CGCGGA_L002_R1.fastq.gz /powerplant/workspace/hramzr/RNA_seq/trimmed /input/genomic/fish/Pseudocaranx/georgianus/Transcriptome/AGRF_CAGRF15066_CB0LJANXX TH2 /workspace/hramzr/RNA_seq/zfq/TH2_CB0LJANXX_CGCGGA_L002_R1.fastq\n",
      "TH3_CB0LJANXX_GATCAC_L002_R1.fastq.gz /powerplant/workspace/hramzr/RNA_seq/trimmed /input/genomic/fish/Pseudocaranx/georgianus/Transcriptome/AGRF_CAGRF15066_CB0LJANXX TH3 /workspace/hramzr/RNA_seq/zfq/TH3_CB0LJANXX_GATCAC_L002_R1.fastq\n",
      "TH4_CB0LJANXX_CGGTTA_L002_R1.fastq.gz /powerplant/workspace/hramzr/RNA_seq/trimmed /input/genomic/fish/Pseudocaranx/georgianus/Transcriptome/AGRF_CAGRF15066_CB0LJANXX TH4 /workspace/hramzr/RNA_seq/zfq/TH4_CB0LJANXX_CGGTTA_L002_R1.fastq\n",
      "TH5_CB0LJANXX_GTCAGG_L002_R1.fastq.gz /powerplant/workspace/hramzr/RNA_seq/trimmed /input/genomic/fish/Pseudocaranx/georgianus/Transcriptome/AGRF_CAGRF15066_CB0LJANXX TH5 /workspace/hramzr/RNA_seq/zfq/TH5_CB0LJANXX_GTCAGG_L002_R1.fastq\n",
      "TK1_CB0LJANXX_AACGCC_L002_R1.fastq.gz /powerplant/workspace/hramzr/RNA_seq/trimmed /input/genomic/fish/Pseudocaranx/georgianus/Transcriptome/AGRF_CAGRF15066_CB0LJANXX TK1 /workspace/hramzr/RNA_seq/zfq/TK1_CB0LJANXX_AACGCC_L002_R1.fastq\n",
      "TK2_CB0LJANXX_TTGGTA_L002_R1.fastq.gz /powerplant/workspace/hramzr/RNA_seq/trimmed /input/genomic/fish/Pseudocaranx/georgianus/Transcriptome/AGRF_CAGRF15066_CB0LJANXX TK2 /workspace/hramzr/RNA_seq/zfq/TK2_CB0LJANXX_TTGGTA_L002_R1.fastq\n",
      "TK3_CB0LJANXX_TGACAC_L002_R1.fastq.gz /powerplant/workspace/hramzr/RNA_seq/trimmed /input/genomic/fish/Pseudocaranx/georgianus/Transcriptome/AGRF_CAGRF15066_CB0LJANXX TK3 /workspace/hramzr/RNA_seq/zfq/TK3_CB0LJANXX_TGACAC_L002_R1.fastq\n",
      "TK4_CB0LJANXX_TCGAGG_L002_R1.fastq.gz /powerplant/workspace/hramzr/RNA_seq/trimmed /input/genomic/fish/Pseudocaranx/georgianus/Transcriptome/AGRF_CAGRF15066_CB0LJANXX TK4 /workspace/hramzr/RNA_seq/zfq/TK4_CB0LJANXX_TCGAGG_L002_R1.fastq\n",
      "TK5_CB0LJANXX_ATAAGA_L002_R1.fastq.gz /powerplant/workspace/hramzr/RNA_seq/trimmed /input/genomic/fish/Pseudocaranx/georgianus/Transcriptome/AGRF_CAGRF15066_CB0LJANXX TK5 /workspace/hramzr/RNA_seq/zfq/TK5_CB0LJANXX_ATAAGA_L002_R1.fastq\n",
      "TL1_CB0LJANXX_GACGAT_L002_R1.fastq.gz /powerplant/workspace/hramzr/RNA_seq/trimmed /input/genomic/fish/Pseudocaranx/georgianus/Transcriptome/AGRF_CAGRF15066_CB0LJANXX TL1 /workspace/hramzr/RNA_seq/zfq/TL1_CB0LJANXX_GACGAT_L002_R1.fastq\n",
      "TL2_CB0LJANXX_CGATCT_L002_R1.fastq.gz /powerplant/workspace/hramzr/RNA_seq/trimmed /input/genomic/fish/Pseudocaranx/georgianus/Transcriptome/AGRF_CAGRF15066_CB0LJANXX TL2 /workspace/hramzr/RNA_seq/zfq/TL2_CB0LJANXX_CGATCT_L002_R1.fastq\n",
      "TL3_CB0LJANXX_ACTCTT_L002_R1.fastq.gz /powerplant/workspace/hramzr/RNA_seq/trimmed /input/genomic/fish/Pseudocaranx/georgianus/Transcriptome/AGRF_CAGRF15066_CB0LJANXX TL3 /workspace/hramzr/RNA_seq/zfq/TL3_CB0LJANXX_ACTCTT_L002_R1.fastq\n",
      "TL4_CB0LJANXX_CCTGCT_L002_R1.fastq.gz /powerplant/workspace/hramzr/RNA_seq/trimmed /input/genomic/fish/Pseudocaranx/georgianus/Transcriptome/AGRF_CAGRF15066_CB0LJANXX TL4 /workspace/hramzr/RNA_seq/zfq/TL4_CB0LJANXX_CCTGCT_L002_R1.fastq\n",
      "TL5_CB0LJANXX_ACCAGT_L002_R1.fastq.gz /powerplant/workspace/hramzr/RNA_seq/trimmed /input/genomic/fish/Pseudocaranx/georgianus/Transcriptome/AGRF_CAGRF15066_CB0LJANXX TL5 /workspace/hramzr/RNA_seq/zfq/TL5_CB0LJANXX_ACCAGT_L002_R1.fastq\n",
      "TM1_CB0LJANXX_TTAACT_L002_R1.fastq.gz /powerplant/workspace/hramzr/RNA_seq/trimmed /input/genomic/fish/Pseudocaranx/georgianus/Transcriptome/AGRF_CAGRF15066_CB0LJANXX TM1 /workspace/hramzr/RNA_seq/zfq/TM1_CB0LJANXX_TTAACT_L002_R1.fastq\n",
      "TM2_CB0LJANXX_ATACTG_L002_R1.fastq.gz /powerplant/workspace/hramzr/RNA_seq/trimmed /input/genomic/fish/Pseudocaranx/georgianus/Transcriptome/AGRF_CAGRF15066_CB0LJANXX TM2 /workspace/hramzr/RNA_seq/zfq/TM2_CB0LJANXX_ATACTG_L002_R1.fastq\n",
      "TM3_CB0LJANXX_CAAGCA_L002_R1.fastq.gz /powerplant/workspace/hramzr/RNA_seq/trimmed /input/genomic/fish/Pseudocaranx/georgianus/Transcriptome/AGRF_CAGRF15066_CB0LJANXX TM3 /workspace/hramzr/RNA_seq/zfq/TM3_CB0LJANXX_CAAGCA_L002_R1.fastq\n",
      "TM4_CB0LJANXX_GTTACC_L002_R1.fastq.gz /powerplant/workspace/hramzr/RNA_seq/trimmed /input/genomic/fish/Pseudocaranx/georgianus/Transcriptome/AGRF_CAGRF15066_CB0LJANXX TM4 /workspace/hramzr/RNA_seq/zfq/TM4_CB0LJANXX_GTTACC_L002_R1.fastq\n",
      "TM5_CB0LJANXX_AAGACA_L002_R1.fastq.gz /powerplant/workspace/hramzr/RNA_seq/trimmed /input/genomic/fish/Pseudocaranx/georgianus/Transcriptome/AGRF_CAGRF15066_CB0LJANXX TM5 /workspace/hramzr/RNA_seq/zfq/TM5_CB0LJANXX_AAGACA_L002_R1.fastq\n",
      "TS1_CB0LJANXX_CACTAA_L002_R1.fastq.gz /powerplant/workspace/hramzr/RNA_seq/trimmed /input/genomic/fish/Pseudocaranx/georgianus/Transcriptome/AGRF_CAGRF15066_CB0LJANXX TS1 /workspace/hramzr/RNA_seq/zfq/TS1_CB0LJANXX_CACTAA_L002_R1.fastq\n",
      "TS2_CB0LJANXX_GGTGAG_L002_R1.fastq.gz /powerplant/workspace/hramzr/RNA_seq/trimmed /input/genomic/fish/Pseudocaranx/georgianus/Transcriptome/AGRF_CAGRF15066_CB0LJANXX TS2 /workspace/hramzr/RNA_seq/zfq/TS2_CB0LJANXX_GGTGAG_L002_R1.fastq\n",
      "TS3_CB0LJANXX_TGCACG_L002_R1.fastq.gz /powerplant/workspace/hramzr/RNA_seq/trimmed /input/genomic/fish/Pseudocaranx/georgianus/Transcriptome/AGRF_CAGRF15066_CB0LJANXX TS3 /workspace/hramzr/RNA_seq/zfq/TS3_CB0LJANXX_TGCACG_L002_R1.fastq\n",
      "TS4_CB0LJANXX_CGTCGC_L002_R1.fastq.gz /powerplant/workspace/hramzr/RNA_seq/trimmed /input/genomic/fish/Pseudocaranx/georgianus/Transcriptome/AGRF_CAGRF15066_CB0LJANXX TS4 /workspace/hramzr/RNA_seq/zfq/TS4_CB0LJANXX_CGTCGC_L002_R1.fastq\n",
      "TS5_CB0LJANXX_ATGAAC_L002_R1.fastq.gz /powerplant/workspace/hramzr/RNA_seq/trimmed /input/genomic/fish/Pseudocaranx/georgianus/Transcriptome/AGRF_CAGRF15066_CB0LJANXX TS5 /workspace/hramzr/RNA_seq/zfq/TS5_CB0LJANXX_ATGAAC_L002_R1.fastq\n"
     ]
    }
   ],
   "source": [
    "#prepare data loop.lst to loop through with tools\n",
    "fqdir=/input/genomic/fish/Pseudocaranx/georgianus/Transcriptome/AGRF_CAGRF15066_CB0LJANXX/\n",
    "ls ${fqdir} | egrep \"*gz\">untrimmed.lst\n",
    "cat untrimmed.lst | awk '{print $0, \"/powerplant/workspace/hramzr/RNA_seq/trimmed\",  \n",
    "\"/input/genomic/fish/Pseudocaranx/georgianus/Transcriptome/AGRF_CAGRF15066_CB0LJANXX\",substr($1,1,3)}'>loop.lst\n",
    "rm untrimmed.lst\n",
    "cat loop.lst | awk '{print $0, \"/workspace/hramzr/RNA_seq/zfq/\"substr($0,1,34)}'>loop2.lst\n",
    "cat loop2.lst"
   ]
  },
  {
   "cell_type": "code",
   "execution_count": null,
   "metadata": {},
   "outputs": [],
   "source": [
    "#######################################\n",
    "Input:\n",
    "1. loop.lst (TXT file with input data like directionaries and filenames)\n",
    "\n",
    "Function:\n",
    "Run Trimmomatic on the FASTQ.GZ files from loop.lst and filter them on quality.\n",
    "    \n",
    "Output:\n",
    "1. trimmed files(Trimmed FASTQ files)\n",
    "#######################################"
   ]
  },
  {
   "cell_type": "code",
   "execution_count": 131,
   "metadata": {},
   "outputs": [
    {
     "name": "stdout",
     "output_type": "stream",
     "text": [
      "Job <302428> is submitted to default queue <normal>.\n",
      "Job <302429> is submitted to default queue <normal>.\n",
      "Job <302430> is submitted to default queue <normal>.\n",
      "Job <302431> is submitted to default queue <normal>.\n",
      "Job <302432> is submitted to default queue <normal>.\n",
      "Job <302433> is submitted to default queue <normal>.\n",
      "Job <302434> is submitted to default queue <normal>.\n",
      "Job <302435> is submitted to default queue <normal>.\n",
      "Job <302436> is submitted to default queue <normal>.\n",
      "Job <302437> is submitted to default queue <normal>.\n",
      "Job <302438> is submitted to default queue <normal>.\n",
      "Job <302439> is submitted to default queue <normal>.\n",
      "Job <302440> is submitted to default queue <normal>.\n",
      "Job <302441> is submitted to default queue <normal>.\n",
      "Job <302442> is submitted to default queue <normal>.\n",
      "Job <302443> is submitted to default queue <normal>.\n",
      "Job <302444> is submitted to default queue <normal>.\n",
      "Job <302445> is submitted to default queue <normal>.\n",
      "Job <302446> is submitted to default queue <normal>.\n",
      "Job <302447> is submitted to default queue <normal>.\n",
      "Job <302448> is submitted to default queue <normal>.\n",
      "Job <302449> is submitted to default queue <normal>.\n",
      "Job <302450> is submitted to default queue <normal>.\n",
      "Job <302451> is submitted to default queue <normal>.\n",
      "Job <302452> is submitted to default queue <normal>.\n",
      "Job <302453> is submitted to default queue <normal>.\n",
      "Job <302454> is submitted to default queue <normal>.\n",
      "Job <302455> is submitted to default queue <normal>.\n",
      "Job <302456> is submitted to default queue <normal>.\n",
      "Job <302457> is submitted to default queue <normal>.\n",
      "Job <302458> is submitted to default queue <normal>.\n",
      "Job <302459> is submitted to default queue <normal>.\n",
      "Job <302460> is submitted to default queue <normal>.\n",
      "Job <302461> is submitted to default queue <normal>.\n",
      "Job <302462> is submitted to default queue <normal>.\n"
     ]
    }
   ],
   "source": [
    "#trim reads on quality and minlen for downstream analysis\n",
    "TRIMMOPATH=/software/bioinformatics/Trimmomatic-0.36\n",
    "while read -r FN TRPTH PTH TN\n",
    "do  \n",
    "    bsub -o log/trim.out -e log/trim.err \\\n",
    "    \"java -jar ${TRIMMOPATH}/trimmomatic-0.36.jar \\\n",
    "    SE -phred33 \\\n",
    "    ${PTH}/${FN} \\\n",
    "    ${TRPTH}/${TN}.fq.gz \\\n",
    "    ILLUMINACLIP:${TRIMMOPATH}/adapters/TruSeq3-PE.fa:2:30:10 \\\n",
    "    SLIDINGWINDOW:4:15 \\\n",
    "    MINLEN:50\"\n",
    "done < loop.lst"
   ]
  },
  {
   "cell_type": "code",
   "execution_count": null,
   "metadata": {},
   "outputs": [],
   "source": [
    "#######################################\n",
    "Input:\n",
    "1. nz_trevally.fasta(reference FASTA file of trevally)\n",
    "\n",
    "Function:\n",
    "Index reference FASTA as prerequisite step for mapping.\n",
    "    \n",
    "Output:\n",
    "1. nz_trevally.fasta.fai(indexed FASTA file)\n",
    "#######################################"
   ]
  },
  {
   "cell_type": "code",
   "execution_count": 3,
   "metadata": {},
   "outputs": [
    {
     "name": "stdout",
     "output_type": "stream",
     "text": [
      "Job <254019> is submitted to default queue <normal>.\n"
     ]
    }
   ],
   "source": [
    "#index in STAR format pre-map step\n",
    "module load STAR/2.6.1d\n",
    "genomedir=/powerplant/workspace/hramzr/RNA_seq/genome\n",
    "bsub -o log/index.out -e log/index.err \\\n",
    "\"STAR --runThreadN 6 \\\n",
    "--runMode genomeGenerate \\\n",
    "--genomeDir ${genomedir} \\\n",
    "--genomeFastaFiles /powerplant/workspace/hramzr/RNA_seq/genome/nz_trevally.fasta\""
   ]
  },
  {
   "cell_type": "code",
   "execution_count": null,
   "metadata": {},
   "outputs": [],
   "source": [
    "#######################################\n",
    "Input:\n",
    "1. loop2.lst(file with data pertaining to the trimmed FQ files, that will be used for mapping)\n",
    "2. nz_trevally.fasta.fai(indexed FASTA file)\n",
    "\n",
    "Function:\n",
    "Map the trimmed FASTQ files against the trevally reference sequence and create tissue sample and individual specific BAM files.\n",
    "    \n",
    "Output:\n",
    "1. [Tissue name][individual number]*.bam (bam files specific to trevally individual and tissue sample)\n",
    "#######################################"
   ]
  },
  {
   "cell_type": "code",
   "execution_count": 136,
   "metadata": {},
   "outputs": [
    {
     "name": "stdout",
     "output_type": "stream",
     "text": [
      "Job <303234> is submitted to default queue <normal>.\n",
      "Job <303235> is submitted to default queue <normal>.\n",
      "Job <303236> is submitted to default queue <normal>.\n",
      "Job <303237> is submitted to default queue <normal>.\n",
      "Job <303238> is submitted to default queue <normal>.\n",
      "Job <303239> is submitted to default queue <normal>.\n",
      "Job <303240> is submitted to default queue <normal>.\n",
      "Job <303241> is submitted to default queue <normal>.\n",
      "Job <303242> is submitted to default queue <normal>.\n",
      "Job <303243> is submitted to default queue <normal>.\n",
      "Job <303244> is submitted to default queue <normal>.\n",
      "Job <303245> is submitted to default queue <normal>.\n",
      "Job <303246> is submitted to default queue <normal>.\n",
      "Job <303247> is submitted to default queue <normal>.\n",
      "Job <303248> is submitted to default queue <normal>.\n",
      "Job <303249> is submitted to default queue <normal>.\n",
      "Job <303250> is submitted to default queue <normal>.\n",
      "Job <303251> is submitted to default queue <normal>.\n",
      "Job <303252> is submitted to default queue <normal>.\n",
      "Job <303253> is submitted to default queue <normal>.\n",
      "Job <303254> is submitted to default queue <normal>.\n",
      "Job <303255> is submitted to default queue <normal>.\n",
      "Job <303256> is submitted to default queue <normal>.\n",
      "Job <303257> is submitted to default queue <normal>.\n",
      "Job <303258> is submitted to default queue <normal>.\n",
      "Job <303259> is submitted to default queue <normal>.\n",
      "Job <303260> is submitted to default queue <normal>.\n",
      "Job <303261> is submitted to default queue <normal>.\n",
      "Job <303262> is submitted to default queue <normal>.\n",
      "Job <303263> is submitted to default queue <normal>.\n",
      "Job <303264> is submitted to default queue <normal>.\n",
      "Job <303265> is submitted to default queue <normal>.\n",
      "Job <303266> is submitted to default queue <normal>.\n",
      "Job <303267> is submitted to default queue <normal>.\n",
      "Job <303268> is submitted to default queue <normal>.\n"
     ]
    }
   ],
   "source": [
    "#mapping\n",
    "\n",
    "cp /input/genomic/fish/Pseudocaranx/georgianus/Transcriptome/AGRF_CAGRF15066_CB0LJANXX/*gz  /workspace/hramzr/RNA_seq/zfq\n",
    "gunzip /workspace/hramzr/RNA_seq/zfq/*gz\n",
    "\n",
    "module load STAR/2.6.1d\n",
    "TRIMMOPATH=/software/bioinformatics/Trimmomatic-0.36\n",
    "INDIR=/powerplant/workspace/hramzr/RNA_seq/genome/\n",
    "\n",
    "while read -r FN TRPTH PTH TN FQ\n",
    "do  \n",
    "    bsub -o log/star.out -e log/star.err \\\n",
    "    \"STAR --genomeDir ${INDIR} --readFilesIn ${FQ} --runThreadN 6 --outSAMtype BAM SortedByCoordinate --outFileNamePrefix bamfiles/${TN}_out\"\n",
    "done < loop2.lst\n"
   ]
  },
  {
   "cell_type": "code",
   "execution_count": null,
   "metadata": {},
   "outputs": [],
   "source": [
    "#######################################\n",
    "Input:\n",
    "1. bams.lst(list of all bamfiles)\n",
    "\n",
    "\n",
    "Function:\n",
    "Index all created bamfiles as a prerequisite step to depth calling.\n",
    "\n",
    "Output:\n",
    "1. *.bai (indexed bam files)\n",
    "#######################################"
   ]
  },
  {
   "cell_type": "code",
   "execution_count": 137,
   "metadata": {},
   "outputs": [
    {
     "name": "stdout",
     "output_type": "stream",
     "text": [
      "Job <303725> is submitted to default queue <normal>.\n",
      "Job <303726> is submitted to default queue <normal>.\n",
      "Job <303727> is submitted to default queue <normal>.\n",
      "Job <303728> is submitted to default queue <normal>.\n",
      "Job <303729> is submitted to default queue <normal>.\n",
      "Job <303730> is submitted to default queue <normal>.\n",
      "Job <303731> is submitted to default queue <normal>.\n",
      "Job <303732> is submitted to default queue <normal>.\n",
      "Job <303733> is submitted to default queue <normal>.\n",
      "Job <303734> is submitted to default queue <normal>.\n",
      "Job <303735> is submitted to default queue <normal>.\n",
      "Job <303736> is submitted to default queue <normal>.\n",
      "Job <303737> is submitted to default queue <normal>.\n",
      "Job <303738> is submitted to default queue <normal>.\n",
      "Job <303739> is submitted to default queue <normal>.\n",
      "Job <303740> is submitted to default queue <normal>.\n",
      "Job <303741> is submitted to default queue <normal>.\n",
      "Job <303742> is submitted to default queue <normal>.\n",
      "Job <303743> is submitted to default queue <normal>.\n",
      "Job <303744> is submitted to default queue <normal>.\n",
      "Job <303745> is submitted to default queue <normal>.\n",
      "Job <303746> is submitted to default queue <normal>.\n",
      "Job <303747> is submitted to default queue <normal>.\n",
      "Job <303748> is submitted to default queue <normal>.\n",
      "Job <303749> is submitted to default queue <normal>.\n",
      "Job <303750> is submitted to default queue <normal>.\n",
      "Job <303751> is submitted to default queue <normal>.\n",
      "Job <303752> is submitted to default queue <normal>.\n",
      "Job <303753> is submitted to default queue <normal>.\n",
      "Job <303754> is submitted to default queue <normal>.\n",
      "Job <303755> is submitted to default queue <normal>.\n",
      "Job <303756> is submitted to default queue <normal>.\n",
      "Job <303757> is submitted to default queue <normal>.\n",
      "Job <303758> is submitted to default queue <normal>.\n",
      "Job <303759> is submitted to default queue <normal>.\n"
     ]
    }
   ],
   "source": [
    "#index bamfiles\n",
    "module load samtools/1.7\n",
    "\n",
    "bamdir=/workspace/hramzr/RNA_seq/bamfiles/\n",
    "ls ${bamdir} | egrep \"*.bam$\">bams.lst\n",
    "while read -r BAM\n",
    "do\n",
    "    bsub \\\n",
    "    -o log/index.out -e log/index.err \\\n",
    "    \"samtools index ${bamdir}${BAM}\"\n",
    "done < bams.lst"
   ]
  },
  {
   "cell_type": "code",
   "execution_count": null,
   "metadata": {},
   "outputs": [],
   "source": [
    "#######################################\n",
    "Input:\n",
    "1. bams.lst(list of all bamfiles)\n",
    "\n",
    "\n",
    "Function:\n",
    "Call depth of all bamfiles within the sex gene region on scaffold 001800.\n",
    "This is done to look at coverage metrics of the RNA transcripts in regards to the sex determination gene.\n",
    "\n",
    "Output:\n",
    "1. *_depth (files with depth per individual and tissue sample)\n",
    "#######################################"
   ]
  },
  {
   "cell_type": "code",
   "execution_count": 138,
   "metadata": {},
   "outputs": [
    {
     "name": "stdout",
     "output_type": "stream",
     "text": [
      "Job <303760> is submitted to default queue <normal>.\n",
      "Job <303761> is submitted to default queue <normal>.\n",
      "Job <303762> is submitted to default queue <normal>.\n",
      "Job <303763> is submitted to default queue <normal>.\n",
      "Job <303764> is submitted to default queue <normal>.\n",
      "Job <303765> is submitted to default queue <normal>.\n",
      "Job <303766> is submitted to default queue <normal>.\n",
      "Job <303767> is submitted to default queue <normal>.\n",
      "Job <303768> is submitted to default queue <normal>.\n",
      "Job <303769> is submitted to default queue <normal>.\n",
      "Job <303770> is submitted to default queue <normal>.\n",
      "Job <303771> is submitted to default queue <normal>.\n",
      "Job <303772> is submitted to default queue <normal>.\n",
      "Job <303773> is submitted to default queue <normal>.\n",
      "Job <303774> is submitted to default queue <normal>.\n",
      "Job <303775> is submitted to default queue <normal>.\n",
      "Job <303776> is submitted to default queue <normal>.\n",
      "Job <303777> is submitted to default queue <normal>.\n",
      "Job <303778> is submitted to default queue <normal>.\n",
      "Job <303779> is submitted to default queue <normal>.\n",
      "Job <303780> is submitted to default queue <normal>.\n",
      "Job <303781> is submitted to default queue <normal>.\n",
      "Job <303782> is submitted to default queue <normal>.\n",
      "Job <303783> is submitted to default queue <normal>.\n",
      "Job <303784> is submitted to default queue <normal>.\n",
      "Job <303785> is submitted to default queue <normal>.\n",
      "Job <303786> is submitted to default queue <normal>.\n",
      "Job <303787> is submitted to default queue <normal>.\n",
      "Job <303788> is submitted to default queue <normal>.\n",
      "Job <303789> is submitted to default queue <normal>.\n",
      "Job <303790> is submitted to default queue <normal>.\n",
      "Job <303791> is submitted to default queue <normal>.\n",
      "Job <303792> is submitted to default queue <normal>.\n",
      "Job <303793> is submitted to default queue <normal>.\n",
      "Job <303794> is submitted to default queue <normal>.\n"
     ]
    }
   ],
   "source": [
    "module load samtools/1.7\n",
    "bamdir=/workspace/hramzr/RNA_seq/bamfiles/\n",
    "\n",
    "while read -r BAM\n",
    "do\n",
    "    bsub \\\n",
    "    -o log/dpth.out -e log/dpth.err \\\n",
    "    \"samtools depth -a -r trevally001800:200-2400 ${bamdir}${BAM} > depth_out/${BAM}_depth\" \n",
    "done < bams.lst"
   ]
  },
  {
   "cell_type": "code",
   "execution_count": null,
   "metadata": {},
   "outputs": [],
   "source": [
    "#######################################\n",
    "Input:\n",
    "1. bams2.lst(list of all bamfiles)\n",
    "\n",
    "Function:\n",
    "Print out an overview of transcripts that have a higher coverage than 0 per base on scaffold 001800 region 200-2400.\n",
    "\n",
    "Output:\n",
    "1. Bash output (overview of transcripts within sex determination gene region)\n",
    "\n",
    "Analysis conclusion:\n",
    "Coverage too slim to consider this as present, 2 coverage is slim, and over 19 bases on just one tissue sample and individual.\n",
    "== Gene NOT present on input tissue samples\n",
    "#######################################"
   ]
  },
  {
   "cell_type": "code",
   "execution_count": 141,
   "metadata": {},
   "outputs": [
    {
     "name": "stdout",
     "output_type": "stream",
     "text": [
      "trevally001800\t255\t2 TH1\n",
      "trevally001800\t256\t2 TH1\n",
      "trevally001800\t257\t2 TH1\n",
      "trevally001800\t258\t2 TH1\n",
      "trevally001800\t259\t2 TH1\n",
      "trevally001800\t260\t2 TH1\n",
      "trevally001800\t261\t2 TH1\n",
      "trevally001800\t262\t2 TH1\n",
      "trevally001800\t1097\t2 TH1\n",
      "trevally001800\t1098\t2 TH1\n",
      "trevally001800\t1099\t2 TH1\n",
      "trevally001800\t1100\t2 TH1\n",
      "trevally001800\t1101\t2 TH1\n",
      "trevally001800\t1102\t2 TH1\n",
      "trevally001800\t1103\t2 TH1\n",
      "trevally001800\t1104\t2 TH1\n",
      "trevally001800\t1105\t2 TH1\n",
      "trevally001800\t1106\t2 TH1\n",
      "trevally001800\t1107\t2 TH1\n"
     ]
    }
   ],
   "source": [
    "cat bams.lst | awk '{print $1, substr($1,1,3)}'>bams2.lst\n",
    "while read -r BAM ID\n",
    "do\n",
    "    cat depth_out/${BAM}_depth | awk '{if ($3>0) print $0, a}' a=${ID}\n",
    "done < bams2.lst"
   ]
  }
 ],
 "metadata": {
  "kernelspec": {
   "display_name": "Bash",
   "language": "bash",
   "name": "bash"
  },
  "language_info": {
   "codemirror_mode": "shell",
   "file_extension": ".sh",
   "mimetype": "text/x-sh",
   "name": "bash"
  }
 },
 "nbformat": 4,
 "nbformat_minor": 4
}
