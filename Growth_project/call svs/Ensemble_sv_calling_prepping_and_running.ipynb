{
 "cells": [
  {
   "cell_type": "markdown",
   "metadata": {},
   "source": [
    "# Filter bam files on quality 20"
   ]
  },
  {
   "cell_type": "code",
   "execution_count": null,
   "metadata": {},
   "outputs": [],
   "source": [
    "q20=/workspace/hramzr/2_Phd_PROJECT/VarCallingWGS/q20\n",
    "bams=$(ls /workspace/hramzr/2_Phd_PROJECT/WGS/IR/*.bam)\n",
    "module load samtools/1.7\n",
    "for bam in $bams\n",
    "do\n",
    "prefix=$(basename $bam | awk -F \"_\" '{print $1}')\n",
    "echo \"samtools view -hb -q 20 $bam -o ${q20}/${prefix}_q20.bam\"\n",
    "done | asub -j qfilter"
   ]
  },
  {
   "cell_type": "markdown",
   "metadata": {},
   "source": [
    "# Index q20 bamfiles"
   ]
  },
  {
   "cell_type": "code",
   "execution_count": null,
   "metadata": {},
   "outputs": [],
   "source": [
    "module load samtools/1.7\n",
    "for bam in $(ls /workspace/hramzr/2_Phd_PROJECT/VarCallingWGS/q20/*.bam)\n",
    "do\n",
    "    echo \"samtools index $bam\"\n",
    "done | asub -j index"
   ]
  },
  {
   "cell_type": "markdown",
   "metadata": {},
   "source": [
    "# Get Parliament2 ensemble caller Docker with singularity for usage on HPC server"
   ]
  },
  {
   "cell_type": "code",
   "execution_count": null,
   "metadata": {},
   "outputs": [],
   "source": [
    "# download docker for singularity\n",
    "module load singularity/2.6.1\n",
    "# singularity pull docker://sameerdcosta/parliament2\n",
    "bsub \\\n",
    "-J \"pull singularity docker\" \\\n",
    "\"singularity pull --name parliament2.simg docker://dnanexus/parliament2:latest\""
   ]
  },
  {
   "cell_type": "markdown",
   "metadata": {},
   "source": [
    "# Make separate directionaries for parliament"
   ]
  },
  {
   "cell_type": "code",
   "execution_count": null,
   "metadata": {},
   "outputs": [],
   "source": [
    "bams=$(ls /workspace/hramzr/2_Phd_PROJECT/VarCallingWGS/q20/*.bam)\n",
    "calldir=/workspace/hramzr/2_Phd_PROJECT/VarCallingWGS/parliament2_calling\n",
    "for bam in $bams\n",
    "do\n",
    "prefix=$(basename $bam | awk -F \"_\" '{print $1}')\n",
    "mkdir ${calldir}/$prefix\n",
    "mkdir ${calldir}/${prefix}/outputs\n",
    "done"
   ]
  },
  {
   "cell_type": "markdown",
   "metadata": {},
   "source": [
    "# Load bam, index and reference files into parliament directionaries"
   ]
  },
  {
   "cell_type": "code",
   "execution_count": null,
   "metadata": {},
   "outputs": [],
   "source": [
    "bams=$(ls /workspace/hramzr/2_Phd_PROJECT/VarCallingWGS/q20/*967038331*.bam)\n",
    "calldir=/workspace/hramzr/2_Phd_PROJECT/VarCallingWGS/parliament2_calling/\n",
    "ref=/workspace/hramzr/2_Phd_PROJECT/snapper_genome/Chrysophrys_auratus.v.1.0.chromosomes.male.map.fasta \n",
    "fai=${ref}.fai\n",
    "log=/workspace/hramzr/2_Phd_PROJECT/VarCallingWGS/logs\n",
    "for bam in $bams\n",
    "do\n",
    "prefix=$(basename $bam | awk -F \"_\" '{print $1}')\n",
    "bai=$(ls /workspace/hramzr/2_Phd_PROJECT/VarCallingWGS/q20/${prefix}*.bai)\n",
    "# echo $bai\n",
    "# echo $bam\n",
    "# echo $prefix\n",
    "# echo $fai\n",
    "# echo $ref\n",
    "bsub -o ${log}/cp.o -e ${log}/cp.e \\\n",
    "\"cp $bam ${calldir}${prefix}/\"\n",
    "bsub -o ${log}/cp.o -e ${log}/cp.e \\\n",
    "\"cp $bai ${calldir}${prefix}/\"\n",
    "bsub -o ${log}/cp.o -e ${log}/cp.e \\\n",
    "\"cp $ref ${calldir}${prefix}/\"\n",
    "bsub -o ${log}/cp.o -e ${log}/cp.e \\\n",
    "\"cp $fai ${calldir}${prefix}/\"\n",
    "bsub -o ${log}/cp.o -e ${log}/cp.e \\\n",
    "\"cp /workspace/hramzr/2_Phd_PROJECT/VarCallingWGS/parliament2.simg ${calldir}${prefix}/\"\n",
    "done"
   ]
  },
  {
   "cell_type": "markdown",
   "metadata": {},
   "source": [
    "# Run parliament2"
   ]
  },
  {
   "cell_type": "code",
   "execution_count": null,
   "metadata": {},
   "outputs": [],
   "source": [
    "module load singularity/2.6.1\n",
    "bams=$(ls /workspace/hramzr/2_Phd_PROJECT/VarCallingWGS/q20/*967038331*.bam)\n",
    "wdir=/workspace/hramzr/2_Phd_PROJECT/VarCallingWGS/parliament2_calling/\n",
    "out=/workspace/hramzr/2_Phd_PROJECT/VarCallingWGS/parliament2_out\n",
    "indir=/workspace/hramzr/2_Phd_PROJECT/VarCallingWGS/\n",
    "ref=Chrysophrys_auratus.v.1.0.chromosomes.male.map.fasta\n",
    "fai=Chrysophrys_auratus.v.1.0.chromosomes.male.map.fasta.fai\n",
    "log=/workspace/hramzr/2_Phd_PROJECT/VarCallingWGS/logs/\n",
    "for bam in $bams\n",
    "do\n",
    "prefix=$(basename $bam | awk -F \"_\" '{print $1}')\n",
    "cd ${wdir}${prefix}\n",
    "bsub \\\n",
    "-o ${log}sing.out -e ${log}sing.err -J \"sing\" \\\n",
    "-R \"rusage[mem=64000] span[hosts=1]\" \\\n",
    "\"singularity run -B ${wdir}${prefix}:/home/dnanexus/in,${wdir}${prefix}/outputs:/home/dnanexus/out parliament2.simg \\\n",
    "--bam ${prefix}_q20.bam --bai ${prefix}_q20.bam.bai --fai $fai -r $ref \\\n",
    "    --filter_short_contigs \\\n",
    "    --breakdancer \\\n",
    "    --breakseq \\\n",
    "    --manta \\\n",
    "    --cnvnator \\\n",
    "    --lumpy \\\n",
    "    --delly_deletion \\\n",
    "    --delly_insertion \\\n",
    "    --delly_inversion \\\n",
    "    --delly_duplication \\\n",
    "    --genotype\"\n",
    "done "
   ]
  },
  {
   "cell_type": "markdown",
   "metadata": {},
   "source": [
    "# Run FreeBayes"
   ]
  },
  {
   "cell_type": "code",
   "execution_count": null,
   "metadata": {},
   "outputs": [],
   "source": [
    "module load freebayes/1.1.0\n",
    "module load tabix/0.2.6\n",
    "module load samtools/1.7\n",
    "export TMPDIR=/workspace/hramzr/2_Phd_PROJECT/GBS/vcf_snapper/tmp\n",
    "\n",
    "OUT=\"/workspace/hramzr/2_Phd_PROJECT/VarCallingWGS/freebayes\"\n",
    "LOG=\"${OUT}/logs\"\n",
    "SAMPLES=\"/workspace/hramzr/2_Phd_PROJECT/VarCallingWGS/help_files/indvs\"\n",
    "PAR=\"/software/bioinformatics/freebayes-1.1.0/scripts\"\n",
    "ref=/workspace/hramzr/2_Phd_PROJECT/snapper_genome/Chrysophrys_auratus.v.1.0.chromosomes.male.map.fasta \n",
    "fai=${ref}.fai\n",
    "TEMP=/workspace/hramzr/2_Phd_PROJECT/VarCallingWGS/freebayes/tmp\n",
    "\n",
    "bsub << EOF\n",
    "#!/bin/bash\n",
    "#BSUB -J \"Free\"\n",
    "#BSUB -o ${LOG}/freeb.out \n",
    "#BSUB -e ${LOG}/freeb.err\n",
    "#BSUB -n 80\n",
    "#BSUB -R \"span[hosts=1]\"\n",
    "\n",
    "freebayes-parallel <($PAR/fasta_generate_regions.py $fai 1000000) 80 \\\n",
    "             -f ${ref} \\\n",
    "             -L ${SAMPLES} \\\n",
    "             --ploidy 2 \\\n",
    "             --report-genotype-likelihood-max \\\n",
    "             --min-base-quality 10 \\\n",
    "             --min-mapping-quality 20 \\\n",
    "             --genotype-qualities \\\n",
    "             --use-mapping-quality \\\n",
    "             --no-mnps \\\n",
    "             --no-complex \\\n",
    "             --max-complex-gap 50 \\\n",
    "             --min-alternate-fraction 0.1 \\\n",
    "             --min-repeat-entropy 1 \\\n",
    "             --no-partial-observations \\\n",
    "             --min-coverage 10 \\\n",
    "             --max-coverage 500 \\\n",
    "             --pooled-continuous>${OUT}/80_Samples_FB.vcf\n",
    "EOF"
   ]
  }
 ],
 "metadata": {
  "kernelspec": {
   "display_name": "Bash",
   "language": "bash",
   "name": "bash"
  },
  "language_info": {
   "codemirror_mode": {
    "name": "ipython",
    "version": 3
   },
   "file_extension": ".py",
   "mimetype": "text/x-python",
   "name": "python",
   "nbconvert_exporter": "python",
   "pygments_lexer": "ipython3",
   "version": "3.8.3"
  }
 },
 "nbformat": 4,
 "nbformat_minor": 4
}
